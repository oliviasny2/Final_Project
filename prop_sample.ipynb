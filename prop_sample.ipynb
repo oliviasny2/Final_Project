{
 "cells": [
  {
   "cell_type": "code",
   "execution_count": 1,
   "metadata": {},
   "outputs": [],
   "source": [
    "import pandas as pd\n",
    "from pathlib import Path\n",
    "import numpy as np"
   ]
  },
  {
   "cell_type": "code",
   "execution_count": 2,
   "metadata": {},
   "outputs": [
    {
     "data": {
      "text/html": [
       "<div>\n",
       "<style scoped>\n",
       "    .dataframe tbody tr th:only-of-type {\n",
       "        vertical-align: middle;\n",
       "    }\n",
       "\n",
       "    .dataframe tbody tr th {\n",
       "        vertical-align: top;\n",
       "    }\n",
       "\n",
       "    .dataframe thead th {\n",
       "        text-align: right;\n",
       "    }\n",
       "</style>\n",
       "<table border=\"1\" class=\"dataframe\">\n",
       "  <thead>\n",
       "    <tr style=\"text-align: right;\">\n",
       "      <th></th>\n",
       "      <th>as_of_year</th>\n",
       "      <th>respondent_id</th>\n",
       "      <th>agency_code</th>\n",
       "      <th>loan_type</th>\n",
       "      <th>property_type</th>\n",
       "      <th>loan_purpose</th>\n",
       "      <th>owner_occupancy</th>\n",
       "      <th>loan_amount_000s</th>\n",
       "      <th>preapproval</th>\n",
       "      <th>action_taken</th>\n",
       "      <th>...</th>\n",
       "      <th>lien_status</th>\n",
       "      <th>edit_status</th>\n",
       "      <th>sequence_number</th>\n",
       "      <th>population</th>\n",
       "      <th>minority_population</th>\n",
       "      <th>hud_median_family_income</th>\n",
       "      <th>tract_to_msamd_income</th>\n",
       "      <th>number_of_owner_occupied_units</th>\n",
       "      <th>number_of_1_to_4_family_units</th>\n",
       "      <th>application_date_indicator</th>\n",
       "    </tr>\n",
       "  </thead>\n",
       "  <tbody>\n",
       "    <tr>\n",
       "      <th>0</th>\n",
       "      <td>2017</td>\n",
       "      <td>0000342634</td>\n",
       "      <td>9</td>\n",
       "      <td>1</td>\n",
       "      <td>1</td>\n",
       "      <td>3</td>\n",
       "      <td>1</td>\n",
       "      <td>9.0</td>\n",
       "      <td>3</td>\n",
       "      <td>3</td>\n",
       "      <td>...</td>\n",
       "      <td>2</td>\n",
       "      <td>NaN</td>\n",
       "      <td>NaN</td>\n",
       "      <td>1948.0</td>\n",
       "      <td>12.58</td>\n",
       "      <td>59700.0</td>\n",
       "      <td>122.93</td>\n",
       "      <td>507.0</td>\n",
       "      <td>724.0</td>\n",
       "      <td>NaN</td>\n",
       "    </tr>\n",
       "    <tr>\n",
       "      <th>1</th>\n",
       "      <td>2017</td>\n",
       "      <td>0004186591</td>\n",
       "      <td>9</td>\n",
       "      <td>3</td>\n",
       "      <td>1</td>\n",
       "      <td>1</td>\n",
       "      <td>1</td>\n",
       "      <td>94.0</td>\n",
       "      <td>3</td>\n",
       "      <td>6</td>\n",
       "      <td>...</td>\n",
       "      <td>4</td>\n",
       "      <td>NaN</td>\n",
       "      <td>NaN</td>\n",
       "      <td>1948.0</td>\n",
       "      <td>12.58</td>\n",
       "      <td>59700.0</td>\n",
       "      <td>122.93</td>\n",
       "      <td>507.0</td>\n",
       "      <td>724.0</td>\n",
       "      <td>NaN</td>\n",
       "    </tr>\n",
       "    <tr>\n",
       "      <th>2</th>\n",
       "      <td>2017</td>\n",
       "      <td>22-3039688</td>\n",
       "      <td>7</td>\n",
       "      <td>3</td>\n",
       "      <td>1</td>\n",
       "      <td>3</td>\n",
       "      <td>1</td>\n",
       "      <td>161.0</td>\n",
       "      <td>3</td>\n",
       "      <td>5</td>\n",
       "      <td>...</td>\n",
       "      <td>1</td>\n",
       "      <td>NaN</td>\n",
       "      <td>NaN</td>\n",
       "      <td>1948.0</td>\n",
       "      <td>12.58</td>\n",
       "      <td>59700.0</td>\n",
       "      <td>122.93</td>\n",
       "      <td>507.0</td>\n",
       "      <td>724.0</td>\n",
       "      <td>NaN</td>\n",
       "    </tr>\n",
       "    <tr>\n",
       "      <th>3</th>\n",
       "      <td>2017</td>\n",
       "      <td>20-3878295</td>\n",
       "      <td>5</td>\n",
       "      <td>1</td>\n",
       "      <td>1</td>\n",
       "      <td>2</td>\n",
       "      <td>1</td>\n",
       "      <td>90.0</td>\n",
       "      <td>3</td>\n",
       "      <td>1</td>\n",
       "      <td>...</td>\n",
       "      <td>1</td>\n",
       "      <td>NaN</td>\n",
       "      <td>NaN</td>\n",
       "      <td>1948.0</td>\n",
       "      <td>12.58</td>\n",
       "      <td>59700.0</td>\n",
       "      <td>122.93</td>\n",
       "      <td>507.0</td>\n",
       "      <td>724.0</td>\n",
       "      <td>NaN</td>\n",
       "    </tr>\n",
       "    <tr>\n",
       "      <th>4</th>\n",
       "      <td>2017</td>\n",
       "      <td>0000342634</td>\n",
       "      <td>9</td>\n",
       "      <td>1</td>\n",
       "      <td>1</td>\n",
       "      <td>3</td>\n",
       "      <td>2</td>\n",
       "      <td>41.0</td>\n",
       "      <td>3</td>\n",
       "      <td>1</td>\n",
       "      <td>...</td>\n",
       "      <td>1</td>\n",
       "      <td>NaN</td>\n",
       "      <td>NaN</td>\n",
       "      <td>1948.0</td>\n",
       "      <td>12.58</td>\n",
       "      <td>59700.0</td>\n",
       "      <td>122.93</td>\n",
       "      <td>507.0</td>\n",
       "      <td>724.0</td>\n",
       "      <td>NaN</td>\n",
       "    </tr>\n",
       "    <tr>\n",
       "      <th>5</th>\n",
       "      <td>2017</td>\n",
       "      <td>68-0309242</td>\n",
       "      <td>7</td>\n",
       "      <td>3</td>\n",
       "      <td>1</td>\n",
       "      <td>3</td>\n",
       "      <td>1</td>\n",
       "      <td>146.0</td>\n",
       "      <td>3</td>\n",
       "      <td>6</td>\n",
       "      <td>...</td>\n",
       "      <td>4</td>\n",
       "      <td>NaN</td>\n",
       "      <td>NaN</td>\n",
       "      <td>1948.0</td>\n",
       "      <td>12.58</td>\n",
       "      <td>59700.0</td>\n",
       "      <td>122.93</td>\n",
       "      <td>507.0</td>\n",
       "      <td>724.0</td>\n",
       "      <td>NaN</td>\n",
       "    </tr>\n",
       "    <tr>\n",
       "      <th>6</th>\n",
       "      <td>2017</td>\n",
       "      <td>0000013303</td>\n",
       "      <td>3</td>\n",
       "      <td>2</td>\n",
       "      <td>1</td>\n",
       "      <td>1</td>\n",
       "      <td>1</td>\n",
       "      <td>76.0</td>\n",
       "      <td>3</td>\n",
       "      <td>1</td>\n",
       "      <td>...</td>\n",
       "      <td>1</td>\n",
       "      <td>NaN</td>\n",
       "      <td>NaN</td>\n",
       "      <td>1948.0</td>\n",
       "      <td>12.58</td>\n",
       "      <td>59700.0</td>\n",
       "      <td>122.93</td>\n",
       "      <td>507.0</td>\n",
       "      <td>724.0</td>\n",
       "      <td>NaN</td>\n",
       "    </tr>\n",
       "    <tr>\n",
       "      <th>7</th>\n",
       "      <td>2017</td>\n",
       "      <td>0000808176</td>\n",
       "      <td>9</td>\n",
       "      <td>1</td>\n",
       "      <td>1</td>\n",
       "      <td>3</td>\n",
       "      <td>1</td>\n",
       "      <td>175.0</td>\n",
       "      <td>3</td>\n",
       "      <td>4</td>\n",
       "      <td>...</td>\n",
       "      <td>1</td>\n",
       "      <td>NaN</td>\n",
       "      <td>NaN</td>\n",
       "      <td>1948.0</td>\n",
       "      <td>12.58</td>\n",
       "      <td>59700.0</td>\n",
       "      <td>122.93</td>\n",
       "      <td>507.0</td>\n",
       "      <td>724.0</td>\n",
       "      <td>NaN</td>\n",
       "    </tr>\n",
       "    <tr>\n",
       "      <th>8</th>\n",
       "      <td>2017</td>\n",
       "      <td>3027509990</td>\n",
       "      <td>7</td>\n",
       "      <td>3</td>\n",
       "      <td>1</td>\n",
       "      <td>3</td>\n",
       "      <td>1</td>\n",
       "      <td>186.0</td>\n",
       "      <td>3</td>\n",
       "      <td>1</td>\n",
       "      <td>...</td>\n",
       "      <td>1</td>\n",
       "      <td>NaN</td>\n",
       "      <td>NaN</td>\n",
       "      <td>1948.0</td>\n",
       "      <td>12.58</td>\n",
       "      <td>59700.0</td>\n",
       "      <td>122.93</td>\n",
       "      <td>507.0</td>\n",
       "      <td>724.0</td>\n",
       "      <td>NaN</td>\n",
       "    </tr>\n",
       "    <tr>\n",
       "      <th>9</th>\n",
       "      <td>2017</td>\n",
       "      <td>0471809999</td>\n",
       "      <td>7</td>\n",
       "      <td>1</td>\n",
       "      <td>1</td>\n",
       "      <td>3</td>\n",
       "      <td>1</td>\n",
       "      <td>106.0</td>\n",
       "      <td>3</td>\n",
       "      <td>1</td>\n",
       "      <td>...</td>\n",
       "      <td>1</td>\n",
       "      <td>NaN</td>\n",
       "      <td>NaN</td>\n",
       "      <td>1948.0</td>\n",
       "      <td>12.58</td>\n",
       "      <td>59700.0</td>\n",
       "      <td>122.93</td>\n",
       "      <td>507.0</td>\n",
       "      <td>724.0</td>\n",
       "      <td>NaN</td>\n",
       "    </tr>\n",
       "  </tbody>\n",
       "</table>\n",
       "<p>10 rows × 45 columns</p>\n",
       "</div>"
      ],
      "text/plain": [
       "   as_of_year respondent_id  agency_code  loan_type  property_type  \\\n",
       "0        2017    0000342634            9          1              1   \n",
       "1        2017    0004186591            9          3              1   \n",
       "2        2017    22-3039688            7          3              1   \n",
       "3        2017    20-3878295            5          1              1   \n",
       "4        2017    0000342634            9          1              1   \n",
       "5        2017    68-0309242            7          3              1   \n",
       "6        2017    0000013303            3          2              1   \n",
       "7        2017    0000808176            9          1              1   \n",
       "8        2017    3027509990            7          3              1   \n",
       "9        2017    0471809999            7          1              1   \n",
       "\n",
       "   loan_purpose  owner_occupancy  loan_amount_000s  preapproval  action_taken  \\\n",
       "0             3                1               9.0            3             3   \n",
       "1             1                1              94.0            3             6   \n",
       "2             3                1             161.0            3             5   \n",
       "3             2                1              90.0            3             1   \n",
       "4             3                2              41.0            3             1   \n",
       "5             3                1             146.0            3             6   \n",
       "6             1                1              76.0            3             1   \n",
       "7             3                1             175.0            3             4   \n",
       "8             3                1             186.0            3             1   \n",
       "9             3                1             106.0            3             1   \n",
       "\n",
       "   ...  lien_status  edit_status  sequence_number  population  \\\n",
       "0  ...            2          NaN              NaN      1948.0   \n",
       "1  ...            4          NaN              NaN      1948.0   \n",
       "2  ...            1          NaN              NaN      1948.0   \n",
       "3  ...            1          NaN              NaN      1948.0   \n",
       "4  ...            1          NaN              NaN      1948.0   \n",
       "5  ...            4          NaN              NaN      1948.0   \n",
       "6  ...            1          NaN              NaN      1948.0   \n",
       "7  ...            1          NaN              NaN      1948.0   \n",
       "8  ...            1          NaN              NaN      1948.0   \n",
       "9  ...            1          NaN              NaN      1948.0   \n",
       "\n",
       "   minority_population  hud_median_family_income  tract_to_msamd_income  \\\n",
       "0                12.58                   59700.0                 122.93   \n",
       "1                12.58                   59700.0                 122.93   \n",
       "2                12.58                   59700.0                 122.93   \n",
       "3                12.58                   59700.0                 122.93   \n",
       "4                12.58                   59700.0                 122.93   \n",
       "5                12.58                   59700.0                 122.93   \n",
       "6                12.58                   59700.0                 122.93   \n",
       "7                12.58                   59700.0                 122.93   \n",
       "8                12.58                   59700.0                 122.93   \n",
       "9                12.58                   59700.0                 122.93   \n",
       "\n",
       "   number_of_owner_occupied_units  number_of_1_to_4_family_units  \\\n",
       "0                           507.0                          724.0   \n",
       "1                           507.0                          724.0   \n",
       "2                           507.0                          724.0   \n",
       "3                           507.0                          724.0   \n",
       "4                           507.0                          724.0   \n",
       "5                           507.0                          724.0   \n",
       "6                           507.0                          724.0   \n",
       "7                           507.0                          724.0   \n",
       "8                           507.0                          724.0   \n",
       "9                           507.0                          724.0   \n",
       "\n",
       "   application_date_indicator  \n",
       "0                         NaN  \n",
       "1                         NaN  \n",
       "2                         NaN  \n",
       "3                         NaN  \n",
       "4                         NaN  \n",
       "5                         NaN  \n",
       "6                         NaN  \n",
       "7                         NaN  \n",
       "8                         NaN  \n",
       "9                         NaN  \n",
       "\n",
       "[10 rows x 45 columns]"
      ]
     },
     "execution_count": 2,
     "metadata": {},
     "output_type": "execute_result"
    }
   ],
   "source": [
    "# Load data\n",
    "file_path = Path(\"Resources/hmda_2017_nationwide_all-records_codes.csv\")\n",
    "df = pd.read_csv(file_path)\n",
    "df.head(10)"
   ]
  },
  {
   "cell_type": "code",
   "execution_count": 3,
   "metadata": {},
   "outputs": [
    {
     "data": {
      "text/plain": [
       "as_of_year                        14285496\n",
       "respondent_id                     14285496\n",
       "agency_code                       14285496\n",
       "loan_type                         14285496\n",
       "property_type                     14285496\n",
       "loan_purpose                      14285496\n",
       "owner_occupancy                   14285496\n",
       "loan_amount_000s                  14280460\n",
       "preapproval                       14285496\n",
       "action_taken                      14285496\n",
       "msamd                             12494446\n",
       "state_code                        14088338\n",
       "county_code                       14039899\n",
       "census_tract_number               14001194\n",
       "applicant_ethnicity               14285496\n",
       "co_applicant_ethnicity            14285496\n",
       "applicant_race_1                  14285496\n",
       "applicant_race_2                     90382\n",
       "applicant_race_3                      6990\n",
       "applicant_race_4                      1644\n",
       "applicant_race_5                      1084\n",
       "co_applicant_race_1               14285496\n",
       "co_applicant_race_2                  30414\n",
       "co_applicant_race_3                   2144\n",
       "co_applicant_race_4                    664\n",
       "co_applicant_race_5                    349\n",
       "applicant_sex                     14285496\n",
       "co_applicant_sex                  14285496\n",
       "applicant_income_000s             12389632\n",
       "purchaser_type                    14285496\n",
       "denial_reason_1                    1411970\n",
       "denial_reason_2                     305152\n",
       "denial_reason_3                      49338\n",
       "rate_spread                         493273\n",
       "hoepa_status                      14285496\n",
       "lien_status                       14285496\n",
       "edit_status                              0\n",
       "sequence_number                          0\n",
       "population                        14001188\n",
       "minority_population               14001144\n",
       "hud_median_family_income          14001188\n",
       "tract_to_msamd_income             14001188\n",
       "number_of_owner_occupied_units    14001144\n",
       "number_of_1_to_4_family_units     14001144\n",
       "application_date_indicator               0\n",
       "dtype: int64"
      ]
     },
     "execution_count": 3,
     "metadata": {},
     "output_type": "execute_result"
    }
   ],
   "source": [
    "df.count()"
   ]
  },
  {
   "cell_type": "code",
   "execution_count": 4,
   "metadata": {},
   "outputs": [
    {
     "data": {
      "text/html": [
       "<div>\n",
       "<style scoped>\n",
       "    .dataframe tbody tr th:only-of-type {\n",
       "        vertical-align: middle;\n",
       "    }\n",
       "\n",
       "    .dataframe tbody tr th {\n",
       "        vertical-align: top;\n",
       "    }\n",
       "\n",
       "    .dataframe thead th {\n",
       "        text-align: right;\n",
       "    }\n",
       "</style>\n",
       "<table border=\"1\" class=\"dataframe\">\n",
       "  <thead>\n",
       "    <tr style=\"text-align: right;\">\n",
       "      <th></th>\n",
       "      <th>as_of_year</th>\n",
       "      <th>agency_code</th>\n",
       "      <th>loan_type</th>\n",
       "      <th>property_type</th>\n",
       "      <th>loan_purpose</th>\n",
       "      <th>owner_occupancy</th>\n",
       "      <th>loan_amount_000s</th>\n",
       "      <th>preapproval</th>\n",
       "      <th>action_taken</th>\n",
       "      <th>state_code</th>\n",
       "      <th>...</th>\n",
       "      <th>applicant_income_000s</th>\n",
       "      <th>purchaser_type</th>\n",
       "      <th>hoepa_status</th>\n",
       "      <th>lien_status</th>\n",
       "      <th>population</th>\n",
       "      <th>minority_population</th>\n",
       "      <th>hud_median_family_income</th>\n",
       "      <th>tract_to_msamd_income</th>\n",
       "      <th>number_of_owner_occupied_units</th>\n",
       "      <th>number_of_1_to_4_family_units</th>\n",
       "    </tr>\n",
       "  </thead>\n",
       "  <tbody>\n",
       "    <tr>\n",
       "      <th>0</th>\n",
       "      <td>2017</td>\n",
       "      <td>9</td>\n",
       "      <td>1</td>\n",
       "      <td>1</td>\n",
       "      <td>3</td>\n",
       "      <td>1</td>\n",
       "      <td>9.0</td>\n",
       "      <td>3</td>\n",
       "      <td>3</td>\n",
       "      <td>1.0</td>\n",
       "      <td>...</td>\n",
       "      <td>54.0</td>\n",
       "      <td>0</td>\n",
       "      <td>2</td>\n",
       "      <td>2</td>\n",
       "      <td>1948.0</td>\n",
       "      <td>12.58</td>\n",
       "      <td>59700.0</td>\n",
       "      <td>122.93</td>\n",
       "      <td>507.0</td>\n",
       "      <td>724.0</td>\n",
       "    </tr>\n",
       "    <tr>\n",
       "      <th>1</th>\n",
       "      <td>2017</td>\n",
       "      <td>9</td>\n",
       "      <td>3</td>\n",
       "      <td>1</td>\n",
       "      <td>1</td>\n",
       "      <td>1</td>\n",
       "      <td>94.0</td>\n",
       "      <td>3</td>\n",
       "      <td>6</td>\n",
       "      <td>1.0</td>\n",
       "      <td>...</td>\n",
       "      <td>NaN</td>\n",
       "      <td>2</td>\n",
       "      <td>2</td>\n",
       "      <td>4</td>\n",
       "      <td>1948.0</td>\n",
       "      <td>12.58</td>\n",
       "      <td>59700.0</td>\n",
       "      <td>122.93</td>\n",
       "      <td>507.0</td>\n",
       "      <td>724.0</td>\n",
       "    </tr>\n",
       "    <tr>\n",
       "      <th>2</th>\n",
       "      <td>2017</td>\n",
       "      <td>7</td>\n",
       "      <td>3</td>\n",
       "      <td>1</td>\n",
       "      <td>3</td>\n",
       "      <td>1</td>\n",
       "      <td>161.0</td>\n",
       "      <td>3</td>\n",
       "      <td>5</td>\n",
       "      <td>1.0</td>\n",
       "      <td>...</td>\n",
       "      <td>64.0</td>\n",
       "      <td>0</td>\n",
       "      <td>2</td>\n",
       "      <td>1</td>\n",
       "      <td>1948.0</td>\n",
       "      <td>12.58</td>\n",
       "      <td>59700.0</td>\n",
       "      <td>122.93</td>\n",
       "      <td>507.0</td>\n",
       "      <td>724.0</td>\n",
       "    </tr>\n",
       "    <tr>\n",
       "      <th>3</th>\n",
       "      <td>2017</td>\n",
       "      <td>5</td>\n",
       "      <td>1</td>\n",
       "      <td>1</td>\n",
       "      <td>2</td>\n",
       "      <td>1</td>\n",
       "      <td>90.0</td>\n",
       "      <td>3</td>\n",
       "      <td>1</td>\n",
       "      <td>1.0</td>\n",
       "      <td>...</td>\n",
       "      <td>61.0</td>\n",
       "      <td>1</td>\n",
       "      <td>2</td>\n",
       "      <td>1</td>\n",
       "      <td>1948.0</td>\n",
       "      <td>12.58</td>\n",
       "      <td>59700.0</td>\n",
       "      <td>122.93</td>\n",
       "      <td>507.0</td>\n",
       "      <td>724.0</td>\n",
       "    </tr>\n",
       "    <tr>\n",
       "      <th>4</th>\n",
       "      <td>2017</td>\n",
       "      <td>9</td>\n",
       "      <td>1</td>\n",
       "      <td>1</td>\n",
       "      <td>3</td>\n",
       "      <td>2</td>\n",
       "      <td>41.0</td>\n",
       "      <td>3</td>\n",
       "      <td>1</td>\n",
       "      <td>1.0</td>\n",
       "      <td>...</td>\n",
       "      <td>133.0</td>\n",
       "      <td>0</td>\n",
       "      <td>2</td>\n",
       "      <td>1</td>\n",
       "      <td>1948.0</td>\n",
       "      <td>12.58</td>\n",
       "      <td>59700.0</td>\n",
       "      <td>122.93</td>\n",
       "      <td>507.0</td>\n",
       "      <td>724.0</td>\n",
       "    </tr>\n",
       "    <tr>\n",
       "      <th>5</th>\n",
       "      <td>2017</td>\n",
       "      <td>7</td>\n",
       "      <td>3</td>\n",
       "      <td>1</td>\n",
       "      <td>3</td>\n",
       "      <td>1</td>\n",
       "      <td>146.0</td>\n",
       "      <td>3</td>\n",
       "      <td>6</td>\n",
       "      <td>1.0</td>\n",
       "      <td>...</td>\n",
       "      <td>NaN</td>\n",
       "      <td>2</td>\n",
       "      <td>2</td>\n",
       "      <td>4</td>\n",
       "      <td>1948.0</td>\n",
       "      <td>12.58</td>\n",
       "      <td>59700.0</td>\n",
       "      <td>122.93</td>\n",
       "      <td>507.0</td>\n",
       "      <td>724.0</td>\n",
       "    </tr>\n",
       "    <tr>\n",
       "      <th>6</th>\n",
       "      <td>2017</td>\n",
       "      <td>3</td>\n",
       "      <td>2</td>\n",
       "      <td>1</td>\n",
       "      <td>1</td>\n",
       "      <td>1</td>\n",
       "      <td>76.0</td>\n",
       "      <td>3</td>\n",
       "      <td>1</td>\n",
       "      <td>1.0</td>\n",
       "      <td>...</td>\n",
       "      <td>87.0</td>\n",
       "      <td>6</td>\n",
       "      <td>2</td>\n",
       "      <td>1</td>\n",
       "      <td>1948.0</td>\n",
       "      <td>12.58</td>\n",
       "      <td>59700.0</td>\n",
       "      <td>122.93</td>\n",
       "      <td>507.0</td>\n",
       "      <td>724.0</td>\n",
       "    </tr>\n",
       "    <tr>\n",
       "      <th>7</th>\n",
       "      <td>2017</td>\n",
       "      <td>9</td>\n",
       "      <td>1</td>\n",
       "      <td>1</td>\n",
       "      <td>3</td>\n",
       "      <td>1</td>\n",
       "      <td>175.0</td>\n",
       "      <td>3</td>\n",
       "      <td>4</td>\n",
       "      <td>1.0</td>\n",
       "      <td>...</td>\n",
       "      <td>33.0</td>\n",
       "      <td>0</td>\n",
       "      <td>2</td>\n",
       "      <td>1</td>\n",
       "      <td>1948.0</td>\n",
       "      <td>12.58</td>\n",
       "      <td>59700.0</td>\n",
       "      <td>122.93</td>\n",
       "      <td>507.0</td>\n",
       "      <td>724.0</td>\n",
       "    </tr>\n",
       "    <tr>\n",
       "      <th>8</th>\n",
       "      <td>2017</td>\n",
       "      <td>7</td>\n",
       "      <td>3</td>\n",
       "      <td>1</td>\n",
       "      <td>3</td>\n",
       "      <td>1</td>\n",
       "      <td>186.0</td>\n",
       "      <td>3</td>\n",
       "      <td>1</td>\n",
       "      <td>1.0</td>\n",
       "      <td>...</td>\n",
       "      <td>76.0</td>\n",
       "      <td>2</td>\n",
       "      <td>2</td>\n",
       "      <td>1</td>\n",
       "      <td>1948.0</td>\n",
       "      <td>12.58</td>\n",
       "      <td>59700.0</td>\n",
       "      <td>122.93</td>\n",
       "      <td>507.0</td>\n",
       "      <td>724.0</td>\n",
       "    </tr>\n",
       "    <tr>\n",
       "      <th>9</th>\n",
       "      <td>2017</td>\n",
       "      <td>7</td>\n",
       "      <td>1</td>\n",
       "      <td>1</td>\n",
       "      <td>3</td>\n",
       "      <td>1</td>\n",
       "      <td>106.0</td>\n",
       "      <td>3</td>\n",
       "      <td>1</td>\n",
       "      <td>1.0</td>\n",
       "      <td>...</td>\n",
       "      <td>50.0</td>\n",
       "      <td>1</td>\n",
       "      <td>2</td>\n",
       "      <td>1</td>\n",
       "      <td>1948.0</td>\n",
       "      <td>12.58</td>\n",
       "      <td>59700.0</td>\n",
       "      <td>122.93</td>\n",
       "      <td>507.0</td>\n",
       "      <td>724.0</td>\n",
       "    </tr>\n",
       "  </tbody>\n",
       "</table>\n",
       "<p>10 rows × 28 columns</p>\n",
       "</div>"
      ],
      "text/plain": [
       "   as_of_year  agency_code  loan_type  property_type  loan_purpose  \\\n",
       "0        2017            9          1              1             3   \n",
       "1        2017            9          3              1             1   \n",
       "2        2017            7          3              1             3   \n",
       "3        2017            5          1              1             2   \n",
       "4        2017            9          1              1             3   \n",
       "5        2017            7          3              1             3   \n",
       "6        2017            3          2              1             1   \n",
       "7        2017            9          1              1             3   \n",
       "8        2017            7          3              1             3   \n",
       "9        2017            7          1              1             3   \n",
       "\n",
       "   owner_occupancy  loan_amount_000s  preapproval  action_taken  state_code  \\\n",
       "0                1               9.0            3             3         1.0   \n",
       "1                1              94.0            3             6         1.0   \n",
       "2                1             161.0            3             5         1.0   \n",
       "3                1              90.0            3             1         1.0   \n",
       "4                2              41.0            3             1         1.0   \n",
       "5                1             146.0            3             6         1.0   \n",
       "6                1              76.0            3             1         1.0   \n",
       "7                1             175.0            3             4         1.0   \n",
       "8                1             186.0            3             1         1.0   \n",
       "9                1             106.0            3             1         1.0   \n",
       "\n",
       "   ...  applicant_income_000s  purchaser_type  hoepa_status  lien_status  \\\n",
       "0  ...                   54.0               0             2            2   \n",
       "1  ...                    NaN               2             2            4   \n",
       "2  ...                   64.0               0             2            1   \n",
       "3  ...                   61.0               1             2            1   \n",
       "4  ...                  133.0               0             2            1   \n",
       "5  ...                    NaN               2             2            4   \n",
       "6  ...                   87.0               6             2            1   \n",
       "7  ...                   33.0               0             2            1   \n",
       "8  ...                   76.0               2             2            1   \n",
       "9  ...                   50.0               1             2            1   \n",
       "\n",
       "   population  minority_population  hud_median_family_income  \\\n",
       "0      1948.0                12.58                   59700.0   \n",
       "1      1948.0                12.58                   59700.0   \n",
       "2      1948.0                12.58                   59700.0   \n",
       "3      1948.0                12.58                   59700.0   \n",
       "4      1948.0                12.58                   59700.0   \n",
       "5      1948.0                12.58                   59700.0   \n",
       "6      1948.0                12.58                   59700.0   \n",
       "7      1948.0                12.58                   59700.0   \n",
       "8      1948.0                12.58                   59700.0   \n",
       "9      1948.0                12.58                   59700.0   \n",
       "\n",
       "   tract_to_msamd_income  number_of_owner_occupied_units  \\\n",
       "0                 122.93                           507.0   \n",
       "1                 122.93                           507.0   \n",
       "2                 122.93                           507.0   \n",
       "3                 122.93                           507.0   \n",
       "4                 122.93                           507.0   \n",
       "5                 122.93                           507.0   \n",
       "6                 122.93                           507.0   \n",
       "7                 122.93                           507.0   \n",
       "8                 122.93                           507.0   \n",
       "9                 122.93                           507.0   \n",
       "\n",
       "   number_of_1_to_4_family_units  \n",
       "0                          724.0  \n",
       "1                          724.0  \n",
       "2                          724.0  \n",
       "3                          724.0  \n",
       "4                          724.0  \n",
       "5                          724.0  \n",
       "6                          724.0  \n",
       "7                          724.0  \n",
       "8                          724.0  \n",
       "9                          724.0  \n",
       "\n",
       "[10 rows x 28 columns]"
      ]
     },
     "execution_count": 4,
     "metadata": {},
     "output_type": "execute_result"
    }
   ],
   "source": [
    "# Drop unnecessary columns\n",
    "df2 = df.drop(columns=[\"respondent_id\", \"applicant_race_2\", \"applicant_race_3\", \"applicant_race_4\", \"applicant_race_5\",\n",
    "                        \"co_applicant_race_2\", \"co_applicant_race_3\", \"co_applicant_race_4\", \"co_applicant_race_5\",\n",
    "                        \"denial_reason_2\", \"denial_reason_3\", \"rate_spread\", \"edit_status\", \"sequence_number\", \"application_date_indicator\", \"denial_reason_1\", \"msamd\"])\n",
    "df2.head(10)"
   ]
  },
  {
   "cell_type": "code",
   "execution_count": 5,
   "metadata": {},
   "outputs": [
    {
     "data": {
      "text/plain": [
       "as_of_year                        14285496\n",
       "agency_code                       14285496\n",
       "loan_type                         14285496\n",
       "property_type                     14285496\n",
       "loan_purpose                      14285496\n",
       "owner_occupancy                   14285496\n",
       "loan_amount_000s                  14280460\n",
       "preapproval                       14285496\n",
       "action_taken                      14285496\n",
       "state_code                        14088338\n",
       "county_code                       14039899\n",
       "census_tract_number               14001194\n",
       "applicant_ethnicity               14285496\n",
       "co_applicant_ethnicity            14285496\n",
       "applicant_race_1                  14285496\n",
       "co_applicant_race_1               14285496\n",
       "applicant_sex                     14285496\n",
       "co_applicant_sex                  14285496\n",
       "applicant_income_000s             12389632\n",
       "purchaser_type                    14285496\n",
       "hoepa_status                      14285496\n",
       "lien_status                       14285496\n",
       "population                        14001188\n",
       "minority_population               14001144\n",
       "hud_median_family_income          14001188\n",
       "tract_to_msamd_income             14001188\n",
       "number_of_owner_occupied_units    14001144\n",
       "number_of_1_to_4_family_units     14001144\n",
       "dtype: int64"
      ]
     },
     "execution_count": 5,
     "metadata": {},
     "output_type": "execute_result"
    }
   ],
   "source": [
    "df2.count()"
   ]
  },
  {
   "cell_type": "code",
   "execution_count": 6,
   "metadata": {},
   "outputs": [],
   "source": [
    "# drop more unnecessary columns\n",
    "df3 = df2.drop(columns=[\"as_of_year\", \"county_code\", \"census_tract_number\"])"
   ]
  },
  {
   "cell_type": "code",
   "execution_count": 7,
   "metadata": {},
   "outputs": [
    {
     "data": {
      "text/plain": [
       "agency_code                             0\n",
       "loan_type                               0\n",
       "property_type                           0\n",
       "loan_purpose                            0\n",
       "owner_occupancy                         0\n",
       "loan_amount_000s                     5036\n",
       "preapproval                             0\n",
       "action_taken                            0\n",
       "state_code                         197158\n",
       "applicant_ethnicity                     0\n",
       "co_applicant_ethnicity                  0\n",
       "applicant_race_1                        0\n",
       "co_applicant_race_1                     0\n",
       "applicant_sex                           0\n",
       "co_applicant_sex                        0\n",
       "applicant_income_000s             1895864\n",
       "purchaser_type                          0\n",
       "hoepa_status                            0\n",
       "lien_status                             0\n",
       "population                         284308\n",
       "minority_population                284352\n",
       "hud_median_family_income           284308\n",
       "tract_to_msamd_income              284308\n",
       "number_of_owner_occupied_units     284352\n",
       "number_of_1_to_4_family_units      284352\n",
       "dtype: int64"
      ]
     },
     "execution_count": 7,
     "metadata": {},
     "output_type": "execute_result"
    }
   ],
   "source": [
    "df3.isnull().sum()"
   ]
  },
  {
   "cell_type": "code",
   "execution_count": 8,
   "metadata": {},
   "outputs": [
    {
     "data": {
      "text/html": [
       "<div>\n",
       "<style scoped>\n",
       "    .dataframe tbody tr th:only-of-type {\n",
       "        vertical-align: middle;\n",
       "    }\n",
       "\n",
       "    .dataframe tbody tr th {\n",
       "        vertical-align: top;\n",
       "    }\n",
       "\n",
       "    .dataframe thead th {\n",
       "        text-align: right;\n",
       "    }\n",
       "</style>\n",
       "<table border=\"1\" class=\"dataframe\">\n",
       "  <thead>\n",
       "    <tr style=\"text-align: right;\">\n",
       "      <th></th>\n",
       "      <th>agency_code</th>\n",
       "      <th>loan_type</th>\n",
       "      <th>property_type</th>\n",
       "      <th>loan_purpose</th>\n",
       "      <th>owner_occupancy</th>\n",
       "      <th>loan_amount_000s</th>\n",
       "      <th>preapproval</th>\n",
       "      <th>action_taken</th>\n",
       "      <th>state_code</th>\n",
       "      <th>applicant_ethnicity</th>\n",
       "      <th>...</th>\n",
       "      <th>applicant_income_000s</th>\n",
       "      <th>purchaser_type</th>\n",
       "      <th>hoepa_status</th>\n",
       "      <th>lien_status</th>\n",
       "      <th>population</th>\n",
       "      <th>minority_population</th>\n",
       "      <th>hud_median_family_income</th>\n",
       "      <th>tract_to_msamd_income</th>\n",
       "      <th>number_of_owner_occupied_units</th>\n",
       "      <th>number_of_1_to_4_family_units</th>\n",
       "    </tr>\n",
       "  </thead>\n",
       "  <tbody>\n",
       "    <tr>\n",
       "      <th>0</th>\n",
       "      <td>9</td>\n",
       "      <td>1</td>\n",
       "      <td>1</td>\n",
       "      <td>3</td>\n",
       "      <td>1</td>\n",
       "      <td>9.0</td>\n",
       "      <td>3</td>\n",
       "      <td>3</td>\n",
       "      <td>1.0</td>\n",
       "      <td>2</td>\n",
       "      <td>...</td>\n",
       "      <td>54.0</td>\n",
       "      <td>0</td>\n",
       "      <td>2</td>\n",
       "      <td>2</td>\n",
       "      <td>1948.0</td>\n",
       "      <td>12.58</td>\n",
       "      <td>59700.0</td>\n",
       "      <td>122.93</td>\n",
       "      <td>507.0</td>\n",
       "      <td>724.0</td>\n",
       "    </tr>\n",
       "    <tr>\n",
       "      <th>2</th>\n",
       "      <td>7</td>\n",
       "      <td>3</td>\n",
       "      <td>1</td>\n",
       "      <td>3</td>\n",
       "      <td>1</td>\n",
       "      <td>161.0</td>\n",
       "      <td>3</td>\n",
       "      <td>5</td>\n",
       "      <td>1.0</td>\n",
       "      <td>2</td>\n",
       "      <td>...</td>\n",
       "      <td>64.0</td>\n",
       "      <td>0</td>\n",
       "      <td>2</td>\n",
       "      <td>1</td>\n",
       "      <td>1948.0</td>\n",
       "      <td>12.58</td>\n",
       "      <td>59700.0</td>\n",
       "      <td>122.93</td>\n",
       "      <td>507.0</td>\n",
       "      <td>724.0</td>\n",
       "    </tr>\n",
       "    <tr>\n",
       "      <th>3</th>\n",
       "      <td>5</td>\n",
       "      <td>1</td>\n",
       "      <td>1</td>\n",
       "      <td>2</td>\n",
       "      <td>1</td>\n",
       "      <td>90.0</td>\n",
       "      <td>3</td>\n",
       "      <td>1</td>\n",
       "      <td>1.0</td>\n",
       "      <td>2</td>\n",
       "      <td>...</td>\n",
       "      <td>61.0</td>\n",
       "      <td>1</td>\n",
       "      <td>2</td>\n",
       "      <td>1</td>\n",
       "      <td>1948.0</td>\n",
       "      <td>12.58</td>\n",
       "      <td>59700.0</td>\n",
       "      <td>122.93</td>\n",
       "      <td>507.0</td>\n",
       "      <td>724.0</td>\n",
       "    </tr>\n",
       "    <tr>\n",
       "      <th>4</th>\n",
       "      <td>9</td>\n",
       "      <td>1</td>\n",
       "      <td>1</td>\n",
       "      <td>3</td>\n",
       "      <td>2</td>\n",
       "      <td>41.0</td>\n",
       "      <td>3</td>\n",
       "      <td>1</td>\n",
       "      <td>1.0</td>\n",
       "      <td>2</td>\n",
       "      <td>...</td>\n",
       "      <td>133.0</td>\n",
       "      <td>0</td>\n",
       "      <td>2</td>\n",
       "      <td>1</td>\n",
       "      <td>1948.0</td>\n",
       "      <td>12.58</td>\n",
       "      <td>59700.0</td>\n",
       "      <td>122.93</td>\n",
       "      <td>507.0</td>\n",
       "      <td>724.0</td>\n",
       "    </tr>\n",
       "    <tr>\n",
       "      <th>6</th>\n",
       "      <td>3</td>\n",
       "      <td>2</td>\n",
       "      <td>1</td>\n",
       "      <td>1</td>\n",
       "      <td>1</td>\n",
       "      <td>76.0</td>\n",
       "      <td>3</td>\n",
       "      <td>1</td>\n",
       "      <td>1.0</td>\n",
       "      <td>2</td>\n",
       "      <td>...</td>\n",
       "      <td>87.0</td>\n",
       "      <td>6</td>\n",
       "      <td>2</td>\n",
       "      <td>1</td>\n",
       "      <td>1948.0</td>\n",
       "      <td>12.58</td>\n",
       "      <td>59700.0</td>\n",
       "      <td>122.93</td>\n",
       "      <td>507.0</td>\n",
       "      <td>724.0</td>\n",
       "    </tr>\n",
       "    <tr>\n",
       "      <th>7</th>\n",
       "      <td>9</td>\n",
       "      <td>1</td>\n",
       "      <td>1</td>\n",
       "      <td>3</td>\n",
       "      <td>1</td>\n",
       "      <td>175.0</td>\n",
       "      <td>3</td>\n",
       "      <td>4</td>\n",
       "      <td>1.0</td>\n",
       "      <td>2</td>\n",
       "      <td>...</td>\n",
       "      <td>33.0</td>\n",
       "      <td>0</td>\n",
       "      <td>2</td>\n",
       "      <td>1</td>\n",
       "      <td>1948.0</td>\n",
       "      <td>12.58</td>\n",
       "      <td>59700.0</td>\n",
       "      <td>122.93</td>\n",
       "      <td>507.0</td>\n",
       "      <td>724.0</td>\n",
       "    </tr>\n",
       "    <tr>\n",
       "      <th>8</th>\n",
       "      <td>7</td>\n",
       "      <td>3</td>\n",
       "      <td>1</td>\n",
       "      <td>3</td>\n",
       "      <td>1</td>\n",
       "      <td>186.0</td>\n",
       "      <td>3</td>\n",
       "      <td>1</td>\n",
       "      <td>1.0</td>\n",
       "      <td>2</td>\n",
       "      <td>...</td>\n",
       "      <td>76.0</td>\n",
       "      <td>2</td>\n",
       "      <td>2</td>\n",
       "      <td>1</td>\n",
       "      <td>1948.0</td>\n",
       "      <td>12.58</td>\n",
       "      <td>59700.0</td>\n",
       "      <td>122.93</td>\n",
       "      <td>507.0</td>\n",
       "      <td>724.0</td>\n",
       "    </tr>\n",
       "    <tr>\n",
       "      <th>9</th>\n",
       "      <td>7</td>\n",
       "      <td>1</td>\n",
       "      <td>1</td>\n",
       "      <td>3</td>\n",
       "      <td>1</td>\n",
       "      <td>106.0</td>\n",
       "      <td>3</td>\n",
       "      <td>1</td>\n",
       "      <td>1.0</td>\n",
       "      <td>2</td>\n",
       "      <td>...</td>\n",
       "      <td>50.0</td>\n",
       "      <td>1</td>\n",
       "      <td>2</td>\n",
       "      <td>1</td>\n",
       "      <td>1948.0</td>\n",
       "      <td>12.58</td>\n",
       "      <td>59700.0</td>\n",
       "      <td>122.93</td>\n",
       "      <td>507.0</td>\n",
       "      <td>724.0</td>\n",
       "    </tr>\n",
       "    <tr>\n",
       "      <th>11</th>\n",
       "      <td>9</td>\n",
       "      <td>2</td>\n",
       "      <td>1</td>\n",
       "      <td>1</td>\n",
       "      <td>1</td>\n",
       "      <td>92.0</td>\n",
       "      <td>1</td>\n",
       "      <td>1</td>\n",
       "      <td>1.0</td>\n",
       "      <td>2</td>\n",
       "      <td>...</td>\n",
       "      <td>29.0</td>\n",
       "      <td>2</td>\n",
       "      <td>2</td>\n",
       "      <td>1</td>\n",
       "      <td>1948.0</td>\n",
       "      <td>12.58</td>\n",
       "      <td>59700.0</td>\n",
       "      <td>122.93</td>\n",
       "      <td>507.0</td>\n",
       "      <td>724.0</td>\n",
       "    </tr>\n",
       "    <tr>\n",
       "      <th>13</th>\n",
       "      <td>7</td>\n",
       "      <td>3</td>\n",
       "      <td>1</td>\n",
       "      <td>1</td>\n",
       "      <td>1</td>\n",
       "      <td>94.0</td>\n",
       "      <td>2</td>\n",
       "      <td>1</td>\n",
       "      <td>1.0</td>\n",
       "      <td>2</td>\n",
       "      <td>...</td>\n",
       "      <td>53.0</td>\n",
       "      <td>9</td>\n",
       "      <td>2</td>\n",
       "      <td>1</td>\n",
       "      <td>1948.0</td>\n",
       "      <td>12.58</td>\n",
       "      <td>59700.0</td>\n",
       "      <td>122.93</td>\n",
       "      <td>507.0</td>\n",
       "      <td>724.0</td>\n",
       "    </tr>\n",
       "  </tbody>\n",
       "</table>\n",
       "<p>10 rows × 25 columns</p>\n",
       "</div>"
      ],
      "text/plain": [
       "    agency_code  loan_type  property_type  loan_purpose  owner_occupancy  \\\n",
       "0             9          1              1             3                1   \n",
       "2             7          3              1             3                1   \n",
       "3             5          1              1             2                1   \n",
       "4             9          1              1             3                2   \n",
       "6             3          2              1             1                1   \n",
       "7             9          1              1             3                1   \n",
       "8             7          3              1             3                1   \n",
       "9             7          1              1             3                1   \n",
       "11            9          2              1             1                1   \n",
       "13            7          3              1             1                1   \n",
       "\n",
       "    loan_amount_000s  preapproval  action_taken  state_code  \\\n",
       "0                9.0            3             3         1.0   \n",
       "2              161.0            3             5         1.0   \n",
       "3               90.0            3             1         1.0   \n",
       "4               41.0            3             1         1.0   \n",
       "6               76.0            3             1         1.0   \n",
       "7              175.0            3             4         1.0   \n",
       "8              186.0            3             1         1.0   \n",
       "9              106.0            3             1         1.0   \n",
       "11              92.0            1             1         1.0   \n",
       "13              94.0            2             1         1.0   \n",
       "\n",
       "    applicant_ethnicity  ...  applicant_income_000s  purchaser_type  \\\n",
       "0                     2  ...                   54.0               0   \n",
       "2                     2  ...                   64.0               0   \n",
       "3                     2  ...                   61.0               1   \n",
       "4                     2  ...                  133.0               0   \n",
       "6                     2  ...                   87.0               6   \n",
       "7                     2  ...                   33.0               0   \n",
       "8                     2  ...                   76.0               2   \n",
       "9                     2  ...                   50.0               1   \n",
       "11                    2  ...                   29.0               2   \n",
       "13                    2  ...                   53.0               9   \n",
       "\n",
       "    hoepa_status  lien_status  population  minority_population  \\\n",
       "0              2            2      1948.0                12.58   \n",
       "2              2            1      1948.0                12.58   \n",
       "3              2            1      1948.0                12.58   \n",
       "4              2            1      1948.0                12.58   \n",
       "6              2            1      1948.0                12.58   \n",
       "7              2            1      1948.0                12.58   \n",
       "8              2            1      1948.0                12.58   \n",
       "9              2            1      1948.0                12.58   \n",
       "11             2            1      1948.0                12.58   \n",
       "13             2            1      1948.0                12.58   \n",
       "\n",
       "    hud_median_family_income  tract_to_msamd_income  \\\n",
       "0                    59700.0                 122.93   \n",
       "2                    59700.0                 122.93   \n",
       "3                    59700.0                 122.93   \n",
       "4                    59700.0                 122.93   \n",
       "6                    59700.0                 122.93   \n",
       "7                    59700.0                 122.93   \n",
       "8                    59700.0                 122.93   \n",
       "9                    59700.0                 122.93   \n",
       "11                   59700.0                 122.93   \n",
       "13                   59700.0                 122.93   \n",
       "\n",
       "    number_of_owner_occupied_units  number_of_1_to_4_family_units  \n",
       "0                            507.0                          724.0  \n",
       "2                            507.0                          724.0  \n",
       "3                            507.0                          724.0  \n",
       "4                            507.0                          724.0  \n",
       "6                            507.0                          724.0  \n",
       "7                            507.0                          724.0  \n",
       "8                            507.0                          724.0  \n",
       "9                            507.0                          724.0  \n",
       "11                           507.0                          724.0  \n",
       "13                           507.0                          724.0  \n",
       "\n",
       "[10 rows x 25 columns]"
      ]
     },
     "execution_count": 8,
     "metadata": {},
     "output_type": "execute_result"
    }
   ],
   "source": [
    "# drop remaining null values\n",
    "df4 = df3.dropna()\n",
    "df4.head(10)"
   ]
  },
  {
   "cell_type": "code",
   "execution_count": 9,
   "metadata": {},
   "outputs": [
    {
     "data": {
      "text/plain": [
       "agency_code                       0\n",
       "loan_type                         0\n",
       "property_type                     0\n",
       "loan_purpose                      0\n",
       "owner_occupancy                   0\n",
       "loan_amount_000s                  0\n",
       "preapproval                       0\n",
       "action_taken                      0\n",
       "state_code                        0\n",
       "applicant_ethnicity               0\n",
       "co_applicant_ethnicity            0\n",
       "applicant_race_1                  0\n",
       "co_applicant_race_1               0\n",
       "applicant_sex                     0\n",
       "co_applicant_sex                  0\n",
       "applicant_income_000s             0\n",
       "purchaser_type                    0\n",
       "hoepa_status                      0\n",
       "lien_status                       0\n",
       "population                        0\n",
       "minority_population               0\n",
       "hud_median_family_income          0\n",
       "tract_to_msamd_income             0\n",
       "number_of_owner_occupied_units    0\n",
       "number_of_1_to_4_family_units     0\n",
       "dtype: int64"
      ]
     },
     "execution_count": 9,
     "metadata": {},
     "output_type": "execute_result"
    }
   ],
   "source": [
    "df4.isnull().sum()"
   ]
  },
  {
   "cell_type": "code",
   "execution_count": 10,
   "metadata": {},
   "outputs": [
    {
     "name": "stderr",
     "output_type": "stream",
     "text": [
      "c:\\Users\\olivi\\anaconda3\\envs\\mlenv\\lib\\site-packages\\ipykernel_launcher.py:56: SettingWithCopyWarning: \n",
      "A value is trying to be set on a copy of a slice from a DataFrame.\n",
      "Try using .loc[row_indexer,col_indexer] = value instead\n",
      "\n",
      "See the caveats in the documentation: https://pandas.pydata.org/pandas-docs/stable/user_guide/indexing.html#returning-a-view-versus-a-copy\n"
     ]
    }
   ],
   "source": [
    "# convert state names to regions\n",
    "states_to_regions = {\n",
    "    53: 'NW', \n",
    "    41: 'NW', \n",
    "    6: 'W',\n",
    "    32: 'W',\n",
    "    16: 'NW',\n",
    "    30: 'NW',\n",
    "    56: 'NW',\n",
    "    49: 'SW',\n",
    "    8: 'SW',\n",
    "    2: 'NW',\n",
    "    15: 'W',\n",
    "    23: 'NE',\n",
    "    50: 'NE',\n",
    "    36: 'MA',\n",
    "    33: 'NE',\n",
    "    25: 'NE',\n",
    "    44: 'NE',\n",
    "    9: 'NE',\n",
    "    34: 'MA',\n",
    "    42: 'MA', \n",
    "    38: 'MW',\n",
    "    46: 'MW',\n",
    "    31: 'MW',\n",
    "    20: 'MW',\n",
    "    27: 'MW',\n",
    "    19: 'MW',\n",
    "    29: 'MW',\n",
    "    55: 'MW',\n",
    "    17: 'MW',\n",
    "    26: 'MW',\n",
    "    18: 'MW',\n",
    "    39: 'MW',\n",
    "    54: 'MA',\n",
    "    11: 'MA',\n",
    "    24: 'MA',\n",
    "    51: 'MA',\n",
    "    21: 'MW',\n",
    "    47: 'SE',\n",
    "    37: 'SE',\n",
    "    28: 'SE',\n",
    "    5: 'SE',\n",
    "    22: 'SE',\n",
    "    1: 'SE',\n",
    "    13: 'SE',\n",
    "    45: 'SE',\n",
    "    12: 'SE',\n",
    "    10: 'MA',\n",
    "    4: 'SW',\n",
    "    35: 'SW',\n",
    "    40: 'SW',\n",
    "    48: 'SW',\n",
    "    72: 'SE'}\n",
    "\n",
    "df4[\"Region\"] = df4[\"state_code\"].map(states_to_regions)"
   ]
  },
  {
   "cell_type": "code",
   "execution_count": 11,
   "metadata": {},
   "outputs": [
    {
     "data": {
      "text/plain": [
       "agency_code                       12121771\n",
       "loan_type                         12121771\n",
       "property_type                     12121771\n",
       "loan_purpose                      12121771\n",
       "owner_occupancy                   12121771\n",
       "loan_amount_000s                  12121771\n",
       "preapproval                       12121771\n",
       "action_taken                      12121771\n",
       "state_code                        12121771\n",
       "applicant_ethnicity               12121771\n",
       "co_applicant_ethnicity            12121771\n",
       "applicant_race_1                  12121771\n",
       "co_applicant_race_1               12121771\n",
       "applicant_sex                     12121771\n",
       "co_applicant_sex                  12121771\n",
       "applicant_income_000s             12121771\n",
       "purchaser_type                    12121771\n",
       "hoepa_status                      12121771\n",
       "lien_status                       12121771\n",
       "population                        12121771\n",
       "minority_population               12121771\n",
       "hud_median_family_income          12121771\n",
       "tract_to_msamd_income             12121771\n",
       "number_of_owner_occupied_units    12121771\n",
       "number_of_1_to_4_family_units     12121771\n",
       "Region                            12121771\n",
       "dtype: int64"
      ]
     },
     "execution_count": 11,
     "metadata": {},
     "output_type": "execute_result"
    }
   ],
   "source": [
    "df4.count()"
   ]
  },
  {
   "cell_type": "code",
   "execution_count": 12,
   "metadata": {},
   "outputs": [
    {
     "data": {
      "text/plain": [
       "7    6022808\n",
       "9    3426092\n",
       "3     995714\n",
       "5     926194\n",
       "1     416087\n",
       "2     334876\n",
       "Name: agency_code, dtype: int64"
      ]
     },
     "execution_count": 12,
     "metadata": {},
     "output_type": "execute_result"
    }
   ],
   "source": [
    "# value counts of agency code column\n",
    "df4[\"agency_code\"].value_counts()"
   ]
  },
  {
   "cell_type": "code",
   "execution_count": 13,
   "metadata": {},
   "outputs": [
    {
     "name": "stderr",
     "output_type": "stream",
     "text": [
      "c:\\Users\\olivi\\anaconda3\\envs\\mlenv\\lib\\site-packages\\ipykernel_launcher.py:2: SettingWithCopyWarning: \n",
      "A value is trying to be set on a copy of a slice from a DataFrame.\n",
      "Try using .loc[row_indexer,col_indexer] = value instead\n",
      "\n",
      "See the caveats in the documentation: https://pandas.pydata.org/pandas-docs/stable/user_guide/indexing.html#returning-a-view-versus-a-copy\n",
      "  \n"
     ]
    },
    {
     "data": {
      "text/plain": [
       "HUD     6022808\n",
       "CFPB    3426092\n",
       "FDIC     995714\n",
       "NCUA     926194\n",
       "OCC      416087\n",
       "FRS      334876\n",
       "Name: agency_code, dtype: int64"
      ]
     },
     "execution_count": 13,
     "metadata": {},
     "output_type": "execute_result"
    }
   ],
   "source": [
    "# Change values in agency code to reflect categorical variables\n",
    "df4['agency_code'] = df4['agency_code'].replace([1,2,3,5,7,9],['OCC','FRS','FDIC','NCUA','HUD','CFPB'])\n",
    "df4[\"agency_code\"].value_counts()"
   ]
  },
  {
   "cell_type": "code",
   "execution_count": 14,
   "metadata": {},
   "outputs": [
    {
     "data": {
      "text/plain": [
       "1    8986265\n",
       "2    1917402\n",
       "3    1032519\n",
       "4     185585\n",
       "Name: loan_type, dtype: int64"
      ]
     },
     "execution_count": 14,
     "metadata": {},
     "output_type": "execute_result"
    }
   ],
   "source": [
    "# value counts of loan type column\n",
    "df4[\"loan_type\"].value_counts()"
   ]
  },
  {
   "cell_type": "code",
   "execution_count": 15,
   "metadata": {},
   "outputs": [
    {
     "name": "stderr",
     "output_type": "stream",
     "text": [
      "c:\\Users\\olivi\\anaconda3\\envs\\mlenv\\lib\\site-packages\\ipykernel_launcher.py:2: SettingWithCopyWarning: \n",
      "A value is trying to be set on a copy of a slice from a DataFrame.\n",
      "Try using .loc[row_indexer,col_indexer] = value instead\n",
      "\n",
      "See the caveats in the documentation: https://pandas.pydata.org/pandas-docs/stable/user_guide/indexing.html#returning-a-view-versus-a-copy\n",
      "  \n"
     ]
    },
    {
     "data": {
      "text/plain": [
       "Conventional     8986265\n",
       "FHA-Insured      1917402\n",
       "VA-Guaranteed    1032519\n",
       "FSA/RHS           185585\n",
       "Name: loan_type, dtype: int64"
      ]
     },
     "execution_count": 15,
     "metadata": {},
     "output_type": "execute_result"
    }
   ],
   "source": [
    "# Change values in loan type to reflect categorical variables\n",
    "df4['loan_type'] = df4['loan_type'].replace([1,2,3,4],['Conventional','FHA-Insured','VA-Guaranteed','FSA/RHS'])\n",
    "df4[\"loan_type\"].value_counts()"
   ]
  },
  {
   "cell_type": "code",
   "execution_count": 16,
   "metadata": {},
   "outputs": [
    {
     "data": {
      "text/plain": [
       "1    11688529\n",
       "2      433242\n",
       "Name: property_type, dtype: int64"
      ]
     },
     "execution_count": 16,
     "metadata": {},
     "output_type": "execute_result"
    }
   ],
   "source": [
    "# value counts of property type column\n",
    "df4[\"property_type\"].value_counts()"
   ]
  },
  {
   "cell_type": "code",
   "execution_count": 17,
   "metadata": {},
   "outputs": [
    {
     "name": "stderr",
     "output_type": "stream",
     "text": [
      "c:\\Users\\olivi\\anaconda3\\envs\\mlenv\\lib\\site-packages\\ipykernel_launcher.py:2: SettingWithCopyWarning: \n",
      "A value is trying to be set on a copy of a slice from a DataFrame.\n",
      "Try using .loc[row_indexer,col_indexer] = value instead\n",
      "\n",
      "See the caveats in the documentation: https://pandas.pydata.org/pandas-docs/stable/user_guide/indexing.html#returning-a-view-versus-a-copy\n",
      "  \n"
     ]
    },
    {
     "data": {
      "text/plain": [
       "One to Four-Family    11688529\n",
       "Manufactured            433242\n",
       "Name: property_type, dtype: int64"
      ]
     },
     "execution_count": 17,
     "metadata": {},
     "output_type": "execute_result"
    }
   ],
   "source": [
    "# Change values in property type to reflect categorical variables\n",
    "df4['property_type'] = df4['property_type'].replace([1,2,3],['One to Four-Family','Manufactured','Multifamily'])\n",
    "df4[\"property_type\"].value_counts()"
   ]
  },
  {
   "cell_type": "code",
   "execution_count": 18,
   "metadata": {},
   "outputs": [
    {
     "data": {
      "text/plain": [
       "1    6433967\n",
       "3    4653373\n",
       "2    1034431\n",
       "Name: loan_purpose, dtype: int64"
      ]
     },
     "execution_count": 18,
     "metadata": {},
     "output_type": "execute_result"
    }
   ],
   "source": [
    "# value counts of loan purpose column\n",
    "df4[\"loan_purpose\"].value_counts()"
   ]
  },
  {
   "cell_type": "code",
   "execution_count": 19,
   "metadata": {},
   "outputs": [
    {
     "name": "stderr",
     "output_type": "stream",
     "text": [
      "c:\\Users\\olivi\\anaconda3\\envs\\mlenv\\lib\\site-packages\\ipykernel_launcher.py:2: SettingWithCopyWarning: \n",
      "A value is trying to be set on a copy of a slice from a DataFrame.\n",
      "Try using .loc[row_indexer,col_indexer] = value instead\n",
      "\n",
      "See the caveats in the documentation: https://pandas.pydata.org/pandas-docs/stable/user_guide/indexing.html#returning-a-view-versus-a-copy\n",
      "  \n"
     ]
    },
    {
     "data": {
      "text/plain": [
       "Home Purchase       6433967\n",
       "Refinancing         4653373\n",
       "Home Improvement    1034431\n",
       "Name: loan_purpose, dtype: int64"
      ]
     },
     "execution_count": 19,
     "metadata": {},
     "output_type": "execute_result"
    }
   ],
   "source": [
    "# Change values in loan purpose to reflect categorical variables\n",
    "df4['loan_purpose'] = df4['loan_purpose'].replace([1,2,3],['Home Purchase','Home Improvement','Refinancing'])\n",
    "df4[\"loan_purpose\"].value_counts()"
   ]
  },
  {
   "cell_type": "code",
   "execution_count": 20,
   "metadata": {},
   "outputs": [
    {
     "data": {
      "text/plain": [
       "1    11010525\n",
       "2     1101211\n",
       "3       10035\n",
       "Name: owner_occupancy, dtype: int64"
      ]
     },
     "execution_count": 20,
     "metadata": {},
     "output_type": "execute_result"
    }
   ],
   "source": [
    "# value counts of owner occupancy column\n",
    "df4[\"owner_occupancy\"].value_counts()"
   ]
  },
  {
   "cell_type": "code",
   "execution_count": 21,
   "metadata": {},
   "outputs": [
    {
     "name": "stderr",
     "output_type": "stream",
     "text": [
      "c:\\Users\\olivi\\anaconda3\\envs\\mlenv\\lib\\site-packages\\ipykernel_launcher.py:2: SettingWithCopyWarning: \n",
      "A value is trying to be set on a copy of a slice from a DataFrame.\n",
      "Try using .loc[row_indexer,col_indexer] = value instead\n",
      "\n",
      "See the caveats in the documentation: https://pandas.pydata.org/pandas-docs/stable/user_guide/indexing.html#returning-a-view-versus-a-copy\n",
      "  \n"
     ]
    },
    {
     "data": {
      "text/plain": [
       "Owner Occupied        11010525\n",
       "Not Owner Occupied     1101211\n",
       "Not Applicable           10035\n",
       "Name: owner_occupancy, dtype: int64"
      ]
     },
     "execution_count": 21,
     "metadata": {},
     "output_type": "execute_result"
    }
   ],
   "source": [
    "# Change values in owner occupancy to reflect categorical variables\n",
    "df4['owner_occupancy'] = df4['owner_occupancy'].replace([1,2,3],['Owner Occupied','Not Owner Occupied','Not Applicable'])\n",
    "df4[\"owner_occupancy\"].value_counts()"
   ]
  },
  {
   "cell_type": "code",
   "execution_count": 22,
   "metadata": {},
   "outputs": [
    {
     "name": "stderr",
     "output_type": "stream",
     "text": [
      "c:\\Users\\olivi\\anaconda3\\envs\\mlenv\\lib\\site-packages\\ipykernel_launcher.py:2: SettingWithCopyWarning: \n",
      "A value is trying to be set on a copy of a slice from a DataFrame.\n",
      "Try using .loc[row_indexer,col_indexer] = value instead\n",
      "\n",
      "See the caveats in the documentation: https://pandas.pydata.org/pandas-docs/stable/user_guide/indexing.html#returning-a-view-versus-a-copy\n",
      "  \n"
     ]
    },
    {
     "data": {
      "text/plain": [
       "Not Applicable               9886093\n",
       "Preapproval Not Requested    1918501\n",
       "Preapproval Requested         317177\n",
       "Name: preapproval, dtype: int64"
      ]
     },
     "execution_count": 22,
     "metadata": {},
     "output_type": "execute_result"
    }
   ],
   "source": [
    "# Change values in preapproval to reflect categorical variables\n",
    "df4['preapproval'] = df4['preapproval'].replace([1,2,3],['Preapproval Requested','Preapproval Not Requested','Not Applicable'])\n",
    "df4[\"preapproval\"].value_counts()"
   ]
  },
  {
   "cell_type": "code",
   "execution_count": 23,
   "metadata": {},
   "outputs": [
    {
     "data": {
      "text/plain": [
       "1    6897186\n",
       "3    1855188\n",
       "4    1549602\n",
       "6     948807\n",
       "5     499753\n",
       "2     370586\n",
       "7        481\n",
       "8        168\n",
       "Name: action_taken, dtype: int64"
      ]
     },
     "execution_count": 23,
     "metadata": {},
     "output_type": "execute_result"
    }
   ],
   "source": [
    "# value counts of action taken column\n",
    "df4[\"action_taken\"].value_counts()"
   ]
  },
  {
   "cell_type": "code",
   "execution_count": 24,
   "metadata": {},
   "outputs": [
    {
     "name": "stderr",
     "output_type": "stream",
     "text": [
      "c:\\Users\\olivi\\anaconda3\\envs\\mlenv\\lib\\site-packages\\ipykernel_launcher.py:2: SettingWithCopyWarning: \n",
      "A value is trying to be set on a copy of a slice from a DataFrame.\n",
      "Try using .loc[row_indexer,col_indexer] = value instead\n",
      "\n",
      "See the caveats in the documentation: https://pandas.pydata.org/pandas-docs/stable/user_guide/indexing.html#returning-a-view-versus-a-copy\n",
      "  \n"
     ]
    },
    {
     "data": {
      "text/plain": [
       "Loan Originated                                        6897186\n",
       "Application Denied by Financial Institution            1855188\n",
       "Application Withdrawn by Applicant                     1549602\n",
       "Loan Purchased by the Institution                       948807\n",
       "File Closed for Incompleteness                          499753\n",
       "Application Approved but not Accepted                   370586\n",
       "Preapproval Request Denied by Financial Institution        481\n",
       "Preapproval Request Approved but not Accepted              168\n",
       "Name: action_taken, dtype: int64"
      ]
     },
     "execution_count": 24,
     "metadata": {},
     "output_type": "execute_result"
    }
   ],
   "source": [
    "# Change values in action taken to reflect categorical variables\n",
    "df4['action_taken'] = df4['action_taken'].replace([1,2,3,4,5,6,7,8],['Loan Originated','Application Approved but not Accepted','Application Denied by Financial Institution','Application Withdrawn by Applicant','File Closed for Incompleteness','Loan Purchased by the Institution','Preapproval Request Denied by Financial Institution','Preapproval Request Approved but not Accepted'])\n",
    "df4[\"action_taken\"].value_counts()"
   ]
  },
  {
   "cell_type": "code",
   "execution_count": 25,
   "metadata": {},
   "outputs": [
    {
     "name": "stderr",
     "output_type": "stream",
     "text": [
      "c:\\Users\\olivi\\anaconda3\\envs\\mlenv\\lib\\site-packages\\ipykernel_launcher.py:12: SettingWithCopyWarning: \n",
      "A value is trying to be set on a copy of a slice from a DataFrame.\n",
      "Try using .loc[row_indexer,col_indexer] = value instead\n",
      "\n",
      "See the caveats in the documentation: https://pandas.pydata.org/pandas-docs/stable/user_guide/indexing.html#returning-a-view-versus-a-copy\n",
      "  if sys.path[0] == '':\n"
     ]
    }
   ],
   "source": [
    "# convert action taken column to approved/denied\n",
    "action = {\n",
    "    'Loan Originated': 1, \n",
    "    'Loan Purchased by the Institution': 1, \n",
    "    'Application Denied by Financial Institution': 0,\n",
    "    'Application Withdrawn by Applicant': 2,\n",
    "    'File Closed for Incompleteness': 2,\n",
    "    'Application Approved but not Accepted': 0,\n",
    "    'Preapproval Request Denied by Financial Institution': 0,\n",
    "    'Preapproval Request Approved but not Accepted': 0}\n",
    "\n",
    "df4[\"action_taken_summary\"] = df4[\"action_taken\"].map(action)"
   ]
  },
  {
   "cell_type": "code",
   "execution_count": 26,
   "metadata": {},
   "outputs": [
    {
     "data": {
      "text/plain": [
       "agency_code                       12121771\n",
       "loan_type                         12121771\n",
       "property_type                     12121771\n",
       "loan_purpose                      12121771\n",
       "owner_occupancy                   12121771\n",
       "loan_amount_000s                  12121771\n",
       "preapproval                       12121771\n",
       "action_taken                      12121771\n",
       "state_code                        12121771\n",
       "applicant_ethnicity               12121771\n",
       "co_applicant_ethnicity            12121771\n",
       "applicant_race_1                  12121771\n",
       "co_applicant_race_1               12121771\n",
       "applicant_sex                     12121771\n",
       "co_applicant_sex                  12121771\n",
       "applicant_income_000s             12121771\n",
       "purchaser_type                    12121771\n",
       "hoepa_status                      12121771\n",
       "lien_status                       12121771\n",
       "population                        12121771\n",
       "minority_population               12121771\n",
       "hud_median_family_income          12121771\n",
       "tract_to_msamd_income             12121771\n",
       "number_of_owner_occupied_units    12121771\n",
       "number_of_1_to_4_family_units     12121771\n",
       "Region                            12121771\n",
       "action_taken_summary              12121771\n",
       "dtype: int64"
      ]
     },
     "execution_count": 26,
     "metadata": {},
     "output_type": "execute_result"
    }
   ],
   "source": [
    "df4.count()"
   ]
  },
  {
   "cell_type": "code",
   "execution_count": 27,
   "metadata": {},
   "outputs": [
    {
     "data": {
      "text/plain": [
       "1    7845993\n",
       "0    2226423\n",
       "2    2049355\n",
       "Name: action_taken_summary, dtype: int64"
      ]
     },
     "execution_count": 27,
     "metadata": {},
     "output_type": "execute_result"
    }
   ],
   "source": [
    "# value counts of action taken summary column\n",
    "df4[\"action_taken_summary\"].value_counts()"
   ]
  },
  {
   "cell_type": "code",
   "execution_count": 28,
   "metadata": {},
   "outputs": [],
   "source": [
    "# drop rows with the value 2 in the action taken summary\n",
    "df4 = df4[df4.action_taken_summary != 2]"
   ]
  },
  {
   "cell_type": "code",
   "execution_count": 29,
   "metadata": {},
   "outputs": [
    {
     "data": {
      "text/plain": [
       "1    7845993\n",
       "0    2226423\n",
       "Name: action_taken_summary, dtype: int64"
      ]
     },
     "execution_count": 29,
     "metadata": {},
     "output_type": "execute_result"
    }
   ],
   "source": [
    "# value counts of action taken summary column\n",
    "df4[\"action_taken_summary\"].value_counts()"
   ]
  },
  {
   "cell_type": "code",
   "execution_count": 30,
   "metadata": {},
   "outputs": [
    {
     "data": {
      "text/plain": [
       "agency_code                       10072416\n",
       "loan_type                         10072416\n",
       "property_type                     10072416\n",
       "loan_purpose                      10072416\n",
       "owner_occupancy                   10072416\n",
       "loan_amount_000s                  10072416\n",
       "preapproval                       10072416\n",
       "action_taken                      10072416\n",
       "state_code                        10072416\n",
       "applicant_ethnicity               10072416\n",
       "co_applicant_ethnicity            10072416\n",
       "applicant_race_1                  10072416\n",
       "co_applicant_race_1               10072416\n",
       "applicant_sex                     10072416\n",
       "co_applicant_sex                  10072416\n",
       "applicant_income_000s             10072416\n",
       "purchaser_type                    10072416\n",
       "hoepa_status                      10072416\n",
       "lien_status                       10072416\n",
       "population                        10072416\n",
       "minority_population               10072416\n",
       "hud_median_family_income          10072416\n",
       "tract_to_msamd_income             10072416\n",
       "number_of_owner_occupied_units    10072416\n",
       "number_of_1_to_4_family_units     10072416\n",
       "Region                            10072416\n",
       "action_taken_summary              10072416\n",
       "dtype: int64"
      ]
     },
     "execution_count": 30,
     "metadata": {},
     "output_type": "execute_result"
    }
   ],
   "source": [
    "df4.count()"
   ]
  },
  {
   "cell_type": "code",
   "execution_count": 31,
   "metadata": {},
   "outputs": [
    {
     "data": {
      "text/plain": [
       "2    7726282\n",
       "3    1096171\n",
       "1    1015159\n",
       "4     234804\n",
       "Name: applicant_ethnicity, dtype: int64"
      ]
     },
     "execution_count": 31,
     "metadata": {},
     "output_type": "execute_result"
    }
   ],
   "source": [
    "# value counts of action taken column\n",
    "df4[\"applicant_ethnicity\"].value_counts()"
   ]
  },
  {
   "cell_type": "code",
   "execution_count": 32,
   "metadata": {},
   "outputs": [
    {
     "data": {
      "text/plain": [
       "Not Hispanic or Latino            7726282\n",
       "Info not Provided by Applicant    1096171\n",
       "Hispanic or Latino                1015159\n",
       "Not Applicable                     234804\n",
       "Name: applicant_ethnicity, dtype: int64"
      ]
     },
     "execution_count": 32,
     "metadata": {},
     "output_type": "execute_result"
    }
   ],
   "source": [
    "# Change values in applicant ethnicity to reflect categorical variables\n",
    "df4['applicant_ethnicity'] = df4['applicant_ethnicity'].replace([1,2,3,4,5],['Hispanic or Latino','Not Hispanic or Latino','Info not Provided by Applicant','Not Applicable','No Co-Applicant'])\n",
    "df4[\"applicant_ethnicity\"].value_counts()"
   ]
  },
  {
   "cell_type": "code",
   "execution_count": 33,
   "metadata": {},
   "outputs": [
    {
     "data": {
      "text/plain": [
       "5    5520912\n",
       "2    3407350\n",
       "3     538982\n",
       "1     407562\n",
       "4     197610\n",
       "Name: co_applicant_ethnicity, dtype: int64"
      ]
     },
     "execution_count": 33,
     "metadata": {},
     "output_type": "execute_result"
    }
   ],
   "source": [
    "# value counts of co applicant column\n",
    "df4[\"co_applicant_ethnicity\"].value_counts()"
   ]
  },
  {
   "cell_type": "code",
   "execution_count": 34,
   "metadata": {},
   "outputs": [
    {
     "data": {
      "text/plain": [
       "No Co-Applicant                   5520912\n",
       "Not Hispanic or Latino            3407350\n",
       "Info not Provided by Applicant     538982\n",
       "Hispanic or Latino                 407562\n",
       "Not Applicable                     197610\n",
       "Name: co_applicant_ethnicity, dtype: int64"
      ]
     },
     "execution_count": 34,
     "metadata": {},
     "output_type": "execute_result"
    }
   ],
   "source": [
    "# Change values in co applicant ethnicity to reflect categorical variables\n",
    "df4['co_applicant_ethnicity'] = df4['co_applicant_ethnicity'].replace([1,2,3,4,5],['Hispanic or Latino','Not Hispanic or Latino','Info not Provided by Applicant','Not Applicable','No Co-Applicant'])\n",
    "df4[\"co_applicant_ethnicity\"].value_counts()"
   ]
  },
  {
   "cell_type": "code",
   "execution_count": 35,
   "metadata": {},
   "outputs": [
    {
     "data": {
      "text/plain": [
       "5    7311642\n",
       "6    1157386\n",
       "3     709939\n",
       "2     541196\n",
       "7     230531\n",
       "1      78090\n",
       "4      43632\n",
       "Name: applicant_race_1, dtype: int64"
      ]
     },
     "execution_count": 35,
     "metadata": {},
     "output_type": "execute_result"
    }
   ],
   "source": [
    "# value counts of applicant race column\n",
    "df4[\"applicant_race_1\"].value_counts()"
   ]
  },
  {
   "cell_type": "code",
   "execution_count": 36,
   "metadata": {},
   "outputs": [
    {
     "data": {
      "text/plain": [
       "White                                        7311642\n",
       "Information not Provided                     1157386\n",
       "Black or African American                     709939\n",
       "Asian                                         541196\n",
       "Not Applicable                                230531\n",
       "American Indian or Alaska Native               78090\n",
       "Native Hawaiian or Other Pacific Islander      43632\n",
       "Name: applicant_race_1, dtype: int64"
      ]
     },
     "execution_count": 36,
     "metadata": {},
     "output_type": "execute_result"
    }
   ],
   "source": [
    "# Change values in applicant race to reflect categorical variables\n",
    "df4['applicant_race_1'] = df4['applicant_race_1'].replace([1,2,3,4,5,6,7,8],['American Indian or Alaska Native','Asian','Black or African American','Native Hawaiian or Other Pacific Islander','White','Information not Provided','Not Applicable','No Co-Applicant'])\n",
    "df4[\"applicant_race_1\"].value_counts()"
   ]
  },
  {
   "cell_type": "code",
   "execution_count": 37,
   "metadata": {},
   "outputs": [
    {
     "data": {
      "text/plain": [
       "8    5520912\n",
       "5    3320570\n",
       "6     558396\n",
       "2     247513\n",
       "7     195788\n",
       "3     175461\n",
       "1      27112\n",
       "4      26664\n",
       "Name: co_applicant_race_1, dtype: int64"
      ]
     },
     "execution_count": 37,
     "metadata": {},
     "output_type": "execute_result"
    }
   ],
   "source": [
    "# value counts of co applicant race column\n",
    "df4[\"co_applicant_race_1\"].value_counts()"
   ]
  },
  {
   "cell_type": "code",
   "execution_count": 38,
   "metadata": {},
   "outputs": [
    {
     "data": {
      "text/plain": [
       "No Co-Applicant                              5520912\n",
       "White                                        3320570\n",
       "Information not Provided                      558396\n",
       "Asian                                         247513\n",
       "Not Applicable                                195788\n",
       "Black or African American                     175461\n",
       "American Indian or Alaska Native               27112\n",
       "Native Hawaiian or Other Pacific Islander      26664\n",
       "Name: co_applicant_race_1, dtype: int64"
      ]
     },
     "execution_count": 38,
     "metadata": {},
     "output_type": "execute_result"
    }
   ],
   "source": [
    "# Change values in co applicant race to reflect categorical variables\n",
    "df4['co_applicant_race_1'] = df4['co_applicant_race_1'].replace([1,2,3,4,5,6,7,8],['American Indian or Alaska Native','Asian','Black or African American','Native Hawaiian or Other Pacific Islander','White','Information not Provided','Not Applicable','No Co-Applicant'])\n",
    "df4[\"co_applicant_race_1\"].value_counts()"
   ]
  },
  {
   "cell_type": "code",
   "execution_count": 39,
   "metadata": {},
   "outputs": [
    {
     "data": {
      "text/plain": [
       "1    6229294\n",
       "2    2915610\n",
       "3     697794\n",
       "4     229718\n",
       "Name: applicant_sex, dtype: int64"
      ]
     },
     "execution_count": 39,
     "metadata": {},
     "output_type": "execute_result"
    }
   ],
   "source": [
    "# value counts of applicant sex column\n",
    "df4[\"applicant_sex\"].value_counts()"
   ]
  },
  {
   "cell_type": "code",
   "execution_count": 40,
   "metadata": {},
   "outputs": [
    {
     "data": {
      "text/plain": [
       "Male                        6229294\n",
       "Female                      2915610\n",
       "Information not Provided     697794\n",
       "Not Applicable               229718\n",
       "Name: applicant_sex, dtype: int64"
      ]
     },
     "execution_count": 40,
     "metadata": {},
     "output_type": "execute_result"
    }
   ],
   "source": [
    "# Change values in applicant sex to reflect categorical variables\n",
    "df4['applicant_sex'] = df4['applicant_sex'].replace([1,2,3,4,5],['Male','Female','Information not Provided','Not Applicable','No Co-Applicant'])\n",
    "df4[\"applicant_sex\"].value_counts()"
   ]
  },
  {
   "cell_type": "code",
   "execution_count": 41,
   "metadata": {},
   "outputs": [
    {
     "data": {
      "text/plain": [
       "5    5520913\n",
       "2    3112378\n",
       "1     900022\n",
       "3     343259\n",
       "4     195844\n",
       "Name: co_applicant_sex, dtype: int64"
      ]
     },
     "execution_count": 41,
     "metadata": {},
     "output_type": "execute_result"
    }
   ],
   "source": [
    "# value counts of coapplicant sex column\n",
    "df4[\"co_applicant_sex\"].value_counts()"
   ]
  },
  {
   "cell_type": "code",
   "execution_count": 42,
   "metadata": {},
   "outputs": [
    {
     "data": {
      "text/plain": [
       "No Co-Applicant             5520913\n",
       "Female                      3112378\n",
       "Male                         900022\n",
       "Information not Provided     343259\n",
       "Not Applicable               195844\n",
       "Name: co_applicant_sex, dtype: int64"
      ]
     },
     "execution_count": 42,
     "metadata": {},
     "output_type": "execute_result"
    }
   ],
   "source": [
    "# Change values in co applicant sex to reflect categorical variables\n",
    "df4['co_applicant_sex'] = df4['co_applicant_sex'].replace([1,2,3,4,5],['Male','Female','Information not Provided','Not Applicable','No Co-Applicant'])\n",
    "df4[\"co_applicant_sex\"].value_counts()"
   ]
  },
  {
   "cell_type": "code",
   "execution_count": 43,
   "metadata": {},
   "outputs": [
    {
     "data": {
      "text/plain": [
       "0    4215569\n",
       "1    1672719\n",
       "3    1104690\n",
       "2    1008933\n",
       "7     800832\n",
       "6     739433\n",
       "9     394573\n",
       "8      85564\n",
       "5      48897\n",
       "4       1206\n",
       "Name: purchaser_type, dtype: int64"
      ]
     },
     "execution_count": 43,
     "metadata": {},
     "output_type": "execute_result"
    }
   ],
   "source": [
    "# value counts of purchaser type column\n",
    "df4[\"purchaser_type\"].value_counts()"
   ]
  },
  {
   "cell_type": "code",
   "execution_count": 44,
   "metadata": {},
   "outputs": [
    {
     "data": {
      "text/plain": [
       "Loan Not Originated                                                        4215569\n",
       "FNMA                                                                       1672719\n",
       "FHLMC                                                                      1104690\n",
       "GNMA                                                                       1008933\n",
       "Life Insurance Company, Credit Union, Mortgage Bank, or Finance Company     800832\n",
       "Commercial Bank, Savings Bank, or Savings Assoc                             739433\n",
       "Other Type of Purchaser                                                     394573\n",
       "Affiliate Institution                                                        85564\n",
       "Private Securitization                                                       48897\n",
       "FAMC                                                                          1206\n",
       "Name: purchaser_type, dtype: int64"
      ]
     },
     "execution_count": 44,
     "metadata": {},
     "output_type": "execute_result"
    }
   ],
   "source": [
    "# Change values in purchaser type to reflect categorical variables\n",
    "df4['purchaser_type'] = df4['purchaser_type'].replace([0,1,2,3,4,5,6,7,8,9],['Loan Not Originated','FNMA','GNMA','FHLMC','FAMC','Private Securitization','Commercial Bank, Savings Bank, or Savings Assoc','Life Insurance Company, Credit Union, Mortgage Bank, or Finance Company','Affiliate Institution','Other Type of Purchaser'])\n",
    "df4[\"purchaser_type\"].value_counts()"
   ]
  },
  {
   "cell_type": "code",
   "execution_count": 45,
   "metadata": {},
   "outputs": [
    {
     "data": {
      "text/plain": [
       "2    10069071\n",
       "1        3345\n",
       "Name: hoepa_status, dtype: int64"
      ]
     },
     "execution_count": 45,
     "metadata": {},
     "output_type": "execute_result"
    }
   ],
   "source": [
    "# value counts of hoepa status column\n",
    "df4[\"hoepa_status\"].value_counts()"
   ]
  },
  {
   "cell_type": "code",
   "execution_count": 46,
   "metadata": {},
   "outputs": [
    {
     "data": {
      "text/plain": [
       "Not a HOEPA Loan    10069071\n",
       "HOEPA Loan              3345\n",
       "Name: hoepa_status, dtype: int64"
      ]
     },
     "execution_count": 46,
     "metadata": {},
     "output_type": "execute_result"
    }
   ],
   "source": [
    "# Change values in hoepa status to reflect categorical variables\n",
    "df4['hoepa_status'] = df4['hoepa_status'].replace([1,2],['HOEPA Loan','Not a HOEPA Loan'])\n",
    "df4[\"hoepa_status\"].value_counts()"
   ]
  },
  {
   "cell_type": "code",
   "execution_count": 47,
   "metadata": {},
   "outputs": [],
   "source": [
    "save_path = \"Resources/sample_checkpoint.csv\"\n",
    "df4.to_csv(save_path, index=False)"
   ]
  }
 ],
 "metadata": {
  "kernelspec": {
   "display_name": "Python 3.7.13 ('mlenv')",
   "language": "python",
   "name": "python3"
  },
  "language_info": {
   "codemirror_mode": {
    "name": "ipython",
    "version": 3
   },
   "file_extension": ".py",
   "mimetype": "text/x-python",
   "name": "python",
   "nbconvert_exporter": "python",
   "pygments_lexer": "ipython3",
   "version": "3.7.13"
  },
  "orig_nbformat": 4,
  "vscode": {
   "interpreter": {
    "hash": "8f0baf4a9950911bd1b2de8aaf4333059e825f2c815a630c98b6a9c3013fa6b0"
   }
  }
 },
 "nbformat": 4,
 "nbformat_minor": 2
}
