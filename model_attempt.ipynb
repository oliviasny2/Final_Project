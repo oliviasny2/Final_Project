{
 "cells": [
  {
   "cell_type": "code",
   "execution_count": 1,
   "id": "5c257d9c",
   "metadata": {},
   "outputs": [],
   "source": [
    "import pandas as pd\n",
    "import tensorflow as tf\n",
    "from pathlib import Path\n",
    "from sklearn import tree\n",
    "from sklearn.preprocessing import StandardScaler\n",
    "from sklearn.model_selection import train_test_split\n",
    "from sklearn.metrics import confusion_matrix, accuracy_score, classification_report\n",
    "from sklearn.ensemble import RandomForestClassifier"
   ]
  },
  {
   "cell_type": "code",
   "execution_count": 2,
   "id": "6dd3ad9a",
   "metadata": {},
   "outputs": [
    {
     "data": {
      "text/html": [
       "<div>\n",
       "<style scoped>\n",
       "    .dataframe tbody tr th:only-of-type {\n",
       "        vertical-align: middle;\n",
       "    }\n",
       "\n",
       "    .dataframe tbody tr th {\n",
       "        vertical-align: top;\n",
       "    }\n",
       "\n",
       "    .dataframe thead th {\n",
       "        text-align: right;\n",
       "    }\n",
       "</style>\n",
       "<table border=\"1\" class=\"dataframe\">\n",
       "  <thead>\n",
       "    <tr style=\"text-align: right;\">\n",
       "      <th></th>\n",
       "      <th>as_of_year</th>\n",
       "      <th>agency_code</th>\n",
       "      <th>loan_type</th>\n",
       "      <th>property_type</th>\n",
       "      <th>loan_purpose</th>\n",
       "      <th>owner_occupancy</th>\n",
       "      <th>loan_amount_000s</th>\n",
       "      <th>preapproval</th>\n",
       "      <th>action_taken</th>\n",
       "      <th>action_taken_summary</th>\n",
       "      <th>...</th>\n",
       "      <th>purchaser_type</th>\n",
       "      <th>denial_reason_1</th>\n",
       "      <th>hoepa_status</th>\n",
       "      <th>lien_status</th>\n",
       "      <th>population</th>\n",
       "      <th>minority_population</th>\n",
       "      <th>hud_median_family_income</th>\n",
       "      <th>tract_to_msamd_income</th>\n",
       "      <th>number_of_owner_occupied_units</th>\n",
       "      <th>number_of_1_to_4_family_units</th>\n",
       "    </tr>\n",
       "  </thead>\n",
       "  <tbody>\n",
       "    <tr>\n",
       "      <th>0</th>\n",
       "      <td>7/9/05</td>\n",
       "      <td>9</td>\n",
       "      <td>1</td>\n",
       "      <td>1</td>\n",
       "      <td>1</td>\n",
       "      <td>1</td>\n",
       "      <td>424</td>\n",
       "      <td>3</td>\n",
       "      <td>1</td>\n",
       "      <td>1.0</td>\n",
       "      <td>...</td>\n",
       "      <td>3</td>\n",
       "      <td>0</td>\n",
       "      <td>2</td>\n",
       "      <td>1</td>\n",
       "      <td>6585.0</td>\n",
       "      <td>70.16</td>\n",
       "      <td>75200.0</td>\n",
       "      <td>110.94</td>\n",
       "      <td>1352.0</td>\n",
       "      <td>1612.0</td>\n",
       "    </tr>\n",
       "    <tr>\n",
       "      <th>1</th>\n",
       "      <td>7/9/05</td>\n",
       "      <td>2</td>\n",
       "      <td>1</td>\n",
       "      <td>1</td>\n",
       "      <td>3</td>\n",
       "      <td>1</td>\n",
       "      <td>153</td>\n",
       "      <td>3</td>\n",
       "      <td>4</td>\n",
       "      <td>NaN</td>\n",
       "      <td>...</td>\n",
       "      <td>0</td>\n",
       "      <td>0</td>\n",
       "      <td>2</td>\n",
       "      <td>1</td>\n",
       "      <td>8152.0</td>\n",
       "      <td>22.46</td>\n",
       "      <td>67300.0</td>\n",
       "      <td>96.86</td>\n",
       "      <td>2404.0</td>\n",
       "      <td>3345.0</td>\n",
       "    </tr>\n",
       "    <tr>\n",
       "      <th>2</th>\n",
       "      <td>7/9/05</td>\n",
       "      <td>9</td>\n",
       "      <td>1</td>\n",
       "      <td>1</td>\n",
       "      <td>3</td>\n",
       "      <td>1</td>\n",
       "      <td>56</td>\n",
       "      <td>3</td>\n",
       "      <td>3</td>\n",
       "      <td>0.0</td>\n",
       "      <td>...</td>\n",
       "      <td>0</td>\n",
       "      <td>3</td>\n",
       "      <td>2</td>\n",
       "      <td>1</td>\n",
       "      <td>7388.0</td>\n",
       "      <td>4.24</td>\n",
       "      <td>65500.0</td>\n",
       "      <td>120.10</td>\n",
       "      <td>2651.0</td>\n",
       "      <td>2999.0</td>\n",
       "    </tr>\n",
       "    <tr>\n",
       "      <th>3</th>\n",
       "      <td>7/9/05</td>\n",
       "      <td>7</td>\n",
       "      <td>1</td>\n",
       "      <td>1</td>\n",
       "      <td>3</td>\n",
       "      <td>1</td>\n",
       "      <td>207</td>\n",
       "      <td>3</td>\n",
       "      <td>1</td>\n",
       "      <td>1.0</td>\n",
       "      <td>...</td>\n",
       "      <td>1</td>\n",
       "      <td>0</td>\n",
       "      <td>2</td>\n",
       "      <td>1</td>\n",
       "      <td>6993.0</td>\n",
       "      <td>3.15</td>\n",
       "      <td>87200.0</td>\n",
       "      <td>107.98</td>\n",
       "      <td>2168.0</td>\n",
       "      <td>2732.0</td>\n",
       "    </tr>\n",
       "    <tr>\n",
       "      <th>4</th>\n",
       "      <td>7/9/05</td>\n",
       "      <td>7</td>\n",
       "      <td>1</td>\n",
       "      <td>1</td>\n",
       "      <td>1</td>\n",
       "      <td>1</td>\n",
       "      <td>424</td>\n",
       "      <td>3</td>\n",
       "      <td>4</td>\n",
       "      <td>NaN</td>\n",
       "      <td>...</td>\n",
       "      <td>0</td>\n",
       "      <td>0</td>\n",
       "      <td>2</td>\n",
       "      <td>1</td>\n",
       "      <td>4775.0</td>\n",
       "      <td>67.64</td>\n",
       "      <td>51800.0</td>\n",
       "      <td>219.02</td>\n",
       "      <td>1305.0</td>\n",
       "      <td>1448.0</td>\n",
       "    </tr>\n",
       "  </tbody>\n",
       "</table>\n",
       "<p>5 rows × 31 columns</p>\n",
       "</div>"
      ],
      "text/plain": [
       "  as_of_year  agency_code  loan_type  property_type  loan_purpose  \\\n",
       "0     7/9/05            9          1              1             1   \n",
       "1     7/9/05            2          1              1             3   \n",
       "2     7/9/05            9          1              1             3   \n",
       "3     7/9/05            7          1              1             3   \n",
       "4     7/9/05            7          1              1             1   \n",
       "\n",
       "   owner_occupancy  loan_amount_000s  preapproval  action_taken  \\\n",
       "0                1               424            3             1   \n",
       "1                1               153            3             4   \n",
       "2                1                56            3             3   \n",
       "3                1               207            3             1   \n",
       "4                1               424            3             4   \n",
       "\n",
       "   action_taken_summary  ...  purchaser_type  denial_reason_1  hoepa_status  \\\n",
       "0                   1.0  ...               3                0             2   \n",
       "1                   NaN  ...               0                0             2   \n",
       "2                   0.0  ...               0                3             2   \n",
       "3                   1.0  ...               1                0             2   \n",
       "4                   NaN  ...               0                0             2   \n",
       "\n",
       "   lien_status  population  minority_population  hud_median_family_income  \\\n",
       "0            1      6585.0                70.16                   75200.0   \n",
       "1            1      8152.0                22.46                   67300.0   \n",
       "2            1      7388.0                 4.24                   65500.0   \n",
       "3            1      6993.0                 3.15                   87200.0   \n",
       "4            1      4775.0                67.64                   51800.0   \n",
       "\n",
       "   tract_to_msamd_income  number_of_owner_occupied_units  \\\n",
       "0                 110.94                          1352.0   \n",
       "1                  96.86                          2404.0   \n",
       "2                 120.10                          2651.0   \n",
       "3                 107.98                          2168.0   \n",
       "4                 219.02                          1305.0   \n",
       "\n",
       "   number_of_1_to_4_family_units  \n",
       "0                         1612.0  \n",
       "1                         3345.0  \n",
       "2                         2999.0  \n",
       "3                         2732.0  \n",
       "4                         1448.0  \n",
       "\n",
       "[5 rows x 31 columns]"
      ]
     },
     "execution_count": 2,
     "metadata": {},
     "output_type": "execute_result"
    }
   ],
   "source": [
    "# Load data\n",
    "file_path = Path(\"SQL_cleaning_resources/action_taken_summary.csv\")\n",
    "df = pd.read_csv(file_path)\n",
    "df.head()"
   ]
  },
  {
   "cell_type": "code",
   "execution_count": 3,
   "id": "fda35b00",
   "metadata": {},
   "outputs": [
    {
     "data": {
      "text/plain": [
       "as_of_year                           0\n",
       "agency_code                          0\n",
       "loan_type                            0\n",
       "property_type                        0\n",
       "loan_purpose                         0\n",
       "owner_occupancy                      0\n",
       "loan_amount_000s                     0\n",
       "preapproval                          0\n",
       "action_taken                         0\n",
       "action_taken_summary              3724\n",
       "msamd                             2827\n",
       "state_code                         325\n",
       "county_code                        394\n",
       "census_tract_number                457\n",
       "applicant_ethnicity                  0\n",
       "co_applicant_ethnicity               0\n",
       "applicant_race_1                     0\n",
       "co_applicant_race_1                  0\n",
       "applicant_sex                        0\n",
       "co_applicant_sex                     0\n",
       "applicant_income_000s             3100\n",
       "purchaser_type                       0\n",
       "denial_reason_1                      0\n",
       "hoepa_status                         0\n",
       "lien_status                          0\n",
       "population                         457\n",
       "minority_population                457\n",
       "hud_median_family_income           457\n",
       "tract_to_msamd_income              457\n",
       "number_of_owner_occupied_units     457\n",
       "number_of_1_to_4_family_units      457\n",
       "dtype: int64"
      ]
     },
     "execution_count": 3,
     "metadata": {},
     "output_type": "execute_result"
    }
   ],
   "source": [
    "df.isnull().sum()"
   ]
  },
  {
   "cell_type": "code",
   "execution_count": 11,
   "id": "f6fd8284",
   "metadata": {},
   "outputs": [
    {
     "data": {
      "text/plain": [
       "agency_code                       0\n",
       "loan_type                         0\n",
       "property_type                     0\n",
       "loan_purpose                      0\n",
       "owner_occupancy                   0\n",
       "loan_amount_000s                  0\n",
       "preapproval                       0\n",
       "action_taken_summary              0\n",
       "msamd                             0\n",
       "state_code                        0\n",
       "county_code                       0\n",
       "census_tract_number               0\n",
       "applicant_ethnicity               0\n",
       "co_applicant_ethnicity            0\n",
       "applicant_race_1                  0\n",
       "co_applicant_race_1               0\n",
       "applicant_sex                     0\n",
       "co_applicant_sex                  0\n",
       "applicant_income_000s             0\n",
       "purchaser_type                    0\n",
       "denial_reason_1                   0\n",
       "hoepa_status                      0\n",
       "lien_status                       0\n",
       "population                        0\n",
       "minority_population               0\n",
       "hud_median_family_income          0\n",
       "tract_to_msamd_income             0\n",
       "number_of_owner_occupied_units    0\n",
       "number_of_1_to_4_family_units     0\n",
       "dtype: int64"
      ]
     },
     "execution_count": 11,
     "metadata": {},
     "output_type": "execute_result"
    }
   ],
   "source": [
    "df2 = df.drop(columns=[\"action_taken\", \"as_of_year\"])\n",
    "df2 = df2.dropna()\n",
    "df2.isnull().sum()"
   ]
  },
  {
   "cell_type": "code",
   "execution_count": 12,
   "id": "ea04b4ac",
   "metadata": {},
   "outputs": [],
   "source": [
    "# Define features and target\n",
    "y = df2[\"action_taken_summary\"]\n",
    "X = df2.drop(columns=\"action_taken_summary\")"
   ]
  },
  {
   "cell_type": "code",
   "execution_count": 13,
   "id": "4b020e41",
   "metadata": {},
   "outputs": [],
   "source": [
    "# Split data\n",
    "X_train, X_test, y_train, y_test = train_test_split(X, y, random_state=21)"
   ]
  },
  {
   "cell_type": "code",
   "execution_count": 14,
   "id": "11e863c8",
   "metadata": {},
   "outputs": [],
   "source": [
    "# Creating StandardScaler instance, fitting to X, and scaling\n",
    "scaler = StandardScaler()\n",
    "X_scaler = scaler.fit(X_train)\n",
    "X_train_scaled = X_scaler.transform(X_train)\n",
    "X_test_scaled = X_scaler.transform(X_test)"
   ]
  },
  {
   "cell_type": "code",
   "execution_count": 15,
   "id": "79a6bc05",
   "metadata": {},
   "outputs": [],
   "source": [
    "# Creating the decision tree classifier instance and fitting to data\n",
    "model = tree.DecisionTreeClassifier()\n",
    "model = model.fit(X_train_scaled, y_train)"
   ]
  },
  {
   "cell_type": "code",
   "execution_count": 17,
   "id": "9381719a",
   "metadata": {},
   "outputs": [],
   "source": [
    "predictions = model.predict(X_test_scaled)"
   ]
  },
  {
   "cell_type": "code",
   "execution_count": 18,
   "id": "e259e703",
   "metadata": {},
   "outputs": [],
   "source": [
    "# Calculating confusion matrix\n",
    "cm = confusion_matrix(y_test, predictions)\n",
    "cm_df = pd.DataFrame(cm, index= [\"Actual 0\", \"Actual 1\"], columns = [\"Predicted 0\", \"Predicted 1\"])\n",
    "\n",
    "# Calculating accuracy score\n",
    "acc_score = accuracy_score(y_test, predictions)"
   ]
  },
  {
   "cell_type": "code",
   "execution_count": 19,
   "id": "4d0aa74f",
   "metadata": {},
   "outputs": [
    {
     "name": "stdout",
     "output_type": "stream",
     "text": [
      "Confusion Matrix\n"
     ]
    },
    {
     "data": {
      "text/html": [
       "<div>\n",
       "<style scoped>\n",
       "    .dataframe tbody tr th:only-of-type {\n",
       "        vertical-align: middle;\n",
       "    }\n",
       "\n",
       "    .dataframe tbody tr th {\n",
       "        vertical-align: top;\n",
       "    }\n",
       "\n",
       "    .dataframe thead th {\n",
       "        text-align: right;\n",
       "    }\n",
       "</style>\n",
       "<table border=\"1\" class=\"dataframe\">\n",
       "  <thead>\n",
       "    <tr style=\"text-align: right;\">\n",
       "      <th></th>\n",
       "      <th>Predicted 0</th>\n",
       "      <th>Predicted 1</th>\n",
       "    </tr>\n",
       "  </thead>\n",
       "  <tbody>\n",
       "    <tr>\n",
       "      <th>Actual 0</th>\n",
       "      <td>596</td>\n",
       "      <td>121</td>\n",
       "    </tr>\n",
       "    <tr>\n",
       "      <th>Actual 1</th>\n",
       "      <td>113</td>\n",
       "      <td>2743</td>\n",
       "    </tr>\n",
       "  </tbody>\n",
       "</table>\n",
       "</div>"
      ],
      "text/plain": [
       "          Predicted 0  Predicted 1\n",
       "Actual 0          596          121\n",
       "Actual 1          113         2743"
      ]
     },
     "metadata": {},
     "output_type": "display_data"
    },
    {
     "name": "stdout",
     "output_type": "stream",
     "text": [
      "Accuracy Score: 0.9345088161209067\n",
      "              precision    recall  f1-score   support\n",
      "\n",
      "         0.0       0.84      0.83      0.84       717\n",
      "         1.0       0.96      0.96      0.96      2856\n",
      "\n",
      "    accuracy                           0.93      3573\n",
      "   macro avg       0.90      0.90      0.90      3573\n",
      "weighted avg       0.93      0.93      0.93      3573\n",
      "\n"
     ]
    }
   ],
   "source": [
    "# Displaying results\n",
    "print(\"Confusion Matrix\")\n",
    "display(cm_df)\n",
    "print(f\"Accuracy Score: {acc_score}\")\n",
    "print(classification_report(y_test, predictions))"
   ]
  },
  {
   "cell_type": "code",
   "execution_count": 20,
   "id": "3edf9184",
   "metadata": {},
   "outputs": [],
   "source": [
    "# Create a random forest classifier\n",
    "rf_model = RandomForestClassifier(n_estimators=500, random_state=21)"
   ]
  },
  {
   "cell_type": "code",
   "execution_count": 21,
   "id": "3c7baa56",
   "metadata": {},
   "outputs": [],
   "source": [
    "# Fitting model\n",
    "rf_model = rf_model.fit(X_train_scaled, y_train)"
   ]
  },
  {
   "cell_type": "code",
   "execution_count": 27,
   "id": "f56335f5",
   "metadata": {},
   "outputs": [],
   "source": [
    "# Making predictions using the testing data\n",
    "rf_predictions = rf_model.predict(X_test_scaled)"
   ]
  },
  {
   "cell_type": "code",
   "execution_count": 28,
   "id": "860d3a35",
   "metadata": {},
   "outputs": [],
   "source": [
    "# Calculating confusion matrix\n",
    "rf_cm = confusion_matrix(y_test, predictions)\n",
    "\n",
    "rf_cm_df = pd.DataFrame(rf_cm, index=[\"Actual 0\", \"Actual 1\"], columns=[\"Predicted 0\", \"Predicted 1\"])\n",
    "\n",
    "# Calculating accuracy score\n",
    "rf_acc_score = accuracy_score(y_test, predictions)"
   ]
  },
  {
   "cell_type": "code",
   "execution_count": 29,
   "id": "4f10862d",
   "metadata": {},
   "outputs": [
    {
     "name": "stdout",
     "output_type": "stream",
     "text": [
      "Confusion Matrix\n"
     ]
    },
    {
     "data": {
      "text/html": [
       "<div>\n",
       "<style scoped>\n",
       "    .dataframe tbody tr th:only-of-type {\n",
       "        vertical-align: middle;\n",
       "    }\n",
       "\n",
       "    .dataframe tbody tr th {\n",
       "        vertical-align: top;\n",
       "    }\n",
       "\n",
       "    .dataframe thead th {\n",
       "        text-align: right;\n",
       "    }\n",
       "</style>\n",
       "<table border=\"1\" class=\"dataframe\">\n",
       "  <thead>\n",
       "    <tr style=\"text-align: right;\">\n",
       "      <th></th>\n",
       "      <th>Predicted 0</th>\n",
       "      <th>Predicted 1</th>\n",
       "    </tr>\n",
       "  </thead>\n",
       "  <tbody>\n",
       "    <tr>\n",
       "      <th>Actual 0</th>\n",
       "      <td>598</td>\n",
       "      <td>119</td>\n",
       "    </tr>\n",
       "    <tr>\n",
       "      <th>Actual 1</th>\n",
       "      <td>74</td>\n",
       "      <td>2782</td>\n",
       "    </tr>\n",
       "  </tbody>\n",
       "</table>\n",
       "</div>"
      ],
      "text/plain": [
       "          Predicted 0  Predicted 1\n",
       "Actual 0          598          119\n",
       "Actual 1           74         2782"
      ]
     },
     "metadata": {},
     "output_type": "display_data"
    },
    {
     "name": "stdout",
     "output_type": "stream",
     "text": [
      "Accuracy Score : 0.9459837671424574\n",
      "Classification Report\n",
      "              precision    recall  f1-score   support\n",
      "\n",
      "         0.0       0.89      0.83      0.86       717\n",
      "         1.0       0.96      0.97      0.97      2856\n",
      "\n",
      "    accuracy                           0.95      3573\n",
      "   macro avg       0.92      0.90      0.91      3573\n",
      "weighted avg       0.95      0.95      0.95      3573\n",
      "\n"
     ]
    }
   ],
   "source": [
    "# Displaying Results\n",
    "print(\"Confusion Matrix\")\n",
    "display(rf_cm_df)\n",
    "print(f\"Accuracy Score : {rf_acc_score}\")\n",
    "print(\"Classification Report\")\n",
    "print(classification_report(y_test, predictions))"
   ]
  },
  {
   "cell_type": "code",
   "execution_count": 31,
   "id": "8c862aa6",
   "metadata": {},
   "outputs": [
    {
     "data": {
      "text/plain": [
       "[(0.30988966258141765, 'denial_reason_1'),\n",
       " (0.25956982624713965, 'purchaser_type'),\n",
       " (0.050507882195858674, 'agency_code'),\n",
       " (0.03659933460537553, 'applicant_income_000s'),\n",
       " (0.032230681262797614, 'loan_amount_000s'),\n",
       " (0.02515164917266415, 'minority_population'),\n",
       " (0.023706289973303478, 'tract_to_msamd_income'),\n",
       " (0.02282621047258952, 'census_tract_number'),\n",
       " (0.020579157366010816, 'population'),\n",
       " (0.020406507335042148, 'number_of_1_to_4_family_units'),\n",
       " (0.020059741259851636, 'number_of_owner_occupied_units'),\n",
       " (0.019583211944576396, 'county_code'),\n",
       " (0.019545771849316173, 'msamd'),\n",
       " (0.019390107709036906, 'hud_median_family_income'),\n",
       " (0.017693578089985312, 'loan_purpose'),\n",
       " (0.01749867172417757, 'lien_status'),\n",
       " (0.016414433933114776, 'property_type'),\n",
       " (0.016373673265563077, 'state_code'),\n",
       " (0.01451498368871719, 'loan_type'),\n",
       " (0.006369974720950051, 'applicant_race_1'),\n",
       " (0.005513127971726035, 'applicant_sex'),\n",
       " (0.005302525900951376, 'applicant_ethnicity'),\n",
       " (0.0048601842702360775, 'co_applicant_race_1'),\n",
       " (0.004701360722618575, 'co_applicant_sex'),\n",
       " (0.004527799729539313, 'co_applicant_ethnicity'),\n",
       " (0.004072795952990559, 'preapproval'),\n",
       " (0.002110178949294361, 'owner_occupancy'),\n",
       " (6.771051552567731e-07, 'hoepa_status')]"
      ]
     },
     "execution_count": 31,
     "metadata": {},
     "output_type": "execute_result"
    }
   ],
   "source": [
    "# Sort features by importance\n",
    "imp_list = sorted(zip(rf_model.feature_importances_, X.columns), reverse=True)\n",
    "imp_list"
   ]
  },
  {
   "cell_type": "code",
   "execution_count": null,
   "id": "33ed452d",
   "metadata": {},
   "outputs": [],
   "source": []
  }
 ],
 "metadata": {
  "kernelspec": {
   "display_name": "ml2",
   "language": "python",
   "name": "ml2"
  },
  "language_info": {
   "codemirror_mode": {
    "name": "ipython",
    "version": 3
   },
   "file_extension": ".py",
   "mimetype": "text/x-python",
   "name": "python",
   "nbconvert_exporter": "python",
   "pygments_lexer": "ipython3",
   "version": "3.7.13"
  }
 },
 "nbformat": 4,
 "nbformat_minor": 5
}
