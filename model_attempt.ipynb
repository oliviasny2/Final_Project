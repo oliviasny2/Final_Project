{
 "cells": [
  {
   "cell_type": "code",
   "execution_count": 1,
   "id": "5277f322",
   "metadata": {},
   "outputs": [],
   "source": [
    "import pandas as pd\n",
    "import tensorflow as tf\n",
    "from pathlib import Path\n",
    "from sklearn import tree\n",
    "from sklearn.preprocessing import StandardScaler\n",
    "from sklearn.model_selection import train_test_split\n",
    "from sklearn.metrics import confusion_matrix, accuracy_score, classification_report\n",
    "from sklearn.ensemble import RandomForestClassifier"
   ]
  },
  {
   "cell_type": "code",
   "execution_count": 2,
   "id": "d7b9d396",
   "metadata": {},
   "outputs": [
    {
     "data": {
      "text/html": [
       "<div>\n",
       "<style scoped>\n",
       "    .dataframe tbody tr th:only-of-type {\n",
       "        vertical-align: middle;\n",
       "    }\n",
       "\n",
       "    .dataframe tbody tr th {\n",
       "        vertical-align: top;\n",
       "    }\n",
       "\n",
       "    .dataframe thead th {\n",
       "        text-align: right;\n",
       "    }\n",
       "</style>\n",
       "<table border=\"1\" class=\"dataframe\">\n",
       "  <thead>\n",
       "    <tr style=\"text-align: right;\">\n",
       "      <th></th>\n",
       "      <th>as_of_year</th>\n",
       "      <th>agency_code</th>\n",
       "      <th>loan_type</th>\n",
       "      <th>property_type</th>\n",
       "      <th>loan_purpose</th>\n",
       "      <th>owner_occupancy</th>\n",
       "      <th>loan_amount_000s</th>\n",
       "      <th>preapproval</th>\n",
       "      <th>action_taken</th>\n",
       "      <th>action_taken_summary</th>\n",
       "      <th>...</th>\n",
       "      <th>purchaser_type</th>\n",
       "      <th>denial_reason_1</th>\n",
       "      <th>hoepa_status</th>\n",
       "      <th>lien_status</th>\n",
       "      <th>population</th>\n",
       "      <th>minority_population</th>\n",
       "      <th>hud_median_family_income</th>\n",
       "      <th>tract_to_msamd_income</th>\n",
       "      <th>number_of_owner_occupied_units</th>\n",
       "      <th>number_of_1_to_4_family_units</th>\n",
       "    </tr>\n",
       "  </thead>\n",
       "  <tbody>\n",
       "    <tr>\n",
       "      <th>0</th>\n",
       "      <td>7/9/05</td>\n",
       "      <td>9</td>\n",
       "      <td>1</td>\n",
       "      <td>1</td>\n",
       "      <td>1</td>\n",
       "      <td>1</td>\n",
       "      <td>424</td>\n",
       "      <td>3</td>\n",
       "      <td>1</td>\n",
       "      <td>1.0</td>\n",
       "      <td>...</td>\n",
       "      <td>3</td>\n",
       "      <td>0</td>\n",
       "      <td>2</td>\n",
       "      <td>1</td>\n",
       "      <td>6585.0</td>\n",
       "      <td>70.16</td>\n",
       "      <td>75200.0</td>\n",
       "      <td>110.94</td>\n",
       "      <td>1352.0</td>\n",
       "      <td>1612.0</td>\n",
       "    </tr>\n",
       "    <tr>\n",
       "      <th>1</th>\n",
       "      <td>7/9/05</td>\n",
       "      <td>2</td>\n",
       "      <td>1</td>\n",
       "      <td>1</td>\n",
       "      <td>3</td>\n",
       "      <td>1</td>\n",
       "      <td>153</td>\n",
       "      <td>3</td>\n",
       "      <td>4</td>\n",
       "      <td>NaN</td>\n",
       "      <td>...</td>\n",
       "      <td>0</td>\n",
       "      <td>0</td>\n",
       "      <td>2</td>\n",
       "      <td>1</td>\n",
       "      <td>8152.0</td>\n",
       "      <td>22.46</td>\n",
       "      <td>67300.0</td>\n",
       "      <td>96.86</td>\n",
       "      <td>2404.0</td>\n",
       "      <td>3345.0</td>\n",
       "    </tr>\n",
       "    <tr>\n",
       "      <th>2</th>\n",
       "      <td>7/9/05</td>\n",
       "      <td>9</td>\n",
       "      <td>1</td>\n",
       "      <td>1</td>\n",
       "      <td>3</td>\n",
       "      <td>1</td>\n",
       "      <td>56</td>\n",
       "      <td>3</td>\n",
       "      <td>3</td>\n",
       "      <td>0.0</td>\n",
       "      <td>...</td>\n",
       "      <td>0</td>\n",
       "      <td>3</td>\n",
       "      <td>2</td>\n",
       "      <td>1</td>\n",
       "      <td>7388.0</td>\n",
       "      <td>4.24</td>\n",
       "      <td>65500.0</td>\n",
       "      <td>120.10</td>\n",
       "      <td>2651.0</td>\n",
       "      <td>2999.0</td>\n",
       "    </tr>\n",
       "    <tr>\n",
       "      <th>3</th>\n",
       "      <td>7/9/05</td>\n",
       "      <td>7</td>\n",
       "      <td>1</td>\n",
       "      <td>1</td>\n",
       "      <td>3</td>\n",
       "      <td>1</td>\n",
       "      <td>207</td>\n",
       "      <td>3</td>\n",
       "      <td>1</td>\n",
       "      <td>1.0</td>\n",
       "      <td>...</td>\n",
       "      <td>1</td>\n",
       "      <td>0</td>\n",
       "      <td>2</td>\n",
       "      <td>1</td>\n",
       "      <td>6993.0</td>\n",
       "      <td>3.15</td>\n",
       "      <td>87200.0</td>\n",
       "      <td>107.98</td>\n",
       "      <td>2168.0</td>\n",
       "      <td>2732.0</td>\n",
       "    </tr>\n",
       "    <tr>\n",
       "      <th>4</th>\n",
       "      <td>7/9/05</td>\n",
       "      <td>7</td>\n",
       "      <td>1</td>\n",
       "      <td>1</td>\n",
       "      <td>1</td>\n",
       "      <td>1</td>\n",
       "      <td>424</td>\n",
       "      <td>3</td>\n",
       "      <td>4</td>\n",
       "      <td>NaN</td>\n",
       "      <td>...</td>\n",
       "      <td>0</td>\n",
       "      <td>0</td>\n",
       "      <td>2</td>\n",
       "      <td>1</td>\n",
       "      <td>4775.0</td>\n",
       "      <td>67.64</td>\n",
       "      <td>51800.0</td>\n",
       "      <td>219.02</td>\n",
       "      <td>1305.0</td>\n",
       "      <td>1448.0</td>\n",
       "    </tr>\n",
       "  </tbody>\n",
       "</table>\n",
       "<p>5 rows × 31 columns</p>\n",
       "</div>"
      ],
      "text/plain": [
       "  as_of_year  agency_code  loan_type  property_type  loan_purpose  \\\n",
       "0     7/9/05            9          1              1             1   \n",
       "1     7/9/05            2          1              1             3   \n",
       "2     7/9/05            9          1              1             3   \n",
       "3     7/9/05            7          1              1             3   \n",
       "4     7/9/05            7          1              1             1   \n",
       "\n",
       "   owner_occupancy  loan_amount_000s  preapproval  action_taken  \\\n",
       "0                1               424            3             1   \n",
       "1                1               153            3             4   \n",
       "2                1                56            3             3   \n",
       "3                1               207            3             1   \n",
       "4                1               424            3             4   \n",
       "\n",
       "   action_taken_summary  ...  purchaser_type  denial_reason_1  hoepa_status  \\\n",
       "0                   1.0  ...               3                0             2   \n",
       "1                   NaN  ...               0                0             2   \n",
       "2                   0.0  ...               0                3             2   \n",
       "3                   1.0  ...               1                0             2   \n",
       "4                   NaN  ...               0                0             2   \n",
       "\n",
       "   lien_status  population  minority_population  hud_median_family_income  \\\n",
       "0            1      6585.0                70.16                   75200.0   \n",
       "1            1      8152.0                22.46                   67300.0   \n",
       "2            1      7388.0                 4.24                   65500.0   \n",
       "3            1      6993.0                 3.15                   87200.0   \n",
       "4            1      4775.0                67.64                   51800.0   \n",
       "\n",
       "   tract_to_msamd_income  number_of_owner_occupied_units  \\\n",
       "0                 110.94                          1352.0   \n",
       "1                  96.86                          2404.0   \n",
       "2                 120.10                          2651.0   \n",
       "3                 107.98                          2168.0   \n",
       "4                 219.02                          1305.0   \n",
       "\n",
       "   number_of_1_to_4_family_units  \n",
       "0                         1612.0  \n",
       "1                         3345.0  \n",
       "2                         2999.0  \n",
       "3                         2732.0  \n",
       "4                         1448.0  \n",
       "\n",
       "[5 rows x 31 columns]"
      ]
     },
     "execution_count": 2,
     "metadata": {},
     "output_type": "execute_result"
    }
   ],
   "source": [
    "# Load data\n",
    "file_path = Path(\"SQL_cleaning_resources/action_taken_summary.csv\")\n",
    "df = pd.read_csv(file_path)\n",
    "df.head()"
   ]
  },
  {
   "cell_type": "code",
   "execution_count": 32,
   "id": "01d8ffcf",
   "metadata": {
    "scrolled": true
   },
   "outputs": [
    {
     "data": {
      "text/plain": [
       "as_of_year                           0\n",
       "agency_code                          0\n",
       "loan_type                            0\n",
       "property_type                        0\n",
       "loan_purpose                         0\n",
       "owner_occupancy                      0\n",
       "loan_amount_000s                     0\n",
       "preapproval                          0\n",
       "action_taken                         0\n",
       "action_taken_summary              3724\n",
       "msamd                             2827\n",
       "state_code                         325\n",
       "county_code                        394\n",
       "census_tract_number                457\n",
       "applicant_ethnicity                  0\n",
       "co_applicant_ethnicity               0\n",
       "applicant_race_1                     0\n",
       "co_applicant_race_1                  0\n",
       "applicant_sex                        0\n",
       "co_applicant_sex                     0\n",
       "applicant_income_000s             3100\n",
       "purchaser_type                       0\n",
       "denial_reason_1                      0\n",
       "hoepa_status                         0\n",
       "lien_status                          0\n",
       "population                         457\n",
       "minority_population                457\n",
       "hud_median_family_income           457\n",
       "tract_to_msamd_income              457\n",
       "number_of_owner_occupied_units     457\n",
       "number_of_1_to_4_family_units      457\n",
       "dtype: int64"
      ]
     },
     "execution_count": 32,
     "metadata": {},
     "output_type": "execute_result"
    }
   ],
   "source": [
    "df.isnull().sum()"
   ]
  },
  {
   "cell_type": "code",
   "execution_count": 48,
   "id": "36b26bb4",
   "metadata": {},
   "outputs": [
    {
     "data": {
      "text/plain": [
       "agency_code                       0\n",
       "loan_type                         0\n",
       "property_type                     0\n",
       "loan_purpose                      0\n",
       "owner_occupancy                   0\n",
       "loan_amount_000s                  0\n",
       "preapproval                       0\n",
       "action_taken_summary              0\n",
       "state_code                        0\n",
       "applicant_ethnicity               0\n",
       "co_applicant_ethnicity            0\n",
       "applicant_race_1                  0\n",
       "co_applicant_race_1               0\n",
       "applicant_sex                     0\n",
       "co_applicant_sex                  0\n",
       "applicant_income_000s             0\n",
       "purchaser_type                    0\n",
       "hoepa_status                      0\n",
       "lien_status                       0\n",
       "population                        0\n",
       "minority_population               0\n",
       "hud_median_family_income          0\n",
       "tract_to_msamd_income             0\n",
       "number_of_owner_occupied_units    0\n",
       "number_of_1_to_4_family_units     0\n",
       "dtype: int64"
      ]
     },
     "execution_count": 48,
     "metadata": {},
     "output_type": "execute_result"
    }
   ],
   "source": [
    "df2 = df.drop(columns=[\"action_taken\", \"as_of_year\", \"denial_reason_1\", \"msamd\", \"county_code\", \"census_tract_number\"])\n",
    "df2 = df2.dropna()\n",
    "df2 = pd.get_dummies(df2, columns=)\n",
    "df2.isnull().sum()"
   ]
  },
  {
   "cell_type": "code",
   "execution_count": 49,
   "id": "f2b6b45b",
   "metadata": {},
   "outputs": [],
   "source": [
    "# Define features and target\n",
    "y = df2[\"action_taken_summary\"]\n",
    "X = df2.drop(columns=\"action_taken_summary\")"
   ]
  },
  {
   "cell_type": "code",
   "execution_count": 50,
   "id": "d72279c9",
   "metadata": {},
   "outputs": [],
   "source": [
    "# Split data\n",
    "X_train, X_test, y_train, y_test = train_test_split(X, y, random_state=21)"
   ]
  },
  {
   "cell_type": "code",
   "execution_count": 51,
   "id": "44c01d1b",
   "metadata": {},
   "outputs": [],
   "source": [
    "# Creating StandardScaler instance, fitting to X, and scaling\n",
    "scaler = StandardScaler()\n",
    "X_scaler = scaler.fit(X_train)\n",
    "X_train_scaled = X_scaler.transform(X_train)\n",
    "X_test_scaled = X_scaler.transform(X_test)"
   ]
  },
  {
   "cell_type": "code",
   "execution_count": 52,
   "id": "59e453c2",
   "metadata": {},
   "outputs": [],
   "source": [
    "# Creating the decision tree classifier instance and fitting to data\n",
    "model = tree.DecisionTreeClassifier()\n",
    "model = model.fit(X_train_scaled, y_train)"
   ]
  },
  {
   "cell_type": "code",
   "execution_count": 53,
   "id": "a3450525",
   "metadata": {},
   "outputs": [],
   "source": [
    "predictions = model.predict(X_test_scaled)"
   ]
  },
  {
   "cell_type": "code",
   "execution_count": 54,
   "id": "418c8e7f",
   "metadata": {},
   "outputs": [],
   "source": [
    "# Calculating confusion matrix\n",
    "cm = confusion_matrix(y_test, predictions)\n",
    "cm_df = pd.DataFrame(cm, index= [\"Actual 0\", \"Actual 1\"], columns = [\"Predicted 0\", \"Predicted 1\"])\n",
    "\n",
    "# Calculating accuracy score\n",
    "acc_score = accuracy_score(y_test, predictions)"
   ]
  },
  {
   "cell_type": "code",
   "execution_count": 55,
   "id": "a4cca693",
   "metadata": {},
   "outputs": [
    {
     "name": "stdout",
     "output_type": "stream",
     "text": [
      "Confusion Matrix\n"
     ]
    },
    {
     "data": {
      "text/html": [
       "<div>\n",
       "<style scoped>\n",
       "    .dataframe tbody tr th:only-of-type {\n",
       "        vertical-align: middle;\n",
       "    }\n",
       "\n",
       "    .dataframe tbody tr th {\n",
       "        vertical-align: top;\n",
       "    }\n",
       "\n",
       "    .dataframe thead th {\n",
       "        text-align: right;\n",
       "    }\n",
       "</style>\n",
       "<table border=\"1\" class=\"dataframe\">\n",
       "  <thead>\n",
       "    <tr style=\"text-align: right;\">\n",
       "      <th></th>\n",
       "      <th>Predicted 0</th>\n",
       "      <th>Predicted 1</th>\n",
       "    </tr>\n",
       "  </thead>\n",
       "  <tbody>\n",
       "    <tr>\n",
       "      <th>Actual 0</th>\n",
       "      <td>548</td>\n",
       "      <td>285</td>\n",
       "    </tr>\n",
       "    <tr>\n",
       "      <th>Actual 1</th>\n",
       "      <td>299</td>\n",
       "      <td>2878</td>\n",
       "    </tr>\n",
       "  </tbody>\n",
       "</table>\n",
       "</div>"
      ],
      "text/plain": [
       "          Predicted 0  Predicted 1\n",
       "Actual 0          548          285\n",
       "Actual 1          299         2878"
      ]
     },
     "metadata": {},
     "output_type": "display_data"
    },
    {
     "name": "stdout",
     "output_type": "stream",
     "text": [
      "Accuracy Score: 0.8543640897755611\n",
      "              precision    recall  f1-score   support\n",
      "\n",
      "         0.0       0.65      0.66      0.65       833\n",
      "         1.0       0.91      0.91      0.91      3177\n",
      "\n",
      "    accuracy                           0.85      4010\n",
      "   macro avg       0.78      0.78      0.78      4010\n",
      "weighted avg       0.86      0.85      0.85      4010\n",
      "\n"
     ]
    }
   ],
   "source": [
    "# Displaying results\n",
    "print(\"Confusion Matrix\")\n",
    "display(cm_df)\n",
    "print(f\"Accuracy Score: {acc_score}\")\n",
    "print(classification_report(y_test, predictions))"
   ]
  },
  {
   "cell_type": "code",
   "execution_count": 56,
   "id": "30b5fbf7",
   "metadata": {},
   "outputs": [],
   "source": [
    "# Create a random forest classifier\n",
    "rf_model = RandomForestClassifier(n_estimators=500, random_state=21)"
   ]
  },
  {
   "cell_type": "code",
   "execution_count": 57,
   "id": "4c98d52e",
   "metadata": {},
   "outputs": [],
   "source": [
    "# Fitting model\n",
    "rf_model = rf_model.fit(X_train_scaled, y_train)"
   ]
  },
  {
   "cell_type": "code",
   "execution_count": 58,
   "id": "3e369096",
   "metadata": {},
   "outputs": [],
   "source": [
    "# Making predictions using the testing data\n",
    "rf_predictions = rf_model.predict(X_test_scaled)"
   ]
  },
  {
   "cell_type": "code",
   "execution_count": 59,
   "id": "25aa1538",
   "metadata": {},
   "outputs": [],
   "source": [
    "# Calculating confusion matrix\n",
    "rf_cm = confusion_matrix(y_test, predictions)\n",
    "\n",
    "rf_cm_df = pd.DataFrame(rf_cm, index=[\"Actual 0\", \"Actual 1\"], columns=[\"Predicted 0\", \"Predicted 1\"])\n",
    "\n",
    "# Calculating accuracy score\n",
    "rf_acc_score = accuracy_score(y_test, predictions)"
   ]
  },
  {
   "cell_type": "code",
   "execution_count": 60,
   "id": "db5cbd98",
   "metadata": {},
   "outputs": [
    {
     "name": "stdout",
     "output_type": "stream",
     "text": [
      "Confusion Matrix\n"
     ]
    },
    {
     "data": {
      "text/html": [
       "<div>\n",
       "<style scoped>\n",
       "    .dataframe tbody tr th:only-of-type {\n",
       "        vertical-align: middle;\n",
       "    }\n",
       "\n",
       "    .dataframe tbody tr th {\n",
       "        vertical-align: top;\n",
       "    }\n",
       "\n",
       "    .dataframe thead th {\n",
       "        text-align: right;\n",
       "    }\n",
       "</style>\n",
       "<table border=\"1\" class=\"dataframe\">\n",
       "  <thead>\n",
       "    <tr style=\"text-align: right;\">\n",
       "      <th></th>\n",
       "      <th>Predicted 0</th>\n",
       "      <th>Predicted 1</th>\n",
       "    </tr>\n",
       "  </thead>\n",
       "  <tbody>\n",
       "    <tr>\n",
       "      <th>Actual 0</th>\n",
       "      <td>548</td>\n",
       "      <td>285</td>\n",
       "    </tr>\n",
       "    <tr>\n",
       "      <th>Actual 1</th>\n",
       "      <td>299</td>\n",
       "      <td>2878</td>\n",
       "    </tr>\n",
       "  </tbody>\n",
       "</table>\n",
       "</div>"
      ],
      "text/plain": [
       "          Predicted 0  Predicted 1\n",
       "Actual 0          548          285\n",
       "Actual 1          299         2878"
      ]
     },
     "metadata": {},
     "output_type": "display_data"
    },
    {
     "name": "stdout",
     "output_type": "stream",
     "text": [
      "Accuracy Score : 0.8543640897755611\n",
      "Classification Report\n",
      "              precision    recall  f1-score   support\n",
      "\n",
      "         0.0       0.65      0.66      0.65       833\n",
      "         1.0       0.91      0.91      0.91      3177\n",
      "\n",
      "    accuracy                           0.85      4010\n",
      "   macro avg       0.78      0.78      0.78      4010\n",
      "weighted avg       0.86      0.85      0.85      4010\n",
      "\n"
     ]
    }
   ],
   "source": [
    "# Displaying Results\n",
    "print(\"Confusion Matrix\")\n",
    "display(rf_cm_df)\n",
    "print(f\"Accuracy Score : {rf_acc_score}\")\n",
    "print(\"Classification Report\")\n",
    "print(classification_report(y_test, predictions))"
   ]
  },
  {
   "cell_type": "code",
   "execution_count": 61,
   "id": "833f7659",
   "metadata": {},
   "outputs": [
    {
     "data": {
      "text/plain": [
       "[(0.3787343875123473, 'purchaser_type'),\n",
       " (0.06387647922774545, 'applicant_income_000s'),\n",
       " (0.05771513098533533, 'agency_code'),\n",
       " (0.055718991522457385, 'loan_amount_000s'),\n",
       " (0.04743728116275096, 'tract_to_msamd_income'),\n",
       " (0.04591509697005611, 'minority_population'),\n",
       " (0.041853628188538786, 'population'),\n",
       " (0.04111769616900423, 'number_of_1_to_4_family_units'),\n",
       " (0.04110960231324314, 'number_of_owner_occupied_units'),\n",
       " (0.040533455593803724, 'hud_median_family_income'),\n",
       " (0.034173713953276605, 'state_code'),\n",
       " (0.026429577173197674, 'loan_purpose'),\n",
       " (0.024675116311286143, 'lien_status'),\n",
       " (0.019236720556391862, 'loan_type'),\n",
       " (0.013447817970150716, 'property_type'),\n",
       " (0.011543214033809717, 'applicant_race_1'),\n",
       " (0.010713354852242353, 'applicant_sex'),\n",
       " (0.010156984526834275, 'applicant_ethnicity'),\n",
       " (0.008462087957346863, 'co_applicant_race_1'),\n",
       " (0.007995491551439252, 'co_applicant_sex'),\n",
       " (0.0077876644331602105, 'co_applicant_ethnicity'),\n",
       " (0.00683985908022711, 'preapproval'),\n",
       " (0.004526111392181559, 'owner_occupancy'),\n",
       " (5.365631733029935e-07, 'hoepa_status')]"
      ]
     },
     "execution_count": 61,
     "metadata": {},
     "output_type": "execute_result"
    }
   ],
   "source": [
    "# Sort features by importance\n",
    "imp_list = sorted(zip(rf_model.feature_importances_, X.columns), reverse=True)\n",
    "imp_list"
   ]
  },
  {
   "cell_type": "code",
   "execution_count": null,
   "id": "33f87ca4",
   "metadata": {},
   "outputs": [],
   "source": []
  }
 ],
 "metadata": {
  "kernelspec": {
   "display_name": "ml2",
   "language": "python",
   "name": "ml2"
  },
  "language_info": {
   "codemirror_mode": {
    "name": "ipython",
    "version": 3
   },
   "file_extension": ".py",
   "mimetype": "text/x-python",
   "name": "python",
   "nbconvert_exporter": "python",
   "pygments_lexer": "ipython3",
   "version": "3.7.13"
  }
 },
 "nbformat": 4,
 "nbformat_minor": 5
}
