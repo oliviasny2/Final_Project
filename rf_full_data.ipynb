{
 "cells": [
  {
   "cell_type": "code",
   "execution_count": 72,
   "id": "fc5832c0",
   "metadata": {},
   "outputs": [],
   "source": [
    "%matplotlib inline\n",
    "import pickle as pk\n",
    "import pandas as pd\n",
    "import tensorflow as tf\n",
    "from pathlib import Path\n",
    "from sklearn import tree\n",
    "from sklearn.preprocessing import StandardScaler, OneHotEncoder\n",
    "from sklearn.model_selection import train_test_split\n",
    "from sklearn.metrics import confusion_matrix, accuracy_score, classification_report\n",
    "from sklearn.ensemble import RandomForestClassifier"
   ]
  },
  {
   "cell_type": "code",
   "execution_count": null,
   "id": "e4f92076",
   "metadata": {},
   "outputs": [],
   "source": [
    "# Load data\n",
    "file_path = Path(\"Resources/pickled_raws.pkl\")\n",
    "df = pd.read_pickle(file_path)\n",
    "df.head()"
   ]
  },
  {
   "cell_type": "code",
   "execution_count": null,
   "id": "cf0a77af",
   "metadata": {},
   "outputs": [],
   "source": [
    "# Drop undesired columns\n",
    "df = df.drop(columns=[\"action_taken\", \"purchaser_type\", \"denial_reason_1\", \"lien_status\", \"state_code\", \"hoepa_status\"])"
   ]
  },
  {
   "cell_type": "code",
   "execution_count": null,
   "id": "1e571824",
   "metadata": {},
   "outputs": [],
   "source": [
    "df.info()"
   ]
  },
  {
   "cell_type": "code",
   "execution_count": null,
   "id": "52f6d3fd",
   "metadata": {},
   "outputs": [],
   "source": [
    "# Remove rows containing N/A, incomplete, or irrelevant information\n",
    "df = df.loc[df[\"loan_purpose\"] == \"Home Purchase\"]\n",
    "df = df.drop(columns=\"loan_purpose\")"
   ]
  },
  {
   "cell_type": "code",
   "execution_count": null,
   "id": "a6b8be43",
   "metadata": {},
   "outputs": [],
   "source": [
    "df = df.loc[df[\"owner_occupancy\"] != \"Not Applicable\"]"
   ]
  },
  {
   "cell_type": "code",
   "execution_count": null,
   "id": "fdec4dcf",
   "metadata": {},
   "outputs": [],
   "source": [
    "df = df.loc[df[\"applicant_sex\"] != \"Information not Provided\"]\n",
    "df = df.loc[df[\"applicant_sex\"] != \"Not Applicable\"]"
   ]
  },
  {
   "cell_type": "code",
   "execution_count": null,
   "id": "5394cd54",
   "metadata": {},
   "outputs": [],
   "source": [
    "df = df.loc[df[\"co_applicant_sex\"] != \"Information not Provided\"]\n",
    "df = df.loc[df[\"co_applicant_sex\"] != \"Not Applicable\"]"
   ]
  },
  {
   "cell_type": "code",
   "execution_count": null,
   "id": "6eecaf60",
   "metadata": {},
   "outputs": [],
   "source": [
    "df = df.loc[df[\"applicant_ethnicity\"] != \"Not Applicable\"]\n",
    "df = df.loc[df[\"applicant_ethnicity\"] != \"Info not Provided by Applicant\"]"
   ]
  },
  {
   "cell_type": "code",
   "execution_count": null,
   "id": "8996e598",
   "metadata": {},
   "outputs": [],
   "source": [
    "df = df.loc[df[\"co_applicant_ethnicity\"] != \"Not Applicable\"]\n",
    "df = df.loc[df[\"co_applicant_ethnicity\"] != \"Info not Provided by Applicant\"]"
   ]
  },
  {
   "cell_type": "code",
   "execution_count": null,
   "id": "2d49cca1",
   "metadata": {},
   "outputs": [],
   "source": [
    "df = df.loc[df[\"preapproval\"] != \"Not Applicable\"]"
   ]
  },
  {
   "cell_type": "code",
   "execution_count": null,
   "id": "3a8fb2f3",
   "metadata": {},
   "outputs": [],
   "source": [
    "# Remove outlier homes\n",
    "df = df.loc[df[\"loan_amount_000s\"] <= 1650]"
   ]
  },
  {
   "cell_type": "code",
   "execution_count": null,
   "id": "0fa18896",
   "metadata": {},
   "outputs": [],
   "source": [
    "# Restrict target variable to only approvals and denials\n",
    "df = df.loc[df[\"action_taken_summary\"] != 2]"
   ]
  },
  {
   "cell_type": "code",
   "execution_count": null,
   "id": "5cd00a7c",
   "metadata": {
    "scrolled": true
   },
   "outputs": [],
   "source": [
    "df.count()"
   ]
  },
  {
   "cell_type": "code",
   "execution_count": null,
   "id": "f88709c4",
   "metadata": {},
   "outputs": [],
   "source": [
    "df.head()"
   ]
  },
  {
   "cell_type": "code",
   "execution_count": null,
   "id": "7cef4f87",
   "metadata": {},
   "outputs": [],
   "source": [
    "# Drop index\n",
    "df = df.reset_index(drop=True)"
   ]
  },
  {
   "cell_type": "code",
   "execution_count": null,
   "id": "a35b1af9",
   "metadata": {
    "scrolled": true
   },
   "outputs": [],
   "source": [
    "# Generate our categorical variable lists\n",
    "action_cat = df.dtypes[df.dtypes == \"object\"].index.tolist()\n",
    "df[action_cat].nunique()"
   ]
  },
  {
   "cell_type": "code",
   "execution_count": null,
   "id": "61ad326a",
   "metadata": {},
   "outputs": [],
   "source": [
    "# Create a OneHotEncoder instance\n",
    "enc = OneHotEncoder(sparse=False)\n",
    "\n",
    "# Fit and transform the OneHotEncoder using the categorical variable list\n",
    "encode_df = pd.DataFrame(enc.fit_transform(df[action_cat]))\n",
    "\n",
    "# Add the encoded variable names to the dataframe\n",
    "encode_df.columns = enc.get_feature_names(action_cat)\n",
    "encode_df.head()"
   ]
  },
  {
   "cell_type": "code",
   "execution_count": null,
   "id": "5acbd569",
   "metadata": {
    "scrolled": true
   },
   "outputs": [],
   "source": [
    "# Merge dummy columns and drop originals\n",
    "df = df.merge(encode_df,left_index=True, right_index=True)\n",
    "df = df.drop(action_cat, axis=1)\n",
    "df.count()"
   ]
  },
  {
   "cell_type": "code",
   "execution_count": null,
   "id": "bf67f655",
   "metadata": {
    "scrolled": false
   },
   "outputs": [],
   "source": [
    "df.columns"
   ]
  },
  {
   "cell_type": "code",
   "execution_count": null,
   "id": "7b2e9af5",
   "metadata": {},
   "outputs": [],
   "source": [
    "# Drop inverse columns for binary categories\n",
    "df = df.drop(columns=[\"owner_occupancy_Not Owner Occupied\", \"applicant_sex_Male\", \"applicant_ethnicity_Not Hispanic or Latino\", \"preapproval_Preapproval Not Requested\"])"
   ]
  },
  {
   "cell_type": "code",
   "execution_count": null,
   "id": "8e75aac4",
   "metadata": {},
   "outputs": [],
   "source": [
    "# Define features and targets\n",
    "y = df[\"action_taken_summary\"]\n",
    "X = df.drop(columns=\"action_taken_summary\")"
   ]
  },
  {
   "cell_type": "code",
   "execution_count": null,
   "id": "0b35199f",
   "metadata": {},
   "outputs": [],
   "source": [
    "# Split data\n",
    "X_train, X_test, y_train, y_test = train_test_split(X, y, random_state=21)"
   ]
  },
  {
   "cell_type": "code",
   "execution_count": null,
   "id": "79eef11d",
   "metadata": {},
   "outputs": [],
   "source": [
    "# Create StandardScaler instance, fit to X, scale\n",
    "scaler = StandardScaler()\n",
    "X_scaler = scaler.fit(X_train)\n",
    "X_train_scaled = X_scaler.transform(X_train)\n",
    "X_test_scaled = X_scaler.transform(X_test)"
   ]
  },
  {
   "cell_type": "code",
   "execution_count": null,
   "id": "5d5ac1ec",
   "metadata": {},
   "outputs": [],
   "source": [
    "# Create a random forest classifier\n",
    "model = RandomForestClassifier(max_depth = 3, max_features = 3, n_estimators=100, class_weight = \"balanced\", random_state=21)"
   ]
  },
  {
   "cell_type": "code",
   "execution_count": null,
   "id": "c213f621",
   "metadata": {},
   "outputs": [],
   "source": [
    "# Fit model\n",
    "model = model.fit(X_train_scaled, y_train)"
   ]
  },
  {
   "cell_type": "code",
   "execution_count": null,
   "id": "e80f4063",
   "metadata": {},
   "outputs": [],
   "source": [
    "predictions = model.predict(X_test_scaled)"
   ]
  },
  {
   "cell_type": "code",
   "execution_count": null,
   "id": "8b3682d8",
   "metadata": {},
   "outputs": [],
   "source": [
    "# Calculate confusion matrix and accuracy score\n",
    "cm = confusion_matrix(y_test, predictions)\n",
    "cm_df = pd.DataFrame(cm, index= [\"Actual 0\", \"Actual 1\"], columns = [\"Predicted 0\", \"Predicted 1\"])\n",
    "\n",
    "acc_score = accuracy_score(y_test, predictions)"
   ]
  },
  {
   "cell_type": "code",
   "execution_count": null,
   "id": "7080329d",
   "metadata": {
    "scrolled": true
   },
   "outputs": [],
   "source": [
    "# Displaying results\n",
    "print(\"Confusion Matrix\")\n",
    "display(cm_df)\n",
    "print(f\"Accuracy Score: {acc_score}\")\n",
    "print(classification_report(y_test, predictions))"
   ]
  },
  {
   "cell_type": "code",
   "execution_count": null,
   "id": "166d7079",
   "metadata": {},
   "outputs": [],
   "source": [
    "# Sort features by importance\n",
    "imp_list = sorted(zip(model.feature_importances_, X.columns), reverse=True)\n",
    "imp_list"
   ]
  },
  {
   "cell_type": "code",
   "execution_count": null,
   "id": "4915a669",
   "metadata": {},
   "outputs": [],
   "source": [
    "pd.Series(model.feature_importances_, index=X.columns).nlargest(10).plot(kind='barh')"
   ]
  }
 ],
 "metadata": {
  "kernelspec": {
   "display_name": "ml2",
   "language": "python",
   "name": "ml2"
  },
  "language_info": {
   "codemirror_mode": {
    "name": "ipython",
    "version": 3
   },
   "file_extension": ".py",
   "mimetype": "text/x-python",
   "name": "python",
   "nbconvert_exporter": "python",
   "pygments_lexer": "ipython3",
   "version": "3.7.13"
  }
 },
 "nbformat": 4,
 "nbformat_minor": 5
}
