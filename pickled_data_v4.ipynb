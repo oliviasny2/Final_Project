{
 "cells": [
  {
   "cell_type": "markdown",
   "metadata": {},
   "source": [
    "## Dependencies"
   ]
  },
  {
   "cell_type": "code",
   "execution_count": 2,
   "metadata": {},
   "outputs": [],
   "source": [
    "# Import machine learning dependencies\n",
    "\n",
    "import tensorflow as tf\n",
    "import pandas as pd\n",
    "from pathlib import Path\n",
    "from sklearn import tree\n",
    "from sklearn.preprocessing import StandardScaler,OneHotEncoder\n",
    "from sklearn.model_selection import train_test_split\n",
    "from sklearn.metrics import confusion_matrix, accuracy_score, classification_report\n",
    "\n",
    "from sklearn.linear_model import LogisticRegression\n",
    "from sklearn.ensemble import RandomForestClassifier\n",
    "\n",
    "import os\n",
    "from tensorflow.keras.callbacks import ModelCheckpoint\n",
    "from tensorflow.math import confusion_matrix as cm\n",
    "from imblearn.over_sampling import SMOTE\n",
    "from collections import Counter\n",
    "from imblearn.over_sampling import RandomOverSampler\n",
    "from imblearn.under_sampling import RandomUnderSampler"
   ]
  },
  {
   "cell_type": "code",
   "execution_count": 3,
   "metadata": {},
   "outputs": [],
   "source": [
    "# Import other dependencies\n",
    "\n",
    "from matplotlib import style\n",
    "style.use('fivethirtyeight')\n",
    "import matplotlib.pyplot as plt\n",
    "import numpy as np\n",
    "import pandas as pd\n",
    "import datetime as dt\n",
    "import pickle"
   ]
  },
  {
   "cell_type": "code",
   "execution_count": 4,
   "metadata": {},
   "outputs": [],
   "source": [
    "# Python SQL toolkit and Object Relational Mapper\n",
    "\n",
    "import sqlalchemy\n",
    "from sqlalchemy.ext.automap import automap_base\n",
    "from sqlalchemy.orm import Session\n",
    "from sqlalchemy import create_engine, func"
   ]
  },
  {
   "cell_type": "markdown",
   "metadata": {},
   "source": [
    "## Import Pickled File - From Anu's connection to SQL"
   ]
  },
  {
   "cell_type": "code",
   "execution_count": 5,
   "metadata": {},
   "outputs": [],
   "source": [
    "# Open pickle\n",
    "df = pickle.load(open('Resources/final_pickle.pkl', 'rb'))"
   ]
  },
  {
   "cell_type": "code",
   "execution_count": 6,
   "metadata": {},
   "outputs": [
    {
     "data": {
      "text/html": [
       "<div>\n",
       "<style scoped>\n",
       "    .dataframe tbody tr th:only-of-type {\n",
       "        vertical-align: middle;\n",
       "    }\n",
       "\n",
       "    .dataframe tbody tr th {\n",
       "        vertical-align: top;\n",
       "    }\n",
       "\n",
       "    .dataframe thead th {\n",
       "        text-align: right;\n",
       "    }\n",
       "</style>\n",
       "<table border=\"1\" class=\"dataframe\">\n",
       "  <thead>\n",
       "    <tr style=\"text-align: right;\">\n",
       "      <th></th>\n",
       "      <th>loan_amount_000s</th>\n",
       "      <th>msamd</th>\n",
       "      <th>county_code</th>\n",
       "      <th>census_tract_number</th>\n",
       "      <th>applicant_income_000s</th>\n",
       "      <th>population</th>\n",
       "      <th>minority_population</th>\n",
       "      <th>hud_median_family_income</th>\n",
       "      <th>tract_to_msamd_income</th>\n",
       "      <th>number_of_owner_occupied_units</th>\n",
       "      <th>...</th>\n",
       "      <th>co_applicant_sex_Female</th>\n",
       "      <th>co_applicant_sex_Male</th>\n",
       "      <th>co_applicant_sex_No Co-Applicant</th>\n",
       "      <th>Region_MA</th>\n",
       "      <th>Region_MW</th>\n",
       "      <th>Region_NE</th>\n",
       "      <th>Region_NW</th>\n",
       "      <th>Region_SE</th>\n",
       "      <th>Region_SW</th>\n",
       "      <th>Region_W</th>\n",
       "    </tr>\n",
       "  </thead>\n",
       "  <tbody>\n",
       "    <tr>\n",
       "      <th>11</th>\n",
       "      <td>92.0</td>\n",
       "      <td>33860.0</td>\n",
       "      <td>1.0</td>\n",
       "      <td>201.0</td>\n",
       "      <td>29.0</td>\n",
       "      <td>1948.0</td>\n",
       "      <td>12.58</td>\n",
       "      <td>59700.0</td>\n",
       "      <td>122.93</td>\n",
       "      <td>507.0</td>\n",
       "      <td>...</td>\n",
       "      <td>0.0</td>\n",
       "      <td>0.0</td>\n",
       "      <td>1.0</td>\n",
       "      <td>0.0</td>\n",
       "      <td>0.0</td>\n",
       "      <td>0.0</td>\n",
       "      <td>0.0</td>\n",
       "      <td>1.0</td>\n",
       "      <td>0.0</td>\n",
       "      <td>0.0</td>\n",
       "    </tr>\n",
       "    <tr>\n",
       "      <th>13</th>\n",
       "      <td>94.0</td>\n",
       "      <td>33860.0</td>\n",
       "      <td>1.0</td>\n",
       "      <td>201.0</td>\n",
       "      <td>53.0</td>\n",
       "      <td>1948.0</td>\n",
       "      <td>12.58</td>\n",
       "      <td>59700.0</td>\n",
       "      <td>122.93</td>\n",
       "      <td>507.0</td>\n",
       "      <td>...</td>\n",
       "      <td>1.0</td>\n",
       "      <td>0.0</td>\n",
       "      <td>0.0</td>\n",
       "      <td>0.0</td>\n",
       "      <td>0.0</td>\n",
       "      <td>0.0</td>\n",
       "      <td>0.0</td>\n",
       "      <td>1.0</td>\n",
       "      <td>0.0</td>\n",
       "      <td>0.0</td>\n",
       "    </tr>\n",
       "    <tr>\n",
       "      <th>18</th>\n",
       "      <td>147.0</td>\n",
       "      <td>33860.0</td>\n",
       "      <td>1.0</td>\n",
       "      <td>201.0</td>\n",
       "      <td>90.0</td>\n",
       "      <td>1948.0</td>\n",
       "      <td>12.58</td>\n",
       "      <td>59700.0</td>\n",
       "      <td>122.93</td>\n",
       "      <td>507.0</td>\n",
       "      <td>...</td>\n",
       "      <td>1.0</td>\n",
       "      <td>0.0</td>\n",
       "      <td>0.0</td>\n",
       "      <td>0.0</td>\n",
       "      <td>0.0</td>\n",
       "      <td>0.0</td>\n",
       "      <td>0.0</td>\n",
       "      <td>1.0</td>\n",
       "      <td>0.0</td>\n",
       "      <td>0.0</td>\n",
       "    </tr>\n",
       "    <tr>\n",
       "      <th>24</th>\n",
       "      <td>115.0</td>\n",
       "      <td>33860.0</td>\n",
       "      <td>1.0</td>\n",
       "      <td>201.0</td>\n",
       "      <td>30.0</td>\n",
       "      <td>1948.0</td>\n",
       "      <td>12.58</td>\n",
       "      <td>59700.0</td>\n",
       "      <td>122.93</td>\n",
       "      <td>507.0</td>\n",
       "      <td>...</td>\n",
       "      <td>0.0</td>\n",
       "      <td>0.0</td>\n",
       "      <td>1.0</td>\n",
       "      <td>0.0</td>\n",
       "      <td>0.0</td>\n",
       "      <td>0.0</td>\n",
       "      <td>0.0</td>\n",
       "      <td>1.0</td>\n",
       "      <td>0.0</td>\n",
       "      <td>0.0</td>\n",
       "    </tr>\n",
       "    <tr>\n",
       "      <th>33</th>\n",
       "      <td>160.0</td>\n",
       "      <td>33860.0</td>\n",
       "      <td>1.0</td>\n",
       "      <td>201.0</td>\n",
       "      <td>50.0</td>\n",
       "      <td>1948.0</td>\n",
       "      <td>12.58</td>\n",
       "      <td>59700.0</td>\n",
       "      <td>122.93</td>\n",
       "      <td>507.0</td>\n",
       "      <td>...</td>\n",
       "      <td>0.0</td>\n",
       "      <td>0.0</td>\n",
       "      <td>1.0</td>\n",
       "      <td>0.0</td>\n",
       "      <td>0.0</td>\n",
       "      <td>0.0</td>\n",
       "      <td>0.0</td>\n",
       "      <td>1.0</td>\n",
       "      <td>0.0</td>\n",
       "      <td>0.0</td>\n",
       "    </tr>\n",
       "  </tbody>\n",
       "</table>\n",
       "<p>5 rows × 59 columns</p>\n",
       "</div>"
      ],
      "text/plain": [
       "    loan_amount_000s    msamd  county_code  census_tract_number  \\\n",
       "11              92.0  33860.0          1.0                201.0   \n",
       "13              94.0  33860.0          1.0                201.0   \n",
       "18             147.0  33860.0          1.0                201.0   \n",
       "24             115.0  33860.0          1.0                201.0   \n",
       "33             160.0  33860.0          1.0                201.0   \n",
       "\n",
       "    applicant_income_000s  population  minority_population  \\\n",
       "11                   29.0      1948.0                12.58   \n",
       "13                   53.0      1948.0                12.58   \n",
       "18                   90.0      1948.0                12.58   \n",
       "24                   30.0      1948.0                12.58   \n",
       "33                   50.0      1948.0                12.58   \n",
       "\n",
       "    hud_median_family_income  tract_to_msamd_income  \\\n",
       "11                   59700.0                 122.93   \n",
       "13                   59700.0                 122.93   \n",
       "18                   59700.0                 122.93   \n",
       "24                   59700.0                 122.93   \n",
       "33                   59700.0                 122.93   \n",
       "\n",
       "    number_of_owner_occupied_units  ...  co_applicant_sex_Female  \\\n",
       "11                           507.0  ...                      0.0   \n",
       "13                           507.0  ...                      1.0   \n",
       "18                           507.0  ...                      1.0   \n",
       "24                           507.0  ...                      0.0   \n",
       "33                           507.0  ...                      0.0   \n",
       "\n",
       "    co_applicant_sex_Male  co_applicant_sex_No Co-Applicant  Region_MA  \\\n",
       "11                    0.0                               1.0        0.0   \n",
       "13                    0.0                               0.0        0.0   \n",
       "18                    0.0                               0.0        0.0   \n",
       "24                    0.0                               1.0        0.0   \n",
       "33                    0.0                               1.0        0.0   \n",
       "\n",
       "    Region_MW  Region_NE  Region_NW  Region_SE  Region_SW  Region_W  \n",
       "11        0.0        0.0        0.0        1.0        0.0       0.0  \n",
       "13        0.0        0.0        0.0        1.0        0.0       0.0  \n",
       "18        0.0        0.0        0.0        1.0        0.0       0.0  \n",
       "24        0.0        0.0        0.0        1.0        0.0       0.0  \n",
       "33        0.0        0.0        0.0        1.0        0.0       0.0  \n",
       "\n",
       "[5 rows x 59 columns]"
      ]
     },
     "execution_count": 6,
     "metadata": {},
     "output_type": "execute_result"
    }
   ],
   "source": [
    "df.head()"
   ]
  },
  {
   "cell_type": "code",
   "execution_count": 7,
   "metadata": {},
   "outputs": [
    {
     "data": {
      "text/html": [
       "<div>\n",
       "<style scoped>\n",
       "    .dataframe tbody tr th:only-of-type {\n",
       "        vertical-align: middle;\n",
       "    }\n",
       "\n",
       "    .dataframe tbody tr th {\n",
       "        vertical-align: top;\n",
       "    }\n",
       "\n",
       "    .dataframe thead th {\n",
       "        text-align: right;\n",
       "    }\n",
       "</style>\n",
       "<table border=\"1\" class=\"dataframe\">\n",
       "  <thead>\n",
       "    <tr style=\"text-align: right;\">\n",
       "      <th></th>\n",
       "      <th>loan_amount_000s</th>\n",
       "      <th>msamd</th>\n",
       "      <th>county_code</th>\n",
       "      <th>census_tract_number</th>\n",
       "      <th>applicant_income_000s</th>\n",
       "      <th>population</th>\n",
       "      <th>minority_population</th>\n",
       "      <th>hud_median_family_income</th>\n",
       "      <th>tract_to_msamd_income</th>\n",
       "      <th>number_of_owner_occupied_units</th>\n",
       "      <th>...</th>\n",
       "      <th>co_applicant_sex_Female</th>\n",
       "      <th>co_applicant_sex_Male</th>\n",
       "      <th>co_applicant_sex_No Co-Applicant</th>\n",
       "      <th>Region_MA</th>\n",
       "      <th>Region_MW</th>\n",
       "      <th>Region_NE</th>\n",
       "      <th>Region_NW</th>\n",
       "      <th>Region_SE</th>\n",
       "      <th>Region_SW</th>\n",
       "      <th>Region_W</th>\n",
       "    </tr>\n",
       "  </thead>\n",
       "  <tbody>\n",
       "    <tr>\n",
       "      <th>11</th>\n",
       "      <td>92.0</td>\n",
       "      <td>33860.0</td>\n",
       "      <td>1.0</td>\n",
       "      <td>201.0</td>\n",
       "      <td>29.0</td>\n",
       "      <td>1948.0</td>\n",
       "      <td>12.58</td>\n",
       "      <td>59700.0</td>\n",
       "      <td>122.93</td>\n",
       "      <td>507.0</td>\n",
       "      <td>...</td>\n",
       "      <td>0.0</td>\n",
       "      <td>0.0</td>\n",
       "      <td>1.0</td>\n",
       "      <td>0.0</td>\n",
       "      <td>0.0</td>\n",
       "      <td>0.0</td>\n",
       "      <td>0.0</td>\n",
       "      <td>1.0</td>\n",
       "      <td>0.0</td>\n",
       "      <td>0.0</td>\n",
       "    </tr>\n",
       "    <tr>\n",
       "      <th>13</th>\n",
       "      <td>94.0</td>\n",
       "      <td>33860.0</td>\n",
       "      <td>1.0</td>\n",
       "      <td>201.0</td>\n",
       "      <td>53.0</td>\n",
       "      <td>1948.0</td>\n",
       "      <td>12.58</td>\n",
       "      <td>59700.0</td>\n",
       "      <td>122.93</td>\n",
       "      <td>507.0</td>\n",
       "      <td>...</td>\n",
       "      <td>1.0</td>\n",
       "      <td>0.0</td>\n",
       "      <td>0.0</td>\n",
       "      <td>0.0</td>\n",
       "      <td>0.0</td>\n",
       "      <td>0.0</td>\n",
       "      <td>0.0</td>\n",
       "      <td>1.0</td>\n",
       "      <td>0.0</td>\n",
       "      <td>0.0</td>\n",
       "    </tr>\n",
       "    <tr>\n",
       "      <th>18</th>\n",
       "      <td>147.0</td>\n",
       "      <td>33860.0</td>\n",
       "      <td>1.0</td>\n",
       "      <td>201.0</td>\n",
       "      <td>90.0</td>\n",
       "      <td>1948.0</td>\n",
       "      <td>12.58</td>\n",
       "      <td>59700.0</td>\n",
       "      <td>122.93</td>\n",
       "      <td>507.0</td>\n",
       "      <td>...</td>\n",
       "      <td>1.0</td>\n",
       "      <td>0.0</td>\n",
       "      <td>0.0</td>\n",
       "      <td>0.0</td>\n",
       "      <td>0.0</td>\n",
       "      <td>0.0</td>\n",
       "      <td>0.0</td>\n",
       "      <td>1.0</td>\n",
       "      <td>0.0</td>\n",
       "      <td>0.0</td>\n",
       "    </tr>\n",
       "    <tr>\n",
       "      <th>24</th>\n",
       "      <td>115.0</td>\n",
       "      <td>33860.0</td>\n",
       "      <td>1.0</td>\n",
       "      <td>201.0</td>\n",
       "      <td>30.0</td>\n",
       "      <td>1948.0</td>\n",
       "      <td>12.58</td>\n",
       "      <td>59700.0</td>\n",
       "      <td>122.93</td>\n",
       "      <td>507.0</td>\n",
       "      <td>...</td>\n",
       "      <td>0.0</td>\n",
       "      <td>0.0</td>\n",
       "      <td>1.0</td>\n",
       "      <td>0.0</td>\n",
       "      <td>0.0</td>\n",
       "      <td>0.0</td>\n",
       "      <td>0.0</td>\n",
       "      <td>1.0</td>\n",
       "      <td>0.0</td>\n",
       "      <td>0.0</td>\n",
       "    </tr>\n",
       "    <tr>\n",
       "      <th>33</th>\n",
       "      <td>160.0</td>\n",
       "      <td>33860.0</td>\n",
       "      <td>1.0</td>\n",
       "      <td>201.0</td>\n",
       "      <td>50.0</td>\n",
       "      <td>1948.0</td>\n",
       "      <td>12.58</td>\n",
       "      <td>59700.0</td>\n",
       "      <td>122.93</td>\n",
       "      <td>507.0</td>\n",
       "      <td>...</td>\n",
       "      <td>0.0</td>\n",
       "      <td>0.0</td>\n",
       "      <td>1.0</td>\n",
       "      <td>0.0</td>\n",
       "      <td>0.0</td>\n",
       "      <td>0.0</td>\n",
       "      <td>0.0</td>\n",
       "      <td>1.0</td>\n",
       "      <td>0.0</td>\n",
       "      <td>0.0</td>\n",
       "    </tr>\n",
       "  </tbody>\n",
       "</table>\n",
       "<p>5 rows × 56 columns</p>\n",
       "</div>"
      ],
      "text/plain": [
       "    loan_amount_000s    msamd  county_code  census_tract_number  \\\n",
       "11              92.0  33860.0          1.0                201.0   \n",
       "13              94.0  33860.0          1.0                201.0   \n",
       "18             147.0  33860.0          1.0                201.0   \n",
       "24             115.0  33860.0          1.0                201.0   \n",
       "33             160.0  33860.0          1.0                201.0   \n",
       "\n",
       "    applicant_income_000s  population  minority_population  \\\n",
       "11                   29.0      1948.0                12.58   \n",
       "13                   53.0      1948.0                12.58   \n",
       "18                   90.0      1948.0                12.58   \n",
       "24                   30.0      1948.0                12.58   \n",
       "33                   50.0      1948.0                12.58   \n",
       "\n",
       "    hud_median_family_income  tract_to_msamd_income  \\\n",
       "11                   59700.0                 122.93   \n",
       "13                   59700.0                 122.93   \n",
       "18                   59700.0                 122.93   \n",
       "24                   59700.0                 122.93   \n",
       "33                   59700.0                 122.93   \n",
       "\n",
       "    number_of_owner_occupied_units  ...  co_applicant_sex_Female  \\\n",
       "11                           507.0  ...                      0.0   \n",
       "13                           507.0  ...                      1.0   \n",
       "18                           507.0  ...                      1.0   \n",
       "24                           507.0  ...                      0.0   \n",
       "33                           507.0  ...                      0.0   \n",
       "\n",
       "    co_applicant_sex_Male  co_applicant_sex_No Co-Applicant  Region_MA  \\\n",
       "11                    0.0                               1.0        0.0   \n",
       "13                    0.0                               0.0        0.0   \n",
       "18                    0.0                               0.0        0.0   \n",
       "24                    0.0                               1.0        0.0   \n",
       "33                    0.0                               1.0        0.0   \n",
       "\n",
       "    Region_MW  Region_NE  Region_NW  Region_SE  Region_SW  Region_W  \n",
       "11        0.0        0.0        0.0        1.0        0.0       0.0  \n",
       "13        0.0        0.0        0.0        1.0        0.0       0.0  \n",
       "18        0.0        0.0        0.0        1.0        0.0       0.0  \n",
       "24        0.0        0.0        0.0        1.0        0.0       0.0  \n",
       "33        0.0        0.0        0.0        1.0        0.0       0.0  \n",
       "\n",
       "[5 rows x 56 columns]"
      ]
     },
     "execution_count": 7,
     "metadata": {},
     "output_type": "execute_result"
    }
   ],
   "source": [
    "# Remove repetitive columns\n",
    "df = df.drop(columns = [\"owner_occupancy_Not Owner Occupied\", \"preapproval_Preapproval Not Requested\", \"applicant_ethnicity_Not Hispanic or Latino\", ])\n",
    "df.head()"
   ]
  },
  {
   "cell_type": "markdown",
   "metadata": {},
   "source": [
    "### Run Neural Network"
   ]
  },
  {
   "cell_type": "code",
   "execution_count": 8,
   "metadata": {},
   "outputs": [
    {
     "name": "stderr",
     "output_type": "stream",
     "text": [
      "c:\\Users\\olivi\\anaconda3\\envs\\mlenv\\lib\\site-packages\\ipykernel_launcher.py:3: FutureWarning: In a future version of pandas all arguments of DataFrame.drop except for the argument 'labels' will be keyword-only\n",
      "  This is separate from the ipykernel package so we can avoid doing imports until\n"
     ]
    }
   ],
   "source": [
    "# Split our preprocessed data into our features and target arrays\n",
    "y = df[\"action_taken_summary\"].values\n",
    "X = df.drop([\"action_taken_summary\"],1).values\n",
    "\n",
    "# Split the preprocessed data into a training and testing dataset\n",
    "X_train, X_test, y_train, y_test = train_test_split(X, y, random_state=42, stratify=y)"
   ]
  },
  {
   "cell_type": "code",
   "execution_count": 9,
   "metadata": {},
   "outputs": [
    {
     "data": {
      "text/plain": [
       "1    147137\n",
       "0     21803\n",
       "Name: action_taken_summary, dtype: int64"
      ]
     },
     "execution_count": 9,
     "metadata": {},
     "output_type": "execute_result"
    }
   ],
   "source": [
    "df['action_taken_summary'].value_counts()"
   ]
  },
  {
   "cell_type": "code",
   "execution_count": 10,
   "metadata": {},
   "outputs": [],
   "source": [
    "# Create a StandardScaler instances\n",
    "scaler = StandardScaler()\n",
    "\n",
    "# Fit the StandardScaler\n",
    "X_scaler = scaler.fit(X_train)\n",
    "\n",
    "# Scale the data\n",
    "X_train_scaled = X_scaler.transform(X_train)\n",
    "X_test_scaled = X_scaler.transform(X_test)"
   ]
  },
  {
   "cell_type": "code",
   "execution_count": 11,
   "metadata": {},
   "outputs": [],
   "source": [
    "# Use SMOTE to oversample the data\n",
    "#X_resampled, y_resampled = SMOTE(random_state=42, sampling_strategy=\"auto\").fit_resample(X_train_scaled, y_train)\n",
    "#Counter(y_resampled)"
   ]
  },
  {
   "cell_type": "code",
   "execution_count": 12,
   "metadata": {},
   "outputs": [],
   "source": [
    "# Use Random Oversampling on the data\n",
    "ros = RandomOverSampler(random_state=42)\n",
    "X_resampled, y_resampled = ros.fit_resample(X_train_scaled, y_train)"
   ]
  },
  {
   "cell_type": "code",
   "execution_count": 13,
   "metadata": {},
   "outputs": [],
   "source": [
    "# Use Random Undersampling on the data\n",
    "# ros = RandomUnderSampler(random_state=42)\n",
    "# X_resampled, y_resampled = ros.fit_resample(X_train_scaled, y_train)\n",
    "# Counter(y_resampled)"
   ]
  },
  {
   "cell_type": "code",
   "execution_count": 14,
   "metadata": {},
   "outputs": [
    {
     "name": "stdout",
     "output_type": "stream",
     "text": [
      "Model: \"sequential\"\n",
      "_________________________________________________________________\n",
      " Layer (type)                Output Shape              Param #   \n",
      "=================================================================\n",
      " dense (Dense)               (None, 56)                3136      \n",
      "                                                                 \n",
      " dense_1 (Dense)             (None, 38)                2166      \n",
      "                                                                 \n",
      " dense_2 (Dense)             (None, 1)                 39        \n",
      "                                                                 \n",
      "=================================================================\n",
      "Total params: 5,341\n",
      "Trainable params: 5,341\n",
      "Non-trainable params: 0\n",
      "_________________________________________________________________\n"
     ]
    }
   ],
   "source": [
    "import keras\n",
    "\n",
    "# Define the model - deep neural net, i.e., the number of input features and hidden nodes for each layer.\n",
    "number_input_features = len(X_resampled[0])\n",
    "hidden_nodes_layer1 = 56\n",
    "hidden_nodes_layer2 = 38\n",
    "\n",
    "nn = tf.keras.models.Sequential()\n",
    "\n",
    "#First hidden layer\n",
    "nn.add(tf.keras.layers.Dense(units=hidden_nodes_layer1, kernel_initializer ='normal',input_dim=number_input_features, activation=\"relu\"))\n",
    "\n",
    "# Second hidden layer\n",
    "nn.add(tf.keras.layers.Dense(units=hidden_nodes_layer2,kernel_initializer ='normal', activation=\"relu\"))\n",
    "\n",
    "# Output layer\n",
    "nn.add(tf.keras.layers.Dense(1, activation='sigmoid'))\n",
    "\n",
    "# Check the structure of the model\n",
    "nn.summary()"
   ]
  },
  {
   "cell_type": "code",
   "execution_count": 15,
   "metadata": {},
   "outputs": [],
   "source": [
    "# Compile the model\n",
    "#nn.compile(loss=\"binary_crossentropy\", optimizer=\"adam\", metrics=[\"accuracy\"])\n",
    "nn.compile(loss=keras.losses.BinaryCrossentropy(from_logits = False), optimizer=keras.optimizers.Adam(), metrics=[keras.metrics.BinaryAccuracy()])"
   ]
  },
  {
   "cell_type": "code",
   "execution_count": 16,
   "metadata": {},
   "outputs": [
    {
     "name": "stdout",
     "output_type": "stream",
     "text": [
      "Epoch 1/5\n",
      "6898/6898 [==============================] - 11s 2ms/step - loss: 3.6757 - binary_accuracy: 0.5076\n",
      "Epoch 2/5\n",
      "6898/6898 [==============================] - 11s 2ms/step - loss: 0.7059 - binary_accuracy: 0.5015\n",
      "Epoch 3/5\n",
      "6898/6898 [==============================] - 11s 2ms/step - loss: 0.6932 - binary_accuracy: 0.5015\n",
      "Epoch 4/5\n",
      "6898/6898 [==============================] - 11s 2ms/step - loss: 0.6932 - binary_accuracy: 0.4995\n",
      "Epoch 5/5\n",
      "6898/6898 [==============================] - 10s 2ms/step - loss: 0.6932 - binary_accuracy: 0.5003\n"
     ]
    }
   ],
   "source": [
    "# Train the model\n",
    "fit_model = nn.fit(X_resampled,y_resampled,epochs=5)"
   ]
  },
  {
   "cell_type": "code",
   "execution_count": 17,
   "metadata": {},
   "outputs": [
    {
     "name": "stdout",
     "output_type": "stream",
     "text": [
      "6898/6898 - 7s - loss: 0.6931 - binary_accuracy: 0.5000 - 7s/epoch - 1ms/step\n",
      "Loss: 0.6931418180465698, Accuracy: 0.5\n"
     ]
    }
   ],
   "source": [
    "# Evaluate the model using the test data\n",
    "model_loss, model_accuracy = nn.evaluate(X_resampled,y_resampled,verbose=2)\n",
    "print(f\"Loss: {model_loss}, Accuracy: {model_accuracy}\")"
   ]
  },
  {
   "cell_type": "code",
   "execution_count": 18,
   "metadata": {},
   "outputs": [
    {
     "name": "stdout",
     "output_type": "stream",
     "text": [
      "1320/1320 [==============================] - 2s 1ms/step\n"
     ]
    },
    {
     "data": {
      "text/plain": [
       "array([[1],\n",
       "       [0],\n",
       "       [1],\n",
       "       ...,\n",
       "       [1],\n",
       "       [1],\n",
       "       [0]])"
      ]
     },
     "execution_count": 18,
     "metadata": {},
     "output_type": "execute_result"
    }
   ],
   "source": [
    "y_pred = (nn.predict(X_test_scaled) > 0.5).astype(\"int32\")\n",
    "y_pred"
   ]
  },
  {
   "cell_type": "code",
   "execution_count": 19,
   "metadata": {},
   "outputs": [
    {
     "name": "stdout",
     "output_type": "stream",
     "text": [
      "tf.Tensor(\n",
      "[[ 1091  4360]\n",
      " [ 7377 29407]], shape=(2, 2), dtype=int32)\n"
     ]
    }
   ],
   "source": [
    "matrix = cm(y_test,y_pred)\n",
    "print(matrix)"
   ]
  },
  {
   "cell_type": "code",
   "execution_count": 20,
   "metadata": {},
   "outputs": [
    {
     "name": "stdout",
     "output_type": "stream",
     "text": [
      "              precision    recall  f1-score   support\n",
      "\n",
      "           0       0.13      0.20      0.16      5451\n",
      "           1       0.87      0.80      0.83     36784\n",
      "\n",
      "    accuracy                           0.72     42235\n",
      "   macro avg       0.50      0.50      0.50     42235\n",
      "weighted avg       0.78      0.72      0.75     42235\n",
      "\n"
     ]
    }
   ],
   "source": [
    "report = classification_report(y_test,y_pred)\n",
    "print(report)"
   ]
  },
  {
   "cell_type": "code",
   "execution_count": null,
   "metadata": {},
   "outputs": [],
   "source": []
  }
 ],
 "metadata": {
  "kernelspec": {
   "display_name": "Python 3.7.13 ('mlenv')",
   "language": "python",
   "name": "python3"
  },
  "language_info": {
   "codemirror_mode": {
    "name": "ipython",
    "version": 3
   },
   "file_extension": ".py",
   "mimetype": "text/x-python",
   "name": "python",
   "nbconvert_exporter": "python",
   "pygments_lexer": "ipython3",
   "version": "3.7.13"
  },
  "vscode": {
   "interpreter": {
    "hash": "8f0baf4a9950911bd1b2de8aaf4333059e825f2c815a630c98b6a9c3013fa6b0"
   }
  }
 },
 "nbformat": 4,
 "nbformat_minor": 2
}
