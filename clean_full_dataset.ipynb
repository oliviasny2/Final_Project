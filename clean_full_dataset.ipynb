{
 "cells": [
  {
   "cell_type": "code",
   "execution_count": 1,
   "metadata": {},
   "outputs": [],
   "source": [
    "import pandas as pd\n",
    "from pathlib import Path\n",
    "import numpy as np"
   ]
  },
  {
   "cell_type": "code",
   "execution_count": 3,
   "metadata": {},
   "outputs": [],
   "source": [
    "# Load data\n",
    "file_path = Path(\"Resources/hmda_2017_nationwide_all-records_codes.csv\")\n",
    "df = pd.read_csv(file_path)"
   ]
  },
  {
   "cell_type": "code",
   "execution_count": 4,
   "metadata": {},
   "outputs": [
    {
     "data": {
      "text/plain": [
       "as_of_year                        14285496\n",
       "respondent_id                     14285496\n",
       "agency_code                       14285496\n",
       "loan_type                         14285496\n",
       "property_type                     14285496\n",
       "loan_purpose                      14285496\n",
       "owner_occupancy                   14285496\n",
       "loan_amount_000s                  14280460\n",
       "preapproval                       14285496\n",
       "action_taken                      14285496\n",
       "msamd                             12494446\n",
       "state_code                        14088338\n",
       "county_code                       14039899\n",
       "census_tract_number               14001194\n",
       "applicant_ethnicity               14285496\n",
       "co_applicant_ethnicity            14285496\n",
       "applicant_race_1                  14285496\n",
       "applicant_race_2                     90382\n",
       "applicant_race_3                      6990\n",
       "applicant_race_4                      1644\n",
       "applicant_race_5                      1084\n",
       "co_applicant_race_1               14285496\n",
       "co_applicant_race_2                  30414\n",
       "co_applicant_race_3                   2144\n",
       "co_applicant_race_4                    664\n",
       "co_applicant_race_5                    349\n",
       "applicant_sex                     14285496\n",
       "co_applicant_sex                  14285496\n",
       "applicant_income_000s             12389632\n",
       "purchaser_type                    14285496\n",
       "denial_reason_1                    1411970\n",
       "denial_reason_2                     305152\n",
       "denial_reason_3                      49338\n",
       "rate_spread                         493273\n",
       "hoepa_status                      14285496\n",
       "lien_status                       14285496\n",
       "edit_status                              0\n",
       "sequence_number                          0\n",
       "population                        14001188\n",
       "minority_population               14001144\n",
       "hud_median_family_income          14001188\n",
       "tract_to_msamd_income             14001188\n",
       "number_of_owner_occupied_units    14001144\n",
       "number_of_1_to_4_family_units     14001144\n",
       "application_date_indicator               0\n",
       "dtype: int64"
      ]
     },
     "execution_count": 4,
     "metadata": {},
     "output_type": "execute_result"
    }
   ],
   "source": [
    "df.count()"
   ]
  },
  {
   "cell_type": "code",
   "execution_count": 5,
   "metadata": {},
   "outputs": [
    {
     "data": {
      "text/plain": [
       "respondent_id                     14285496\n",
       "agency_code                       14285496\n",
       "loan_type                         14285496\n",
       "property_type                     14285496\n",
       "loan_purpose                      14285496\n",
       "owner_occupancy                   14285496\n",
       "loan_amount_000s                  14280460\n",
       "preapproval                       14285496\n",
       "action_taken                      14285496\n",
       "msamd                             12494446\n",
       "state_code                        14088338\n",
       "county_code                       14039899\n",
       "census_tract_number               14001194\n",
       "applicant_ethnicity               14285496\n",
       "co_applicant_ethnicity            14285496\n",
       "applicant_race_1                  14285496\n",
       "co_applicant_race_1               14285496\n",
       "applicant_sex                     14285496\n",
       "co_applicant_sex                  14285496\n",
       "applicant_income_000s             12389632\n",
       "purchaser_type                    14285496\n",
       "denial_reason_1                    1411970\n",
       "hoepa_status                      14285496\n",
       "lien_status                       14285496\n",
       "population                        14001188\n",
       "minority_population               14001144\n",
       "hud_median_family_income          14001188\n",
       "tract_to_msamd_income             14001188\n",
       "number_of_owner_occupied_units    14001144\n",
       "number_of_1_to_4_family_units     14001144\n",
       "dtype: int64"
      ]
     },
     "execution_count": 5,
     "metadata": {},
     "output_type": "execute_result"
    }
   ],
   "source": [
    "# Drop unnecessary columns\n",
    "df = df.drop(columns=[\"as_of_year\",\"applicant_race_2\", \"applicant_race_3\", \"applicant_race_4\", \"applicant_race_5\",\n",
    "                        \"co_applicant_race_2\", \"co_applicant_race_3\", \"co_applicant_race_4\", \"co_applicant_race_5\",\n",
    "                        \"denial_reason_2\", \"denial_reason_3\", \"rate_spread\", \"edit_status\", \"sequence_number\", \n",
    "                        \"application_date_indicator\"])\n",
    "df.count()"
   ]
  },
  {
   "cell_type": "code",
   "execution_count": 6,
   "metadata": {},
   "outputs": [],
   "source": [
    "# respondent_id is identifier - varchar"
   ]
  },
  {
   "cell_type": "code",
   "execution_count": 7,
   "metadata": {},
   "outputs": [
    {
     "data": {
      "text/plain": [
       "HUD     7083670\n",
       "CFPB    4222898\n",
       "FDIC    1128554\n",
       "NCUA    1020531\n",
       "OCC      463411\n",
       "FRS      366432\n",
       "Name: agency_code, dtype: int64"
      ]
     },
     "execution_count": 7,
     "metadata": {},
     "output_type": "execute_result"
    }
   ],
   "source": [
    "# agency_code - change to string/object - varchar\n",
    "df['agency_code'] = df['agency_code'].replace([1,2,3,5,7,9],['OCC','FRS','FDIC','NCUA','HUD','CFPB'])\n",
    "df[\"agency_code\"].value_counts()"
   ]
  },
  {
   "cell_type": "code",
   "execution_count": 8,
   "metadata": {},
   "outputs": [
    {
     "data": {
      "text/plain": [
       "Conventional     9950346\n",
       "FHA-Insured      2659118\n",
       "VA-Guaranteed    1402700\n",
       "FSA/RHS           273332\n",
       "Name: loan_type, dtype: int64"
      ]
     },
     "execution_count": 8,
     "metadata": {},
     "output_type": "execute_result"
    }
   ],
   "source": [
    "# loan_type - change to string/object - varchar\n",
    "df['loan_type'] = df['loan_type'].replace([1,2,3,4],['Conventional','FHA-Insured','VA-Guaranteed','FSA/RHS'])\n",
    "df[\"loan_type\"].value_counts()"
   ]
  },
  {
   "cell_type": "code",
   "execution_count": 9,
   "metadata": {},
   "outputs": [
    {
     "data": {
      "text/plain": [
       "One to Four-Family    13706551\n",
       "Manufactured            527095\n",
       "Multifamily              51850\n",
       "Name: property_type, dtype: int64"
      ]
     },
     "execution_count": 9,
     "metadata": {},
     "output_type": "execute_result"
    }
   ],
   "source": [
    "# property_type - change to string/object - varchar\n",
    "df['property_type'] = df['property_type'].replace([1,2,3],['One to Four-Family','Manufactured','Multifamily'])\n",
    "df[\"property_type\"].value_counts()"
   ]
  },
  {
   "cell_type": "code",
   "execution_count": 10,
   "metadata": {},
   "outputs": [
    {
     "data": {
      "text/plain": [
       "Home Purchase       7703630\n",
       "Refinancing         5490094\n",
       "Home Improvement    1091772\n",
       "Name: loan_purpose, dtype: int64"
      ]
     },
     "execution_count": 10,
     "metadata": {},
     "output_type": "execute_result"
    }
   ],
   "source": [
    "# loan_purpose - change to string/object - varchar\n",
    "df['loan_purpose'] = df['loan_purpose'].replace([1,2,3],['Home Purchase','Home Improvement','Refinancing'])\n",
    "df[\"loan_purpose\"].value_counts()"
   ]
  },
  {
   "cell_type": "code",
   "execution_count": 11,
   "metadata": {},
   "outputs": [
    {
     "data": {
      "text/plain": [
       "Owner Occupied        12887163\n",
       "Not Owner Occupied     1335445\n",
       "Not Applicable           62888\n",
       "Name: owner_occupancy, dtype: int64"
      ]
     },
     "execution_count": 11,
     "metadata": {},
     "output_type": "execute_result"
    }
   ],
   "source": [
    "# owner_occupancy - change to string/object - varchar\n",
    "df['owner_occupancy'] = df['owner_occupancy'].replace([1,2,3],['Owner Occupied','Not Owner Occupied','Not Applicable'])\n",
    "df[\"owner_occupancy\"].value_counts()"
   ]
  },
  {
   "cell_type": "code",
   "execution_count": 12,
   "metadata": {},
   "outputs": [],
   "source": [
    "# loan_amount_000s - some null values here - odd - keep the same - integer"
   ]
  },
  {
   "cell_type": "code",
   "execution_count": 13,
   "metadata": {},
   "outputs": [
    {
     "data": {
      "text/plain": [
       "Not Applicable               11859707\n",
       "Preapproval Not Requested     1944405\n",
       "Preapproval Requested          481384\n",
       "Name: preapproval, dtype: int64"
      ]
     },
     "execution_count": 13,
     "metadata": {},
     "output_type": "execute_result"
    }
   ],
   "source": [
    "# preapproval - change to string/object - varchar\n",
    "df['preapproval'] = df['preapproval'].replace([1,2,3],['Preapproval Requested','Preapproval Not Requested','Not Applicable'])\n",
    "df[\"preapproval\"].value_counts()"
   ]
  },
  {
   "cell_type": "code",
   "execution_count": 14,
   "metadata": {},
   "outputs": [
    {
     "data": {
      "text/plain": [
       "Loan Originated                                        7339057\n",
       "Loan Purchased by the Institution                      2086676\n",
       "Application Denied by Financial Institution            2009743\n",
       "Application Withdrawn by Applicant                     1696289\n",
       "File Closed for Incompleteness                          601148\n",
       "Application Approved but not Accepted                   409797\n",
       "Preapproval Request Denied by Financial Institution     106680\n",
       "Preapproval Request Approved but not Accepted            36106\n",
       "Name: action_taken, dtype: int64"
      ]
     },
     "execution_count": 14,
     "metadata": {},
     "output_type": "execute_result"
    }
   ],
   "source": [
    "# action_taken - change to string/object - varchar\n",
    "df['action_taken'] = df['action_taken'].replace([1,2,3,4,5,6,7,8],['Loan Originated','Application Approved but not Accepted','Application Denied by Financial Institution','Application Withdrawn by Applicant','File Closed for Incompleteness','Loan Purchased by the Institution','Preapproval Request Denied by Financial Institution','Preapproval Request Approved but not Accepted'])\n",
    "df[\"action_taken\"].value_counts()"
   ]
  },
  {
   "cell_type": "code",
   "execution_count": 15,
   "metadata": {},
   "outputs": [],
   "source": [
    "# create new column from action taken with numbers to represent approved, denied, and other\n",
    "# action_taken_summary - integer I think\n",
    "action = {\n",
    "    'Loan Originated': 1, \n",
    "    'Loan Purchased by the Institution': 1, \n",
    "    'Application Denied by Financial Institution': 0,\n",
    "    'Application Withdrawn by Applicant': 2,\n",
    "    'File Closed for Incompleteness': 2,\n",
    "    'Application Approved but not Accepted': 0,\n",
    "    'Preapproval Request Denied by Financial Institution': 0,\n",
    "    'Preapproval Request Approved but not Accepted': 0}\n",
    "\n",
    "df[\"action_taken_summary\"] = df[\"action_taken\"].map(action)"
   ]
  },
  {
   "cell_type": "code",
   "execution_count": 16,
   "metadata": {},
   "outputs": [
    {
     "data": {
      "text/plain": [
       "1    9425733\n",
       "0    2562326\n",
       "2    2297437\n",
       "Name: action_taken_summary, dtype: int64"
      ]
     },
     "execution_count": 16,
     "metadata": {},
     "output_type": "execute_result"
    }
   ],
   "source": [
    "# value counts of action_taken_summary\n",
    "df[\"action_taken_summary\"].value_counts()"
   ]
  },
  {
   "cell_type": "code",
   "execution_count": 17,
   "metadata": {},
   "outputs": [],
   "source": [
    "# msamd is area - change all null values to 0??? float/decimal\n",
    "df['msamd'] = df['msamd'].fillna(0)"
   ]
  },
  {
   "cell_type": "code",
   "execution_count": 18,
   "metadata": {},
   "outputs": [
    {
     "data": {
      "text/plain": [
       "SE    3204049\n",
       "MW    3006716\n",
       "SW    2410820\n",
       "MA    2120637\n",
       "W     1937914\n",
       "NW     806678\n",
       "NE     601524\n",
       "Name: Region, dtype: int64"
      ]
     },
     "execution_count": 18,
     "metadata": {},
     "output_type": "execute_result"
    }
   ],
   "source": [
    "# create regions using state_code - Two letter code - varchar(2)\n",
    "states_to_regions = {\n",
    "    53: 'NW', \n",
    "    41: 'NW', \n",
    "    6: 'W',\n",
    "    32: 'W',\n",
    "    16: 'NW',\n",
    "    30: 'NW',\n",
    "    56: 'NW',\n",
    "    49: 'SW',\n",
    "    8: 'SW',\n",
    "    2: 'NW',\n",
    "    15: 'W',\n",
    "    23: 'NE',\n",
    "    50: 'NE',\n",
    "    36: 'MA',\n",
    "    33: 'NE',\n",
    "    25: 'NE',\n",
    "    44: 'NE',\n",
    "    9: 'NE',\n",
    "    34: 'MA',\n",
    "    42: 'MA', \n",
    "    38: 'MW',\n",
    "    46: 'MW',\n",
    "    31: 'MW',\n",
    "    20: 'MW',\n",
    "    27: 'MW',\n",
    "    19: 'MW',\n",
    "    29: 'MW',\n",
    "    55: 'MW',\n",
    "    17: 'MW',\n",
    "    26: 'MW',\n",
    "    18: 'MW',\n",
    "    39: 'MW',\n",
    "    54: 'MA',\n",
    "    11: 'MA',\n",
    "    24: 'MA',\n",
    "    51: 'MA',\n",
    "    21: 'MW',\n",
    "    47: 'SE',\n",
    "    37: 'SE',\n",
    "    28: 'SE',\n",
    "    5: 'SE',\n",
    "    22: 'SE',\n",
    "    1: 'SE',\n",
    "    13: 'SE',\n",
    "    45: 'SE',\n",
    "    12: 'SE',\n",
    "    10: 'MA',\n",
    "    4: 'SW',\n",
    "    35: 'SW',\n",
    "    40: 'SW',\n",
    "    48: 'SW',\n",
    "    72: 'SE',\n",
    "    78: 'SE'}\n",
    "\n",
    "df[\"Region\"] = df[\"state_code\"].map(states_to_regions)\n",
    "df[\"Region\"].value_counts()"
   ]
  },
  {
   "cell_type": "code",
   "execution_count": 19,
   "metadata": {},
   "outputs": [
    {
     "data": {
      "text/plain": [
       "CA    1714459\n",
       "TX    1148206\n",
       "FL    1018763\n",
       "IL     502511\n",
       "GA     501310\n",
       "PA     473757\n",
       "NC     464109\n",
       "OH     448269\n",
       "NY     446902\n",
       "MI     437181\n",
       "AZ     428411\n",
       "VA     411507\n",
       "CO     404517\n",
       "WA     402196\n",
       "NJ     349563\n",
       "TN     326416\n",
       "MD     301879\n",
       "IN     292152\n",
       "MA     282546\n",
       "MO     277843\n",
       "MN     269551\n",
       "SC     242772\n",
       "WI     237542\n",
       "OR     211344\n",
       "AL     209002\n",
       "UT     198425\n",
       "NV     178587\n",
       "LA     173079\n",
       "KY     173004\n",
       "OK     150838\n",
       "CT     129401\n",
       "IA     127446\n",
       "AR     125392\n",
       "KS     107563\n",
       "MS     101384\n",
       "ID      92755\n",
       "NM      80423\n",
       "NE      74966\n",
       "NH      65016\n",
       "ME      58188\n",
       "WV      56407\n",
       "DE      49695\n",
       "MT      45597\n",
       "HI      44868\n",
       "RI      44038\n",
       "PR      41775\n",
       "SD      33167\n",
       "DC      30927\n",
       "AK      28632\n",
       "WY      26154\n",
       "ND      25521\n",
       "VT      22335\n",
       "VI         47\n",
       "Name: state_code, dtype: int64"
      ]
     },
     "execution_count": 19,
     "metadata": {},
     "output_type": "execute_result"
    }
   ],
   "source": [
    "# state_code - change to string/object - varchar(2) - includes Puerto Rico and Virgin Islands\n",
    "df['state_code'] = df['state_code'].replace([1,2,5,4,6,8,9,11,10,12,13,15,19,16,17,18,20,21,22,25,24,23,26,27,29,28,30,37,38,31,33,34,35,32,36,39,40,41,42,72,44,45,46,47,48,49,51,50,53,55,54,56,78],\n",
    "    ['AL','AK','AR','AZ','CA','CO','CT','DC','DE','FL','GA','HI','IA','ID','IL','IN','KS','KY','LA','MA','MD','ME','MI','MN','MO','MS','MT','NC','ND','NE','NH','NJ','NM','NV','NY','OH','OK','OR','PA','PR','RI','SC','SD','TN','TX','UT','VA','VT','WA','WI','WV','WY','VI'])\n",
    "df[\"state_code\"].value_counts()"
   ]
  },
  {
   "cell_type": "code",
   "execution_count": 20,
   "metadata": {},
   "outputs": [],
   "source": [
    "# county_code - 3 digit code -leave as is integer"
   ]
  },
  {
   "cell_type": "code",
   "execution_count": 21,
   "metadata": {},
   "outputs": [],
   "source": [
    "# census_tract_number - code - leave as float/decimal"
   ]
  },
  {
   "cell_type": "code",
   "execution_count": 22,
   "metadata": {},
   "outputs": [
    {
     "data": {
      "text/plain": [
       "Not Hispanic or Latino            9877958\n",
       "Info not Provided by Applicant    1543770\n",
       "Not Applicable                    1520462\n",
       "Hispanic or Latino                1343306\n",
       "Name: applicant_ethnicity, dtype: int64"
      ]
     },
     "execution_count": 22,
     "metadata": {},
     "output_type": "execute_result"
    }
   ],
   "source": [
    "# applicant_ethnicity - change to string/object - varchar\n",
    "df['applicant_ethnicity'] = df['applicant_ethnicity'].replace([1,2,3,4,5],['Hispanic or Latino','Not Hispanic or Latino','Info not Provided by Applicant','Not Applicable','No Co-Applicant'])\n",
    "df[\"applicant_ethnicity\"].value_counts()"
   ]
  },
  {
   "cell_type": "code",
   "execution_count": 23,
   "metadata": {},
   "outputs": [
    {
     "data": {
      "text/plain": [
       "No Co-Applicant                   7465120\n",
       "Not Hispanic or Latino            4282121\n",
       "Not Applicable                    1264895\n",
       "Info not Provided by Applicant     738020\n",
       "Hispanic or Latino                 535340\n",
       "Name: co_applicant_ethnicity, dtype: int64"
      ]
     },
     "execution_count": 23,
     "metadata": {},
     "output_type": "execute_result"
    }
   ],
   "source": [
    "# co_applicant_ethnicity - change to string/object - varchar\n",
    "df['co_applicant_ethnicity'] = df['co_applicant_ethnicity'].replace([1,2,3,4,5],['Hispanic or Latino','Not Hispanic or Latino','Info not Provided by Applicant','Not Applicable','No Co-Applicant'])\n",
    "df[\"co_applicant_ethnicity\"].value_counts()"
   ]
  },
  {
   "cell_type": "code",
   "execution_count": 24,
   "metadata": {},
   "outputs": [
    {
     "data": {
      "text/plain": [
       "White                                        9267426\n",
       "Information not Provided                     1641022\n",
       "Not Applicable                               1513818\n",
       "Black or African American                    1002556\n",
       "Asian                                         692059\n",
       "American Indian or Alaska Native              109588\n",
       "Native Hawaiian or Other Pacific Islander      59027\n",
       "Name: applicant_race_1, dtype: int64"
      ]
     },
     "execution_count": 24,
     "metadata": {},
     "output_type": "execute_result"
    }
   ],
   "source": [
    "# applicant_race_1 - change to string/object - varchar\n",
    "df['applicant_race_1'] = df['applicant_race_1'].replace([1,2,3,4,5,6,7,8],['American Indian or Alaska Native','Asian','Black or African American','Native Hawaiian or Other Pacific Islander','White','Information not Provided','Not Applicable','No Co-Applicant'])\n",
    "df[\"applicant_race_1\"].value_counts()"
   ]
  },
  {
   "cell_type": "code",
   "execution_count": 25,
   "metadata": {},
   "outputs": [
    {
     "data": {
      "text/plain": [
       "No Co-Applicant                              7465119\n",
       "White                                        4153379\n",
       "Not Applicable                               1261891\n",
       "Information not Provided                      768723\n",
       "Asian                                         314750\n",
       "Black or African American                     247658\n",
       "American Indian or Alaska Native               37661\n",
       "Native Hawaiian or Other Pacific Islander      36315\n",
       "Name: co_applicant_race_1, dtype: int64"
      ]
     },
     "execution_count": 25,
     "metadata": {},
     "output_type": "execute_result"
    }
   ],
   "source": [
    "# co_applicant_race_1 - change to string/object - varchar\n",
    "df['co_applicant_race_1'] = df['co_applicant_race_1'].replace([1,2,3,4,5,6,7,8],['American Indian or Alaska Native','Asian','Black or African American','Native Hawaiian or Other Pacific Islander','White','Information not Provided','Not Applicable','No Co-Applicant'])\n",
    "df[\"co_applicant_race_1\"].value_counts()"
   ]
  },
  {
   "cell_type": "code",
   "execution_count": 26,
   "metadata": {},
   "outputs": [
    {
     "data": {
      "text/plain": [
       "Male                        8047593\n",
       "Female                      3760924\n",
       "Not Applicable              1512585\n",
       "Information not Provided     964394\n",
       "Name: applicant_sex, dtype: int64"
      ]
     },
     "execution_count": 26,
     "metadata": {},
     "output_type": "execute_result"
    }
   ],
   "source": [
    "# applicant_sex - change to string/object - varchar\n",
    "df['applicant_sex'] = df['applicant_sex'].replace([1,2,3,4,5],['Male','Female','Information not Provided','Not Applicable','No Co-Applicant'])\n",
    "df[\"applicant_sex\"].value_counts()"
   ]
  },
  {
   "cell_type": "code",
   "execution_count": 27,
   "metadata": {},
   "outputs": [
    {
     "data": {
      "text/plain": [
       "No Co-Applicant             7465121\n",
       "Female                      3946984\n",
       "Not Applicable              1261521\n",
       "Male                        1145317\n",
       "Information not Provided     466553\n",
       "Name: co_applicant_sex, dtype: int64"
      ]
     },
     "execution_count": 27,
     "metadata": {},
     "output_type": "execute_result"
    }
   ],
   "source": [
    "# co_applicant_sex - change to string/object - varchar\n",
    "df['co_applicant_sex'] = df['co_applicant_sex'].replace([1,2,3,4,5],['Male','Female','Information not Provided','Not Applicable','No Co-Applicant'])\n",
    "df[\"co_applicant_sex\"].value_counts()"
   ]
  },
  {
   "cell_type": "code",
   "execution_count": 28,
   "metadata": {},
   "outputs": [],
   "source": [
    "# applicant_income_000s - fill na values with 0? - leave as integer\n",
    "df['applicant_income_000s'] = df['applicant_income_000s'].fillna(0)"
   ]
  },
  {
   "cell_type": "code",
   "execution_count": 29,
   "metadata": {},
   "outputs": [
    {
     "data": {
      "text/plain": [
       "Loan Not Originated                                                        7279078\n",
       "FNMA                                                                       1842055\n",
       "GNMA                                                                       1730827\n",
       "FHLMC                                                                      1290442\n",
       "Life Insurance Company, Credit Union, Mortgage Bank, or Finance Company     834022\n",
       "Commercial Bank, Savings Bank, or Savings Assoc                             756799\n",
       "Other Type of Purchaser                                                     407372\n",
       "Affiliate Institution                                                        90030\n",
       "Private Securitization                                                       53534\n",
       "FAMC                                                                          1337\n",
       "Name: purchaser_type, dtype: int64"
      ]
     },
     "execution_count": 29,
     "metadata": {},
     "output_type": "execute_result"
    }
   ],
   "source": [
    "# purchaser_type - change to string/object - varchar\n",
    "df['purchaser_type'] = df['purchaser_type'].replace([0,1,2,3,4,5,6,7,8,9],['Loan Not Originated','FNMA','GNMA','FHLMC','FAMC','Private Securitization','Commercial Bank, Savings Bank, or Savings Assoc','Life Insurance Company, Credit Union, Mortgage Bank, or Finance Company','Affiliate Institution','Other Type of Purchaser'])\n",
    "df[\"purchaser_type\"].value_counts()"
   ]
  },
  {
   "cell_type": "code",
   "execution_count": 30,
   "metadata": {},
   "outputs": [],
   "source": [
    "# denial_reason_1 - fill na values with 0?\n",
    "df['denial_reason_1'] = df['denial_reason_1'].fillna(0)"
   ]
  },
  {
   "cell_type": "code",
   "execution_count": 31,
   "metadata": {},
   "outputs": [
    {
     "data": {
      "text/plain": [
       "0.0    12873526\n",
       "3.0      392096\n",
       "1.0      384777\n",
       "4.0      220014\n",
       "7.0      179330\n",
       "9.0      126294\n",
       "6.0       49326\n",
       "5.0       37848\n",
       "2.0       21008\n",
       "8.0        1277\n",
       "Name: denial_reason_1, dtype: int64"
      ]
     },
     "execution_count": 31,
     "metadata": {},
     "output_type": "execute_result"
    }
   ],
   "source": [
    "df[\"denial_reason_1\"].value_counts()"
   ]
  },
  {
   "cell_type": "code",
   "execution_count": 32,
   "metadata": {},
   "outputs": [
    {
     "data": {
      "text/plain": [
       "Approved - N/A                                    12873526\n",
       "Credit History                                      392096\n",
       "Debt-to-Income Ratio                                384777\n",
       "Collateral                                          220014\n",
       "Credit Application Incomplete                       179330\n",
       "Other                                               126294\n",
       "Unverifiable Information                             49326\n",
       "Insufficient Cash (Downpayment, Closing Costs)       37848\n",
       "Employment History                                   21008\n",
       "Mortgage Insurance Denied                             1277\n",
       "Name: denial_reason_1, dtype: int64"
      ]
     },
     "execution_count": 32,
     "metadata": {},
     "output_type": "execute_result"
    }
   ],
   "source": [
    "# denial_reason_1 - change the names to reflect denial reasons - varchar\n",
    "df['denial_reason_1'] = df['denial_reason_1'].replace([0,1,2,3,4,5,6,7,8,9],['Approved - N/A','Debt-to-Income Ratio','Employment History','Credit History','Collateral','Insufficient Cash (Downpayment, Closing Costs)','Unverifiable Information','Credit Application Incomplete','Mortgage Insurance Denied','Other'])\n",
    "df[\"denial_reason_1\"].value_counts()"
   ]
  },
  {
   "cell_type": "code",
   "execution_count": 33,
   "metadata": {},
   "outputs": [
    {
     "data": {
      "text/plain": [
       "Not a HOEPA Loan    14281893\n",
       "HOEPA Loan              3603\n",
       "Name: hoepa_status, dtype: int64"
      ]
     },
     "execution_count": 33,
     "metadata": {},
     "output_type": "execute_result"
    }
   ],
   "source": [
    "# hoepa_status - change to string/object - varchar\n",
    "df['hoepa_status'] = df['hoepa_status'].replace([1,2],['HOEPA Loan','Not a HOEPA Loan'])\n",
    "df[\"hoepa_status\"].value_counts()"
   ]
  },
  {
   "cell_type": "code",
   "execution_count": 34,
   "metadata": {},
   "outputs": [
    {
     "data": {
      "text/plain": [
       "Secured by First Lien              11389560\n",
       "Not Applicable (Purchased Loan)     2086676\n",
       "Secured by a Subordinate Loan        407390\n",
       "Not Secured by Lien                  401870\n",
       "Name: lien_status, dtype: int64"
      ]
     },
     "execution_count": 34,
     "metadata": {},
     "output_type": "execute_result"
    }
   ],
   "source": [
    "# lien_status - change to string/object - varchar\n",
    "df['lien_status'] = df['lien_status'].replace([1,2,3,4],['Secured by First Lien','Secured by a Subordinate Loan','Not Secured by Lien','Not Applicable (Purchased Loan)'])\n",
    "df[\"lien_status\"].value_counts()"
   ]
  },
  {
   "cell_type": "code",
   "execution_count": 35,
   "metadata": {},
   "outputs": [
    {
     "data": {
      "text/plain": [
       "4853.0    5992\n",
       "6083.0    5771\n",
       "5114.0    5649\n",
       "4428.0    5595\n",
       "5019.0    5515\n",
       "          ... \n",
       "59.0         1\n",
       "510.0        1\n",
       "724.0        1\n",
       "22.0         1\n",
       "87.0         1\n",
       "Name: population, Length: 9551, dtype: int64"
      ]
     },
     "execution_count": 35,
     "metadata": {},
     "output_type": "execute_result"
    }
   ],
   "source": [
    "# population - in tract - leave as integer\n",
    "df[\"population\"].value_counts()"
   ]
  },
  {
   "cell_type": "code",
   "execution_count": 36,
   "metadata": {},
   "outputs": [],
   "source": [
    "# minority_population - percentage - leave as integer"
   ]
  },
  {
   "cell_type": "code",
   "execution_count": 37,
   "metadata": {},
   "outputs": [],
   "source": [
    "# hud_median_family_income - in $ - leave as integer"
   ]
  },
  {
   "cell_type": "code",
   "execution_count": 38,
   "metadata": {},
   "outputs": [],
   "source": [
    "# tract_to_msamd_income - percentage - leave as integer"
   ]
  },
  {
   "cell_type": "code",
   "execution_count": 39,
   "metadata": {},
   "outputs": [
    {
     "data": {
      "text/plain": [
       "1265.0    12682\n",
       "1149.0    12651\n",
       "1165.0    12579\n",
       "1281.0    12562\n",
       "1440.0    12533\n",
       "          ...  \n",
       "19.0         72\n",
       "27.0         69\n",
       "21.0         54\n",
       "3.0          18\n",
       "2.0           9\n",
       "Name: number_of_owner_occupied_units, Length: 3356, dtype: int64"
      ]
     },
     "execution_count": 39,
     "metadata": {},
     "output_type": "execute_result"
    }
   ],
   "source": [
    "# number_of_owner_occupied_units - leave as integer\n",
    "df[\"number_of_owner_occupied_units\"].value_counts()"
   ]
  },
  {
   "cell_type": "code",
   "execution_count": null,
   "metadata": {},
   "outputs": [],
   "source": [
    "# number_of_1_to_4_family_units - leave as integer"
   ]
  },
  {
   "cell_type": "code",
   "execution_count": 40,
   "metadata": {},
   "outputs": [
    {
     "data": {
      "text/plain": [
       "respondent_id                          0\n",
       "agency_code                            0\n",
       "loan_type                              0\n",
       "property_type                          0\n",
       "loan_purpose                           0\n",
       "owner_occupancy                        0\n",
       "loan_amount_000s                    5036\n",
       "preapproval                            0\n",
       "action_taken                           0\n",
       "msamd                                  0\n",
       "state_code                        197158\n",
       "county_code                       245597\n",
       "census_tract_number               284302\n",
       "applicant_ethnicity                    0\n",
       "co_applicant_ethnicity                 0\n",
       "applicant_race_1                       0\n",
       "co_applicant_race_1                    0\n",
       "applicant_sex                          0\n",
       "co_applicant_sex                       0\n",
       "applicant_income_000s                  0\n",
       "purchaser_type                         0\n",
       "denial_reason_1                        0\n",
       "hoepa_status                           0\n",
       "lien_status                            0\n",
       "population                        284308\n",
       "minority_population               284352\n",
       "hud_median_family_income          284308\n",
       "tract_to_msamd_income             284308\n",
       "number_of_owner_occupied_units    284352\n",
       "number_of_1_to_4_family_units     284352\n",
       "action_taken_summary                   0\n",
       "Region                            197158\n",
       "dtype: int64"
      ]
     },
     "execution_count": 40,
     "metadata": {},
     "output_type": "execute_result"
    }
   ],
   "source": [
    "# check the null values in the columns now\n",
    "df.isnull().sum()"
   ]
  },
  {
   "cell_type": "code",
   "execution_count": 41,
   "metadata": {},
   "outputs": [],
   "source": [
    "# drop all na values\n",
    "df = df.dropna()"
   ]
  },
  {
   "cell_type": "code",
   "execution_count": 42,
   "metadata": {},
   "outputs": [
    {
     "data": {
      "text/plain": [
       "respondent_id                     13997124\n",
       "agency_code                       13997124\n",
       "loan_type                         13997124\n",
       "property_type                     13997124\n",
       "loan_purpose                      13997124\n",
       "owner_occupancy                   13997124\n",
       "loan_amount_000s                  13997124\n",
       "preapproval                       13997124\n",
       "action_taken                      13997124\n",
       "msamd                             13997124\n",
       "state_code                        13997124\n",
       "county_code                       13997124\n",
       "census_tract_number               13997124\n",
       "applicant_ethnicity               13997124\n",
       "co_applicant_ethnicity            13997124\n",
       "applicant_race_1                  13997124\n",
       "co_applicant_race_1               13997124\n",
       "applicant_sex                     13997124\n",
       "co_applicant_sex                  13997124\n",
       "applicant_income_000s             13997124\n",
       "purchaser_type                    13997124\n",
       "denial_reason_1                   13997124\n",
       "hoepa_status                      13997124\n",
       "lien_status                       13997124\n",
       "population                        13997124\n",
       "minority_population               13997124\n",
       "hud_median_family_income          13997124\n",
       "tract_to_msamd_income             13997124\n",
       "number_of_owner_occupied_units    13997124\n",
       "number_of_1_to_4_family_units     13997124\n",
       "action_taken_summary              13997124\n",
       "Region                            13997124\n",
       "dtype: int64"
      ]
     },
     "execution_count": 42,
     "metadata": {},
     "output_type": "execute_result"
    }
   ],
   "source": [
    "df.count()"
   ]
  },
  {
   "cell_type": "code",
   "execution_count": 43,
   "metadata": {},
   "outputs": [],
   "source": [
    "# This is as clean as I can get the raw data without affecting it negatively"
   ]
  },
  {
   "cell_type": "code",
   "execution_count": 44,
   "metadata": {},
   "outputs": [
    {
     "data": {
      "text/plain": [
       "respondent_id                      object\n",
       "agency_code                        object\n",
       "loan_type                          object\n",
       "property_type                      object\n",
       "loan_purpose                       object\n",
       "owner_occupancy                    object\n",
       "loan_amount_000s                  float64\n",
       "preapproval                        object\n",
       "action_taken                       object\n",
       "msamd                             float64\n",
       "state_code                         object\n",
       "county_code                       float64\n",
       "census_tract_number               float64\n",
       "applicant_ethnicity                object\n",
       "co_applicant_ethnicity             object\n",
       "applicant_race_1                   object\n",
       "co_applicant_race_1                object\n",
       "applicant_sex                      object\n",
       "co_applicant_sex                   object\n",
       "applicant_income_000s             float64\n",
       "purchaser_type                     object\n",
       "denial_reason_1                    object\n",
       "hoepa_status                       object\n",
       "lien_status                        object\n",
       "population                        float64\n",
       "minority_population               float64\n",
       "hud_median_family_income          float64\n",
       "tract_to_msamd_income             float64\n",
       "number_of_owner_occupied_units    float64\n",
       "number_of_1_to_4_family_units     float64\n",
       "action_taken_summary                int64\n",
       "Region                             object\n",
       "dtype: object"
      ]
     },
     "execution_count": 44,
     "metadata": {},
     "output_type": "execute_result"
    }
   ],
   "source": [
    "df.dtypes"
   ]
  },
  {
   "cell_type": "code",
   "execution_count": 45,
   "metadata": {},
   "outputs": [],
   "source": [
    "save_path = \"Resources/cleaned_raws.csv\"\n",
    "df.to_csv(save_path, index=False)"
   ]
  }
 ],
 "metadata": {
  "kernelspec": {
   "display_name": "Python 3.7.13 ('mlenv')",
   "language": "python",
   "name": "python3"
  },
  "language_info": {
   "codemirror_mode": {
    "name": "ipython",
    "version": 3
   },
   "file_extension": ".py",
   "mimetype": "text/x-python",
   "name": "python",
   "nbconvert_exporter": "python",
   "pygments_lexer": "ipython3",
   "version": "3.7.13"
  },
  "orig_nbformat": 4,
  "vscode": {
   "interpreter": {
    "hash": "8f0baf4a9950911bd1b2de8aaf4333059e825f2c815a630c98b6a9c3013fa6b0"
   }
  }
 },
 "nbformat": 4,
 "nbformat_minor": 2
}
