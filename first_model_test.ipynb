{
 "cells": [
  {
   "cell_type": "code",
   "execution_count": 1,
   "id": "dab00a06",
   "metadata": {},
   "outputs": [],
   "source": [
    "import tensorflow as tf\n",
    "import pandas as pd\n",
    "from pathlib import Path\n",
    "from sklearn import tree\n",
    "from sklearn.preprocessing import StandardScaler\n",
    "from sklearn.model_selection import train_test_split\n",
    "from sklearn.metrics import confusion_matrix, accuracy_score, classification_report\n",
    "\n",
    "from sklearn.linear_model import LogisticRegression\n",
    "from sklearn.ensemble import RandomForestClassifier"
   ]
  },
  {
   "cell_type": "code",
   "execution_count": 2,
   "id": "fe45aee0",
   "metadata": {},
   "outputs": [
    {
     "data": {
      "text/html": [
       "<div>\n",
       "<style scoped>\n",
       "    .dataframe tbody tr th:only-of-type {\n",
       "        vertical-align: middle;\n",
       "    }\n",
       "\n",
       "    .dataframe tbody tr th {\n",
       "        vertical-align: top;\n",
       "    }\n",
       "\n",
       "    .dataframe thead th {\n",
       "        text-align: right;\n",
       "    }\n",
       "</style>\n",
       "<table border=\"1\" class=\"dataframe\">\n",
       "  <thead>\n",
       "    <tr style=\"text-align: right;\">\n",
       "      <th></th>\n",
       "      <th>as_of_year</th>\n",
       "      <th>agency_code</th>\n",
       "      <th>loan_type</th>\n",
       "      <th>property_type</th>\n",
       "      <th>loan_purpose</th>\n",
       "      <th>owner_occupancy</th>\n",
       "      <th>loan_amount_000s</th>\n",
       "      <th>preapproval</th>\n",
       "      <th>action_taken</th>\n",
       "      <th>msamd</th>\n",
       "      <th>...</th>\n",
       "      <th>purchaser_type</th>\n",
       "      <th>denial_reason_1</th>\n",
       "      <th>hoepa_status</th>\n",
       "      <th>lien_status</th>\n",
       "      <th>population</th>\n",
       "      <th>minority_population</th>\n",
       "      <th>hud_median_family_income</th>\n",
       "      <th>tract_to_msamd_income</th>\n",
       "      <th>number_of_owner_occupied_units</th>\n",
       "      <th>number_of_1_to_4_family_units</th>\n",
       "    </tr>\n",
       "  </thead>\n",
       "  <tbody>\n",
       "    <tr>\n",
       "      <th>0</th>\n",
       "      <td>2017</td>\n",
       "      <td>9</td>\n",
       "      <td>1</td>\n",
       "      <td>1</td>\n",
       "      <td>1</td>\n",
       "      <td>1</td>\n",
       "      <td>424.0</td>\n",
       "      <td>3</td>\n",
       "      <td>1</td>\n",
       "      <td>40900.0</td>\n",
       "      <td>...</td>\n",
       "      <td>3</td>\n",
       "      <td>0.0</td>\n",
       "      <td>2</td>\n",
       "      <td>1</td>\n",
       "      <td>6585.0</td>\n",
       "      <td>70.16</td>\n",
       "      <td>75200.0</td>\n",
       "      <td>110.94</td>\n",
       "      <td>1352.0</td>\n",
       "      <td>1612.0</td>\n",
       "    </tr>\n",
       "    <tr>\n",
       "      <th>1</th>\n",
       "      <td>2017</td>\n",
       "      <td>2</td>\n",
       "      <td>1</td>\n",
       "      <td>1</td>\n",
       "      <td>3</td>\n",
       "      <td>1</td>\n",
       "      <td>153.0</td>\n",
       "      <td>3</td>\n",
       "      <td>4</td>\n",
       "      <td>18880.0</td>\n",
       "      <td>...</td>\n",
       "      <td>0</td>\n",
       "      <td>0.0</td>\n",
       "      <td>2</td>\n",
       "      <td>1</td>\n",
       "      <td>8152.0</td>\n",
       "      <td>22.46</td>\n",
       "      <td>67300.0</td>\n",
       "      <td>96.86</td>\n",
       "      <td>2404.0</td>\n",
       "      <td>3345.0</td>\n",
       "    </tr>\n",
       "    <tr>\n",
       "      <th>2</th>\n",
       "      <td>2017</td>\n",
       "      <td>9</td>\n",
       "      <td>1</td>\n",
       "      <td>1</td>\n",
       "      <td>3</td>\n",
       "      <td>1</td>\n",
       "      <td>56.0</td>\n",
       "      <td>3</td>\n",
       "      <td>3</td>\n",
       "      <td>21780.0</td>\n",
       "      <td>...</td>\n",
       "      <td>0</td>\n",
       "      <td>3.0</td>\n",
       "      <td>2</td>\n",
       "      <td>1</td>\n",
       "      <td>7388.0</td>\n",
       "      <td>4.24</td>\n",
       "      <td>65500.0</td>\n",
       "      <td>120.10</td>\n",
       "      <td>2651.0</td>\n",
       "      <td>2999.0</td>\n",
       "    </tr>\n",
       "    <tr>\n",
       "      <th>3</th>\n",
       "      <td>2017</td>\n",
       "      <td>7</td>\n",
       "      <td>1</td>\n",
       "      <td>1</td>\n",
       "      <td>3</td>\n",
       "      <td>1</td>\n",
       "      <td>207.0</td>\n",
       "      <td>3</td>\n",
       "      <td>1</td>\n",
       "      <td>31700.0</td>\n",
       "      <td>...</td>\n",
       "      <td>1</td>\n",
       "      <td>0.0</td>\n",
       "      <td>2</td>\n",
       "      <td>1</td>\n",
       "      <td>6993.0</td>\n",
       "      <td>3.15</td>\n",
       "      <td>87200.0</td>\n",
       "      <td>107.98</td>\n",
       "      <td>2168.0</td>\n",
       "      <td>2732.0</td>\n",
       "    </tr>\n",
       "    <tr>\n",
       "      <th>4</th>\n",
       "      <td>2017</td>\n",
       "      <td>7</td>\n",
       "      <td>1</td>\n",
       "      <td>1</td>\n",
       "      <td>1</td>\n",
       "      <td>1</td>\n",
       "      <td>424.0</td>\n",
       "      <td>3</td>\n",
       "      <td>4</td>\n",
       "      <td>33124.0</td>\n",
       "      <td>...</td>\n",
       "      <td>0</td>\n",
       "      <td>0.0</td>\n",
       "      <td>2</td>\n",
       "      <td>1</td>\n",
       "      <td>4775.0</td>\n",
       "      <td>67.64</td>\n",
       "      <td>51800.0</td>\n",
       "      <td>219.02</td>\n",
       "      <td>1305.0</td>\n",
       "      <td>1448.0</td>\n",
       "    </tr>\n",
       "  </tbody>\n",
       "</table>\n",
       "<p>5 rows × 30 columns</p>\n",
       "</div>"
      ],
      "text/plain": [
       "   as_of_year  agency_code  loan_type  property_type  loan_purpose  \\\n",
       "0        2017            9          1              1             1   \n",
       "1        2017            2          1              1             3   \n",
       "2        2017            9          1              1             3   \n",
       "3        2017            7          1              1             3   \n",
       "4        2017            7          1              1             1   \n",
       "\n",
       "   owner_occupancy  loan_amount_000s  preapproval  action_taken    msamd  ...  \\\n",
       "0                1             424.0            3             1  40900.0  ...   \n",
       "1                1             153.0            3             4  18880.0  ...   \n",
       "2                1              56.0            3             3  21780.0  ...   \n",
       "3                1             207.0            3             1  31700.0  ...   \n",
       "4                1             424.0            3             4  33124.0  ...   \n",
       "\n",
       "   purchaser_type  denial_reason_1  hoepa_status  lien_status  population  \\\n",
       "0               3              0.0             2            1      6585.0   \n",
       "1               0              0.0             2            1      8152.0   \n",
       "2               0              3.0             2            1      7388.0   \n",
       "3               1              0.0             2            1      6993.0   \n",
       "4               0              0.0             2            1      4775.0   \n",
       "\n",
       "   minority_population  hud_median_family_income  tract_to_msamd_income  \\\n",
       "0                70.16                   75200.0                 110.94   \n",
       "1                22.46                   67300.0                  96.86   \n",
       "2                 4.24                   65500.0                 120.10   \n",
       "3                 3.15                   87200.0                 107.98   \n",
       "4                67.64                   51800.0                 219.02   \n",
       "\n",
       "   number_of_owner_occupied_units  number_of_1_to_4_family_units  \n",
       "0                          1352.0                         1612.0  \n",
       "1                          2404.0                         3345.0  \n",
       "2                          2651.0                         2999.0  \n",
       "3                          2168.0                         2732.0  \n",
       "4                          1305.0                         1448.0  \n",
       "\n",
       "[5 rows x 30 columns]"
      ]
     },
     "execution_count": 2,
     "metadata": {},
     "output_type": "execute_result"
    }
   ],
   "source": [
    "# Load data\n",
    "file_path = Path(\"Resources/sample.csv\")\n",
    "df = pd.read_csv(file_path)\n",
    "df.head()"
   ]
  },
  {
   "cell_type": "code",
   "execution_count": 3,
   "id": "4c284ce8",
   "metadata": {
    "scrolled": true
   },
   "outputs": [
    {
     "data": {
      "text/plain": [
       "1    12792\n",
       "6     3664\n",
       "3     3587\n",
       "4     2918\n",
       "5     1061\n",
       "2      743\n",
       "7      177\n",
       "8       58\n",
       "Name: action_taken, dtype: int64"
      ]
     },
     "execution_count": 3,
     "metadata": {},
     "output_type": "execute_result"
    }
   ],
   "source": [
    "# Examine target distribution\n",
    "df.action_taken.value_counts()"
   ]
  },
  {
   "cell_type": "code",
   "execution_count": 4,
   "id": "a3433999",
   "metadata": {
    "scrolled": false
   },
   "outputs": [
    {
     "data": {
      "text/plain": [
       "0.0    22506\n",
       "3.0      693\n",
       "1.0      678\n",
       "4.0      409\n",
       "7.0      290\n",
       "9.0      210\n",
       "6.0      101\n",
       "5.0       67\n",
       "2.0       44\n",
       "8.0        2\n",
       "Name: denial_reason_1, dtype: int64"
      ]
     },
     "execution_count": 4,
     "metadata": {},
     "output_type": "execute_result"
    }
   ],
   "source": [
    "df.denial_reason_1.value_counts()"
   ]
  },
  {
   "cell_type": "code",
   "execution_count": 5,
   "id": "ab75b87a",
   "metadata": {},
   "outputs": [
    {
     "data": {
      "text/plain": [
       "as_of_year                           0\n",
       "agency_code                          0\n",
       "loan_type                            0\n",
       "property_type                        0\n",
       "loan_purpose                         0\n",
       "owner_occupancy                      0\n",
       "loan_amount_000s                     8\n",
       "preapproval                          0\n",
       "action_taken                         0\n",
       "msamd                             3097\n",
       "state_code                         338\n",
       "county_code                        410\n",
       "census_tract_number                475\n",
       "applicant_ethnicity                  0\n",
       "co_applicant_ethnicity               0\n",
       "applicant_race_1                     0\n",
       "co_applicant_race_1                  0\n",
       "applicant_sex                        0\n",
       "co_applicant_sex                     0\n",
       "applicant_income_000s             3242\n",
       "purchaser_type                       0\n",
       "denial_reason_1                      0\n",
       "hoepa_status                         0\n",
       "lien_status                          0\n",
       "population                         475\n",
       "minority_population                475\n",
       "hud_median_family_income           475\n",
       "tract_to_msamd_income              475\n",
       "number_of_owner_occupied_units     475\n",
       "number_of_1_to_4_family_units      475\n",
       "dtype: int64"
      ]
     },
     "execution_count": 5,
     "metadata": {},
     "output_type": "execute_result"
    }
   ],
   "source": [
    "df.isnull().sum()"
   ]
  },
  {
   "cell_type": "code",
   "execution_count": 6,
   "id": "936da044",
   "metadata": {},
   "outputs": [
    {
     "data": {
      "text/plain": [
       "as_of_year                        0\n",
       "agency_code                       0\n",
       "loan_type                         0\n",
       "property_type                     0\n",
       "loan_purpose                      0\n",
       "owner_occupancy                   0\n",
       "loan_amount_000s                  0\n",
       "preapproval                       0\n",
       "action_taken                      0\n",
       "msamd                             0\n",
       "state_code                        0\n",
       "county_code                       0\n",
       "census_tract_number               0\n",
       "applicant_ethnicity               0\n",
       "co_applicant_ethnicity            0\n",
       "applicant_race_1                  0\n",
       "co_applicant_race_1               0\n",
       "applicant_sex                     0\n",
       "co_applicant_sex                  0\n",
       "applicant_income_000s             0\n",
       "purchaser_type                    0\n",
       "denial_reason_1                   0\n",
       "hoepa_status                      0\n",
       "lien_status                       0\n",
       "population                        0\n",
       "minority_population               0\n",
       "hud_median_family_income          0\n",
       "tract_to_msamd_income             0\n",
       "number_of_owner_occupied_units    0\n",
       "number_of_1_to_4_family_units     0\n",
       "dtype: int64"
      ]
     },
     "execution_count": 6,
     "metadata": {},
     "output_type": "execute_result"
    }
   ],
   "source": [
    "df = df.dropna()\n",
    "df.isnull().sum()"
   ]
  },
  {
   "cell_type": "code",
   "execution_count": 7,
   "id": "485f6b75",
   "metadata": {},
   "outputs": [],
   "source": [
    "# Define features and target\n",
    "y = df[\"action_taken\"]\n",
    "X = df.drop(columns=\"action_taken\")"
   ]
  },
  {
   "cell_type": "code",
   "execution_count": 8,
   "id": "829005ab",
   "metadata": {},
   "outputs": [],
   "source": [
    "# Split data\n",
    "X_train, X_test, y_train, y_test = train_test_split(X, y, random_state=1)"
   ]
  },
  {
   "cell_type": "code",
   "execution_count": 9,
   "id": "715b0e00",
   "metadata": {},
   "outputs": [
    {
     "name": "stderr",
     "output_type": "stream",
     "text": [
      "C:\\Users\\sherr\\anaconda3\\envs\\ml2\\lib\\site-packages\\sklearn\\linear_model\\_logistic.py:818: ConvergenceWarning: lbfgs failed to converge (status=1):\n",
      "STOP: TOTAL NO. of ITERATIONS REACHED LIMIT.\n",
      "\n",
      "Increase the number of iterations (max_iter) or scale the data as shown in:\n",
      "    https://scikit-learn.org/stable/modules/preprocessing.html\n",
      "Please also refer to the documentation for alternative solver options:\n",
      "    https://scikit-learn.org/stable/modules/linear_model.html#logistic-regression\n",
      "  extra_warning_msg=_LOGISTIC_SOLVER_CONVERGENCE_MSG,\n"
     ]
    },
    {
     "data": {
      "text/plain": [
       "LogisticRegression(random_state=1)"
      ]
     },
     "execution_count": 9,
     "metadata": {},
     "output_type": "execute_result"
    }
   ],
   "source": [
    "classifier = LogisticRegression(solver='lbfgs', max_iter=100, random_state=1)\n",
    "classifier.fit(X_train, y_train)"
   ]
  },
  {
   "cell_type": "code",
   "execution_count": 10,
   "id": "fbccb6f1",
   "metadata": {},
   "outputs": [
    {
     "data": {
      "text/html": [
       "<div>\n",
       "<style scoped>\n",
       "    .dataframe tbody tr th:only-of-type {\n",
       "        vertical-align: middle;\n",
       "    }\n",
       "\n",
       "    .dataframe tbody tr th {\n",
       "        vertical-align: top;\n",
       "    }\n",
       "\n",
       "    .dataframe thead th {\n",
       "        text-align: right;\n",
       "    }\n",
       "</style>\n",
       "<table border=\"1\" class=\"dataframe\">\n",
       "  <thead>\n",
       "    <tr style=\"text-align: right;\">\n",
       "      <th></th>\n",
       "      <th>Prediction</th>\n",
       "      <th>Actual</th>\n",
       "    </tr>\n",
       "  </thead>\n",
       "  <tbody>\n",
       "    <tr>\n",
       "      <th>0</th>\n",
       "      <td>1</td>\n",
       "      <td>5</td>\n",
       "    </tr>\n",
       "    <tr>\n",
       "      <th>1</th>\n",
       "      <td>1</td>\n",
       "      <td>1</td>\n",
       "    </tr>\n",
       "    <tr>\n",
       "      <th>2</th>\n",
       "      <td>1</td>\n",
       "      <td>1</td>\n",
       "    </tr>\n",
       "    <tr>\n",
       "      <th>3</th>\n",
       "      <td>1</td>\n",
       "      <td>1</td>\n",
       "    </tr>\n",
       "    <tr>\n",
       "      <th>4</th>\n",
       "      <td>1</td>\n",
       "      <td>3</td>\n",
       "    </tr>\n",
       "  </tbody>\n",
       "</table>\n",
       "</div>"
      ],
      "text/plain": [
       "   Prediction  Actual\n",
       "0           1       5\n",
       "1           1       1\n",
       "2           1       1\n",
       "3           1       1\n",
       "4           1       3"
      ]
     },
     "execution_count": 10,
     "metadata": {},
     "output_type": "execute_result"
    }
   ],
   "source": [
    "y_pred = classifier.predict(X_test)\n",
    "results = pd.DataFrame({\"Prediction\": y_pred, \"Actual\": y_test}).reset_index(drop=True)\n",
    "results.head()"
   ]
  },
  {
   "cell_type": "code",
   "execution_count": 11,
   "id": "e81dc905",
   "metadata": {},
   "outputs": [
    {
     "name": "stdout",
     "output_type": "stream",
     "text": [
      "0.5535902295220047\n"
     ]
    }
   ],
   "source": [
    "print(accuracy_score(y_test, y_pred))"
   ]
  }
 ],
 "metadata": {
  "kernelspec": {
   "display_name": "ml2",
   "language": "python",
   "name": "ml2"
  },
  "language_info": {
   "codemirror_mode": {
    "name": "ipython",
    "version": 3
   },
   "file_extension": ".py",
   "mimetype": "text/x-python",
   "name": "python",
   "nbconvert_exporter": "python",
   "pygments_lexer": "ipython3",
   "version": "3.7.13"
  }
 },
 "nbformat": 4,
 "nbformat_minor": 5
}
